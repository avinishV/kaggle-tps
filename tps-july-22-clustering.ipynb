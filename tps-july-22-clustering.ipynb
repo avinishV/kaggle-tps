{
 "cells": [
  {
   "cell_type": "code",
   "execution_count": 1,
   "id": "a9e1e8e4",
   "metadata": {
    "_cell_guid": "b1076dfc-b9ad-4769-8c92-a6c4dae69d19",
    "_uuid": "8f2839f25d086af736a60e9eeb907d3b93b6e0e5",
    "execution": {
     "iopub.execute_input": "2022-08-03T09:31:39.078829Z",
     "iopub.status.busy": "2022-08-03T09:31:39.077839Z",
     "iopub.status.idle": "2022-08-03T09:31:39.093631Z",
     "shell.execute_reply": "2022-08-03T09:31:39.092655Z"
    },
    "papermill": {
     "duration": 0.041231,
     "end_time": "2022-08-03T09:31:39.096534",
     "exception": false,
     "start_time": "2022-08-03T09:31:39.055303",
     "status": "completed"
    },
    "tags": []
   },
   "outputs": [
    {
     "name": "stdout",
     "output_type": "stream",
     "text": [
      "/kaggle/input/tabular-playground-series-jul-2022/sample_submission.csv\n",
      "/kaggle/input/tabular-playground-series-jul-2022/data.csv\n"
     ]
    }
   ],
   "source": [
    "# This Python 3 environment comes with many helpful analytics libraries installed\n",
    "# It is defined by the kaggle/python Docker image: https://github.com/kaggle/docker-python\n",
    "# For example, here's several helpful packages to load\n",
    "\n",
    "import numpy as np # linear algebra\n",
    "import pandas as pd # data processing, CSV file I/O (e.g. pd.read_csv)\n",
    "\n",
    "# Input data files are available in the read-only \"../input/\" directory\n",
    "# For example, running this (by clicking run or pressing Shift+Enter) will list all files under the input directory\n",
    "\n",
    "import os\n",
    "for dirname, _, filenames in os.walk('/kaggle/input'):\n",
    "    for filename in filenames:\n",
    "        print(os.path.join(dirname, filename))\n",
    "\n",
    "# You can write up to 20GB to the current directory (/kaggle/working/) that gets preserved as output when you create a version using \"Save & Run All\" \n",
    "# You can also write temporary files to /kaggle/temp/, but they won't be saved outside of the current session"
   ]
  },
  {
   "cell_type": "code",
   "execution_count": null,
   "id": "9de61c83",
   "metadata": {
    "execution": {
     "iopub.execute_input": "2022-08-03T09:22:00.626757Z",
     "iopub.status.busy": "2022-08-03T09:22:00.626307Z",
     "iopub.status.idle": "2022-08-03T09:22:00.631585Z",
     "shell.execute_reply": "2022-08-03T09:22:00.630502Z",
     "shell.execute_reply.started": "2022-08-03T09:22:00.626718Z"
    },
    "papermill": {
     "duration": 0.018644,
     "end_time": "2022-08-03T09:31:39.134408",
     "exception": false,
     "start_time": "2022-08-03T09:31:39.115764",
     "status": "completed"
    },
    "tags": []
   },
   "outputs": [],
   "source": []
  },
  {
   "cell_type": "markdown",
   "id": "1676ec2b",
   "metadata": {
    "papermill": {
     "duration": 0.018767,
     "end_time": "2022-08-03T09:31:39.172852",
     "exception": false,
     "start_time": "2022-08-03T09:31:39.154085",
     "status": "completed"
    },
    "tags": []
   },
   "source": [
    "## Do share your feedback"
   ]
  },
  {
   "cell_type": "markdown",
   "id": "535d33a0",
   "metadata": {
    "papermill": {
     "duration": 0.018922,
     "end_time": "2022-08-03T09:31:39.212050",
     "exception": false,
     "start_time": "2022-08-03T09:31:39.193128",
     "status": "completed"
    },
    "tags": []
   },
   "source": [
    "## Idea is to:-\n",
    "1. EDA\n",
    "2. Apply Preprocessing as required (scaling, transformation etc..)\n",
    "3. Fit ML algorithms. Will try to find right cluster size.Start with Kmeans and apply others\n",
    "4. Visualize the clusters"
   ]
  },
  {
   "cell_type": "code",
   "execution_count": 2,
   "id": "804e4e45",
   "metadata": {
    "execution": {
     "iopub.execute_input": "2022-08-03T09:31:39.252742Z",
     "iopub.status.busy": "2022-08-03T09:31:39.251469Z",
     "iopub.status.idle": "2022-08-03T09:31:41.000351Z",
     "shell.execute_reply": "2022-08-03T09:31:40.999076Z"
    },
    "papermill": {
     "duration": 1.772342,
     "end_time": "2022-08-03T09:31:41.003270",
     "exception": false,
     "start_time": "2022-08-03T09:31:39.230928",
     "status": "completed"
    },
    "tags": []
   },
   "outputs": [],
   "source": [
    "#sklearn imports\n",
    "import pandas as pd\n",
    "import numpy as np\n",
    "from sklearn.decomposition import PCA  #Principal Component Analysis\n",
    "from sklearn.manifold import TSNE      #T-Distributed Stochastic Neighbor Embedding\n",
    "from sklearn.cluster import KMeans    \n",
    "from sklearn.mixture import GaussianMixture, BayesianGaussianMixture\n",
    "from sklearn.preprocessing import StandardScaler \n",
    "import sklearn.metrics as metrics\n",
    "from sklearn.metrics import silhouette_score\n",
    "\n",
    "pd.set_option('display.max_columns', 31)\n",
    "\n",
    "\n",
    "#plotly imports\n",
    "import plotly as py\n",
    "import plotly.graph_objs as go\n",
    "from plotly.offline import download_plotlyjs, init_notebook_mode, plot, iplot\n",
    "\n",
    "import seaborn as sns\n",
    "import matplotlib.pyplot as plt\n",
    "%matplotlib inline"
   ]
  },
  {
   "cell_type": "code",
   "execution_count": 3,
   "id": "8e370576",
   "metadata": {
    "execution": {
     "iopub.execute_input": "2022-08-03T09:31:41.043550Z",
     "iopub.status.busy": "2022-08-03T09:31:41.042938Z",
     "iopub.status.idle": "2022-08-03T09:31:42.444326Z",
     "shell.execute_reply": "2022-08-03T09:31:42.443135Z"
    },
    "papermill": {
     "duration": 1.424988,
     "end_time": "2022-08-03T09:31:42.447039",
     "exception": false,
     "start_time": "2022-08-03T09:31:41.022051",
     "status": "completed"
    },
    "tags": []
   },
   "outputs": [
    {
     "data": {
      "text/html": [
       "<div>\n",
       "<style scoped>\n",
       "    .dataframe tbody tr th:only-of-type {\n",
       "        vertical-align: middle;\n",
       "    }\n",
       "\n",
       "    .dataframe tbody tr th {\n",
       "        vertical-align: top;\n",
       "    }\n",
       "\n",
       "    .dataframe thead th {\n",
       "        text-align: right;\n",
       "    }\n",
       "</style>\n",
       "<table border=\"1\" class=\"dataframe\">\n",
       "  <thead>\n",
       "    <tr style=\"text-align: right;\">\n",
       "      <th></th>\n",
       "      <th>id</th>\n",
       "      <th>f_00</th>\n",
       "      <th>f_01</th>\n",
       "      <th>f_02</th>\n",
       "      <th>f_03</th>\n",
       "      <th>f_04</th>\n",
       "      <th>f_05</th>\n",
       "      <th>f_06</th>\n",
       "      <th>f_07</th>\n",
       "      <th>f_08</th>\n",
       "      <th>f_09</th>\n",
       "      <th>f_10</th>\n",
       "      <th>f_11</th>\n",
       "      <th>f_12</th>\n",
       "      <th>f_13</th>\n",
       "      <th>f_14</th>\n",
       "      <th>f_15</th>\n",
       "      <th>f_16</th>\n",
       "      <th>f_17</th>\n",
       "      <th>f_18</th>\n",
       "      <th>f_19</th>\n",
       "      <th>f_20</th>\n",
       "      <th>f_21</th>\n",
       "      <th>f_22</th>\n",
       "      <th>f_23</th>\n",
       "      <th>f_24</th>\n",
       "      <th>f_25</th>\n",
       "      <th>f_26</th>\n",
       "      <th>f_27</th>\n",
       "      <th>f_28</th>\n",
       "    </tr>\n",
       "  </thead>\n",
       "  <tbody>\n",
       "    <tr>\n",
       "      <th>0</th>\n",
       "      <td>0</td>\n",
       "      <td>-0.389420</td>\n",
       "      <td>-0.912791</td>\n",
       "      <td>0.648951</td>\n",
       "      <td>0.589045</td>\n",
       "      <td>-0.830817</td>\n",
       "      <td>0.733624</td>\n",
       "      <td>2.258560</td>\n",
       "      <td>2</td>\n",
       "      <td>13</td>\n",
       "      <td>14</td>\n",
       "      <td>5</td>\n",
       "      <td>13</td>\n",
       "      <td>6</td>\n",
       "      <td>6</td>\n",
       "      <td>-0.469819</td>\n",
       "      <td>0.358126</td>\n",
       "      <td>1.068105</td>\n",
       "      <td>-0.559650</td>\n",
       "      <td>-0.366905</td>\n",
       "      <td>-0.478412</td>\n",
       "      <td>-0.757002</td>\n",
       "      <td>-0.763635</td>\n",
       "      <td>-1.090369</td>\n",
       "      <td>1.142641</td>\n",
       "      <td>-0.884274</td>\n",
       "      <td>1.137896</td>\n",
       "      <td>1.309073</td>\n",
       "      <td>1.463002</td>\n",
       "      <td>0.813527</td>\n",
       "    </tr>\n",
       "    <tr>\n",
       "      <th>1</th>\n",
       "      <td>1</td>\n",
       "      <td>-0.689249</td>\n",
       "      <td>-0.453954</td>\n",
       "      <td>0.654175</td>\n",
       "      <td>0.995248</td>\n",
       "      <td>-1.653020</td>\n",
       "      <td>0.863810</td>\n",
       "      <td>-0.090651</td>\n",
       "      <td>2</td>\n",
       "      <td>3</td>\n",
       "      <td>6</td>\n",
       "      <td>4</td>\n",
       "      <td>6</td>\n",
       "      <td>16</td>\n",
       "      <td>9</td>\n",
       "      <td>0.591035</td>\n",
       "      <td>-0.396915</td>\n",
       "      <td>0.145834</td>\n",
       "      <td>-0.030798</td>\n",
       "      <td>0.471167</td>\n",
       "      <td>-0.428791</td>\n",
       "      <td>-0.089908</td>\n",
       "      <td>-1.784204</td>\n",
       "      <td>-0.839474</td>\n",
       "      <td>0.459685</td>\n",
       "      <td>1.759412</td>\n",
       "      <td>-0.275422</td>\n",
       "      <td>-0.852168</td>\n",
       "      <td>0.562457</td>\n",
       "      <td>-2.680541</td>\n",
       "    </tr>\n",
       "    <tr>\n",
       "      <th>2</th>\n",
       "      <td>2</td>\n",
       "      <td>0.809079</td>\n",
       "      <td>0.324568</td>\n",
       "      <td>-1.170602</td>\n",
       "      <td>-0.624491</td>\n",
       "      <td>0.105448</td>\n",
       "      <td>0.783948</td>\n",
       "      <td>1.988301</td>\n",
       "      <td>5</td>\n",
       "      <td>11</td>\n",
       "      <td>5</td>\n",
       "      <td>8</td>\n",
       "      <td>9</td>\n",
       "      <td>3</td>\n",
       "      <td>11</td>\n",
       "      <td>-0.679875</td>\n",
       "      <td>0.469326</td>\n",
       "      <td>0.349843</td>\n",
       "      <td>-0.288042</td>\n",
       "      <td>0.291470</td>\n",
       "      <td>-0.413534</td>\n",
       "      <td>-1.602377</td>\n",
       "      <td>1.190984</td>\n",
       "      <td>3.267116</td>\n",
       "      <td>-0.088322</td>\n",
       "      <td>-2.168635</td>\n",
       "      <td>-0.974989</td>\n",
       "      <td>1.335763</td>\n",
       "      <td>-1.110655</td>\n",
       "      <td>-3.630723</td>\n",
       "    </tr>\n",
       "    <tr>\n",
       "      <th>3</th>\n",
       "      <td>3</td>\n",
       "      <td>-0.500923</td>\n",
       "      <td>0.229049</td>\n",
       "      <td>0.264109</td>\n",
       "      <td>0.231520</td>\n",
       "      <td>0.415012</td>\n",
       "      <td>-1.221269</td>\n",
       "      <td>0.138850</td>\n",
       "      <td>6</td>\n",
       "      <td>2</td>\n",
       "      <td>13</td>\n",
       "      <td>8</td>\n",
       "      <td>9</td>\n",
       "      <td>6</td>\n",
       "      <td>4</td>\n",
       "      <td>-0.389456</td>\n",
       "      <td>0.626762</td>\n",
       "      <td>-1.074543</td>\n",
       "      <td>-1.521753</td>\n",
       "      <td>-1.150806</td>\n",
       "      <td>0.619283</td>\n",
       "      <td>1.287801</td>\n",
       "      <td>0.532837</td>\n",
       "      <td>1.036631</td>\n",
       "      <td>-2.041828</td>\n",
       "      <td>1.440490</td>\n",
       "      <td>-1.900191</td>\n",
       "      <td>-0.630771</td>\n",
       "      <td>-0.050641</td>\n",
       "      <td>0.238333</td>\n",
       "    </tr>\n",
       "    <tr>\n",
       "      <th>4</th>\n",
       "      <td>4</td>\n",
       "      <td>-0.671268</td>\n",
       "      <td>-1.039533</td>\n",
       "      <td>-0.270155</td>\n",
       "      <td>-1.830264</td>\n",
       "      <td>-0.290108</td>\n",
       "      <td>-1.852809</td>\n",
       "      <td>0.781898</td>\n",
       "      <td>8</td>\n",
       "      <td>7</td>\n",
       "      <td>5</td>\n",
       "      <td>3</td>\n",
       "      <td>1</td>\n",
       "      <td>13</td>\n",
       "      <td>11</td>\n",
       "      <td>-0.120743</td>\n",
       "      <td>-0.615578</td>\n",
       "      <td>-1.064359</td>\n",
       "      <td>0.444142</td>\n",
       "      <td>0.428327</td>\n",
       "      <td>-1.628830</td>\n",
       "      <td>-0.434948</td>\n",
       "      <td>0.322505</td>\n",
       "      <td>0.284326</td>\n",
       "      <td>-2.438365</td>\n",
       "      <td>1.473930</td>\n",
       "      <td>-1.044684</td>\n",
       "      <td>1.602686</td>\n",
       "      <td>-0.405263</td>\n",
       "      <td>-1.987263</td>\n",
       "    </tr>\n",
       "  </tbody>\n",
       "</table>\n",
       "</div>"
      ],
      "text/plain": [
       "   id      f_00      f_01      f_02      f_03      f_04      f_05      f_06  \\\n",
       "0   0 -0.389420 -0.912791  0.648951  0.589045 -0.830817  0.733624  2.258560   \n",
       "1   1 -0.689249 -0.453954  0.654175  0.995248 -1.653020  0.863810 -0.090651   \n",
       "2   2  0.809079  0.324568 -1.170602 -0.624491  0.105448  0.783948  1.988301   \n",
       "3   3 -0.500923  0.229049  0.264109  0.231520  0.415012 -1.221269  0.138850   \n",
       "4   4 -0.671268 -1.039533 -0.270155 -1.830264 -0.290108 -1.852809  0.781898   \n",
       "\n",
       "   f_07  f_08  f_09  f_10  f_11  f_12  f_13      f_14      f_15      f_16  \\\n",
       "0     2    13    14     5    13     6     6 -0.469819  0.358126  1.068105   \n",
       "1     2     3     6     4     6    16     9  0.591035 -0.396915  0.145834   \n",
       "2     5    11     5     8     9     3    11 -0.679875  0.469326  0.349843   \n",
       "3     6     2    13     8     9     6     4 -0.389456  0.626762 -1.074543   \n",
       "4     8     7     5     3     1    13    11 -0.120743 -0.615578 -1.064359   \n",
       "\n",
       "       f_17      f_18      f_19      f_20      f_21      f_22      f_23  \\\n",
       "0 -0.559650 -0.366905 -0.478412 -0.757002 -0.763635 -1.090369  1.142641   \n",
       "1 -0.030798  0.471167 -0.428791 -0.089908 -1.784204 -0.839474  0.459685   \n",
       "2 -0.288042  0.291470 -0.413534 -1.602377  1.190984  3.267116 -0.088322   \n",
       "3 -1.521753 -1.150806  0.619283  1.287801  0.532837  1.036631 -2.041828   \n",
       "4  0.444142  0.428327 -1.628830 -0.434948  0.322505  0.284326 -2.438365   \n",
       "\n",
       "       f_24      f_25      f_26      f_27      f_28  \n",
       "0 -0.884274  1.137896  1.309073  1.463002  0.813527  \n",
       "1  1.759412 -0.275422 -0.852168  0.562457 -2.680541  \n",
       "2 -2.168635 -0.974989  1.335763 -1.110655 -3.630723  \n",
       "3  1.440490 -1.900191 -0.630771 -0.050641  0.238333  \n",
       "4  1.473930 -1.044684  1.602686 -0.405263 -1.987263  "
      ]
     },
     "execution_count": 3,
     "metadata": {},
     "output_type": "execute_result"
    }
   ],
   "source": [
    "df_org = pd.read_csv(\"/kaggle/input/tabular-playground-series-jul-2022/data.csv\")\n",
    "df_org.head()"
   ]
  },
  {
   "cell_type": "code",
   "execution_count": 4,
   "id": "0bd38eb9",
   "metadata": {
    "execution": {
     "iopub.execute_input": "2022-08-03T09:31:42.488659Z",
     "iopub.status.busy": "2022-08-03T09:31:42.488191Z",
     "iopub.status.idle": "2022-08-03T09:31:42.524996Z",
     "shell.execute_reply": "2022-08-03T09:31:42.522373Z"
    },
    "papermill": {
     "duration": 0.060756,
     "end_time": "2022-08-03T09:31:42.528042",
     "exception": false,
     "start_time": "2022-08-03T09:31:42.467286",
     "status": "completed"
    },
    "tags": []
   },
   "outputs": [
    {
     "name": "stdout",
     "output_type": "stream",
     "text": [
      "<class 'pandas.core.frame.DataFrame'>\n",
      "RangeIndex: 98000 entries, 0 to 97999\n",
      "Data columns (total 30 columns):\n",
      " #   Column  Non-Null Count  Dtype  \n",
      "---  ------  --------------  -----  \n",
      " 0   id      98000 non-null  int64  \n",
      " 1   f_00    98000 non-null  float64\n",
      " 2   f_01    98000 non-null  float64\n",
      " 3   f_02    98000 non-null  float64\n",
      " 4   f_03    98000 non-null  float64\n",
      " 5   f_04    98000 non-null  float64\n",
      " 6   f_05    98000 non-null  float64\n",
      " 7   f_06    98000 non-null  float64\n",
      " 8   f_07    98000 non-null  int64  \n",
      " 9   f_08    98000 non-null  int64  \n",
      " 10  f_09    98000 non-null  int64  \n",
      " 11  f_10    98000 non-null  int64  \n",
      " 12  f_11    98000 non-null  int64  \n",
      " 13  f_12    98000 non-null  int64  \n",
      " 14  f_13    98000 non-null  int64  \n",
      " 15  f_14    98000 non-null  float64\n",
      " 16  f_15    98000 non-null  float64\n",
      " 17  f_16    98000 non-null  float64\n",
      " 18  f_17    98000 non-null  float64\n",
      " 19  f_18    98000 non-null  float64\n",
      " 20  f_19    98000 non-null  float64\n",
      " 21  f_20    98000 non-null  float64\n",
      " 22  f_21    98000 non-null  float64\n",
      " 23  f_22    98000 non-null  float64\n",
      " 24  f_23    98000 non-null  float64\n",
      " 25  f_24    98000 non-null  float64\n",
      " 26  f_25    98000 non-null  float64\n",
      " 27  f_26    98000 non-null  float64\n",
      " 28  f_27    98000 non-null  float64\n",
      " 29  f_28    98000 non-null  float64\n",
      "dtypes: float64(22), int64(8)\n",
      "memory usage: 22.4 MB\n"
     ]
    }
   ],
   "source": [
    "df_org.info()"
   ]
  },
  {
   "cell_type": "code",
   "execution_count": 5,
   "id": "2ae260dd",
   "metadata": {
    "execution": {
     "iopub.execute_input": "2022-08-03T09:31:42.568601Z",
     "iopub.status.busy": "2022-08-03T09:31:42.568149Z",
     "iopub.status.idle": "2022-08-03T09:31:42.800238Z",
     "shell.execute_reply": "2022-08-03T09:31:42.798958Z"
    },
    "papermill": {
     "duration": 0.255675,
     "end_time": "2022-08-03T09:31:42.803115",
     "exception": false,
     "start_time": "2022-08-03T09:31:42.547440",
     "status": "completed"
    },
    "tags": []
   },
   "outputs": [
    {
     "data": {
      "text/html": [
       "<div>\n",
       "<style scoped>\n",
       "    .dataframe tbody tr th:only-of-type {\n",
       "        vertical-align: middle;\n",
       "    }\n",
       "\n",
       "    .dataframe tbody tr th {\n",
       "        vertical-align: top;\n",
       "    }\n",
       "\n",
       "    .dataframe thead th {\n",
       "        text-align: right;\n",
       "    }\n",
       "</style>\n",
       "<table border=\"1\" class=\"dataframe\">\n",
       "  <thead>\n",
       "    <tr style=\"text-align: right;\">\n",
       "      <th></th>\n",
       "      <th>id</th>\n",
       "      <th>f_00</th>\n",
       "      <th>f_01</th>\n",
       "      <th>f_02</th>\n",
       "      <th>f_03</th>\n",
       "      <th>f_04</th>\n",
       "      <th>f_05</th>\n",
       "      <th>f_06</th>\n",
       "      <th>f_07</th>\n",
       "      <th>f_08</th>\n",
       "      <th>f_09</th>\n",
       "      <th>f_10</th>\n",
       "      <th>f_11</th>\n",
       "      <th>f_12</th>\n",
       "      <th>f_13</th>\n",
       "      <th>f_14</th>\n",
       "      <th>f_15</th>\n",
       "      <th>f_16</th>\n",
       "      <th>f_17</th>\n",
       "      <th>f_18</th>\n",
       "      <th>f_19</th>\n",
       "      <th>f_20</th>\n",
       "      <th>f_21</th>\n",
       "      <th>f_22</th>\n",
       "      <th>f_23</th>\n",
       "      <th>f_24</th>\n",
       "      <th>f_25</th>\n",
       "      <th>f_26</th>\n",
       "      <th>f_27</th>\n",
       "      <th>f_28</th>\n",
       "    </tr>\n",
       "  </thead>\n",
       "  <tbody>\n",
       "    <tr>\n",
       "      <th>count</th>\n",
       "      <td>98000.000000</td>\n",
       "      <td>98000.000000</td>\n",
       "      <td>98000.000000</td>\n",
       "      <td>98000.000000</td>\n",
       "      <td>98000.000000</td>\n",
       "      <td>98000.000000</td>\n",
       "      <td>98000.000000</td>\n",
       "      <td>98000.000000</td>\n",
       "      <td>98000.000000</td>\n",
       "      <td>98000.000000</td>\n",
       "      <td>98000.000000</td>\n",
       "      <td>98000.000000</td>\n",
       "      <td>98000.000000</td>\n",
       "      <td>98000.000000</td>\n",
       "      <td>98000.000000</td>\n",
       "      <td>98000.000000</td>\n",
       "      <td>98000.000000</td>\n",
       "      <td>98000.000000</td>\n",
       "      <td>98000.000000</td>\n",
       "      <td>98000.000000</td>\n",
       "      <td>98000.000000</td>\n",
       "      <td>98000.000000</td>\n",
       "      <td>98000.000000</td>\n",
       "      <td>98000.000000</td>\n",
       "      <td>98000.000000</td>\n",
       "      <td>98000.000000</td>\n",
       "      <td>98000.000000</td>\n",
       "      <td>98000.000000</td>\n",
       "      <td>98000.000000</td>\n",
       "      <td>98000.000000</td>\n",
       "    </tr>\n",
       "    <tr>\n",
       "      <th>mean</th>\n",
       "      <td>48999.500000</td>\n",
       "      <td>0.001220</td>\n",
       "      <td>0.005580</td>\n",
       "      <td>-0.001042</td>\n",
       "      <td>-0.000700</td>\n",
       "      <td>-0.003522</td>\n",
       "      <td>-0.001612</td>\n",
       "      <td>-0.003042</td>\n",
       "      <td>5.545918</td>\n",
       "      <td>6.763061</td>\n",
       "      <td>8.193163</td>\n",
       "      <td>8.057878</td>\n",
       "      <td>8.084990</td>\n",
       "      <td>7.076388</td>\n",
       "      <td>6.286102</td>\n",
       "      <td>0.003413</td>\n",
       "      <td>-0.002639</td>\n",
       "      <td>0.005404</td>\n",
       "      <td>0.001656</td>\n",
       "      <td>-0.005399</td>\n",
       "      <td>-0.004513</td>\n",
       "      <td>-0.000515</td>\n",
       "      <td>-0.001670</td>\n",
       "      <td>-0.038752</td>\n",
       "      <td>-0.220002</td>\n",
       "      <td>0.166434</td>\n",
       "      <td>-0.064309</td>\n",
       "      <td>-0.062540</td>\n",
       "      <td>0.098472</td>\n",
       "      <td>-0.230910</td>\n",
       "    </tr>\n",
       "    <tr>\n",
       "      <th>std</th>\n",
       "      <td>28290.307527</td>\n",
       "      <td>1.002801</td>\n",
       "      <td>1.000742</td>\n",
       "      <td>1.001373</td>\n",
       "      <td>1.000422</td>\n",
       "      <td>1.003061</td>\n",
       "      <td>1.000532</td>\n",
       "      <td>0.997434</td>\n",
       "      <td>3.691840</td>\n",
       "      <td>4.152348</td>\n",
       "      <td>5.904919</td>\n",
       "      <td>4.700226</td>\n",
       "      <td>4.197106</td>\n",
       "      <td>4.433308</td>\n",
       "      <td>4.120077</td>\n",
       "      <td>0.998940</td>\n",
       "      <td>1.001096</td>\n",
       "      <td>1.003277</td>\n",
       "      <td>1.001258</td>\n",
       "      <td>0.995965</td>\n",
       "      <td>1.004372</td>\n",
       "      <td>1.002962</td>\n",
       "      <td>0.999703</td>\n",
       "      <td>1.477858</td>\n",
       "      <td>1.494836</td>\n",
       "      <td>1.543014</td>\n",
       "      <td>1.576086</td>\n",
       "      <td>1.428055</td>\n",
       "      <td>1.305407</td>\n",
       "      <td>1.528476</td>\n",
       "    </tr>\n",
       "    <tr>\n",
       "      <th>min</th>\n",
       "      <td>0.000000</td>\n",
       "      <td>-4.732235</td>\n",
       "      <td>-4.202795</td>\n",
       "      <td>-4.377021</td>\n",
       "      <td>-4.010826</td>\n",
       "      <td>-4.535903</td>\n",
       "      <td>-4.300767</td>\n",
       "      <td>-4.894525</td>\n",
       "      <td>0.000000</td>\n",
       "      <td>0.000000</td>\n",
       "      <td>0.000000</td>\n",
       "      <td>0.000000</td>\n",
       "      <td>0.000000</td>\n",
       "      <td>0.000000</td>\n",
       "      <td>0.000000</td>\n",
       "      <td>-4.377021</td>\n",
       "      <td>-4.535903</td>\n",
       "      <td>-4.182233</td>\n",
       "      <td>-4.468930</td>\n",
       "      <td>-4.149688</td>\n",
       "      <td>-4.894525</td>\n",
       "      <td>-4.732235</td>\n",
       "      <td>-4.438130</td>\n",
       "      <td>-6.873999</td>\n",
       "      <td>-8.234305</td>\n",
       "      <td>-7.792363</td>\n",
       "      <td>-6.593842</td>\n",
       "      <td>-7.375719</td>\n",
       "      <td>-7.335556</td>\n",
       "      <td>-6.954151</td>\n",
       "    </tr>\n",
       "    <tr>\n",
       "      <th>25%</th>\n",
       "      <td>24499.750000</td>\n",
       "      <td>-0.675226</td>\n",
       "      <td>-0.670985</td>\n",
       "      <td>-0.672779</td>\n",
       "      <td>-0.672540</td>\n",
       "      <td>-0.682510</td>\n",
       "      <td>-0.675066</td>\n",
       "      <td>-0.680421</td>\n",
       "      <td>3.000000</td>\n",
       "      <td>4.000000</td>\n",
       "      <td>4.000000</td>\n",
       "      <td>5.000000</td>\n",
       "      <td>5.000000</td>\n",
       "      <td>4.000000</td>\n",
       "      <td>3.000000</td>\n",
       "      <td>-0.671810</td>\n",
       "      <td>-0.677757</td>\n",
       "      <td>-0.671055</td>\n",
       "      <td>-0.672635</td>\n",
       "      <td>-0.680243</td>\n",
       "      <td>-0.678773</td>\n",
       "      <td>-0.679777</td>\n",
       "      <td>-0.675147</td>\n",
       "      <td>-1.022964</td>\n",
       "      <td>-1.203204</td>\n",
       "      <td>-0.903385</td>\n",
       "      <td>-1.128966</td>\n",
       "      <td>-0.975680</td>\n",
       "      <td>-0.746489</td>\n",
       "      <td>-1.262606</td>\n",
       "    </tr>\n",
       "    <tr>\n",
       "      <th>50%</th>\n",
       "      <td>48999.500000</td>\n",
       "      <td>0.002022</td>\n",
       "      <td>0.006650</td>\n",
       "      <td>-0.000324</td>\n",
       "      <td>-0.003185</td>\n",
       "      <td>-0.003307</td>\n",
       "      <td>0.001024</td>\n",
       "      <td>-0.002053</td>\n",
       "      <td>5.000000</td>\n",
       "      <td>6.000000</td>\n",
       "      <td>7.000000</td>\n",
       "      <td>7.000000</td>\n",
       "      <td>8.000000</td>\n",
       "      <td>6.000000</td>\n",
       "      <td>6.000000</td>\n",
       "      <td>0.003536</td>\n",
       "      <td>-0.004299</td>\n",
       "      <td>0.006535</td>\n",
       "      <td>0.001663</td>\n",
       "      <td>-0.001574</td>\n",
       "      <td>-0.000587</td>\n",
       "      <td>-0.000806</td>\n",
       "      <td>0.000819</td>\n",
       "      <td>-0.056687</td>\n",
       "      <td>-0.219046</td>\n",
       "      <td>0.167074</td>\n",
       "      <td>-0.099221</td>\n",
       "      <td>-0.070852</td>\n",
       "      <td>0.082230</td>\n",
       "      <td>-0.271319</td>\n",
       "    </tr>\n",
       "    <tr>\n",
       "      <th>75%</th>\n",
       "      <td>73499.250000</td>\n",
       "      <td>0.677271</td>\n",
       "      <td>0.677746</td>\n",
       "      <td>0.677086</td>\n",
       "      <td>0.672097</td>\n",
       "      <td>0.677589</td>\n",
       "      <td>0.673344</td>\n",
       "      <td>0.668112</td>\n",
       "      <td>8.000000</td>\n",
       "      <td>9.000000</td>\n",
       "      <td>11.000000</td>\n",
       "      <td>11.000000</td>\n",
       "      <td>11.000000</td>\n",
       "      <td>10.000000</td>\n",
       "      <td>9.000000</td>\n",
       "      <td>0.678679</td>\n",
       "      <td>0.673859</td>\n",
       "      <td>0.680903</td>\n",
       "      <td>0.673174</td>\n",
       "      <td>0.666996</td>\n",
       "      <td>0.672149</td>\n",
       "      <td>0.675437</td>\n",
       "      <td>0.676881</td>\n",
       "      <td>0.930158</td>\n",
       "      <td>0.764690</td>\n",
       "      <td>1.217432</td>\n",
       "      <td>0.987684</td>\n",
       "      <td>0.843212</td>\n",
       "      <td>0.925306</td>\n",
       "      <td>0.770516</td>\n",
       "    </tr>\n",
       "    <tr>\n",
       "      <th>max</th>\n",
       "      <td>97999.000000</td>\n",
       "      <td>4.490521</td>\n",
       "      <td>4.324974</td>\n",
       "      <td>4.560247</td>\n",
       "      <td>4.399373</td>\n",
       "      <td>4.050549</td>\n",
       "      <td>4.710316</td>\n",
       "      <td>3.998595</td>\n",
       "      <td>32.000000</td>\n",
       "      <td>30.000000</td>\n",
       "      <td>44.000000</td>\n",
       "      <td>36.000000</td>\n",
       "      <td>28.000000</td>\n",
       "      <td>38.000000</td>\n",
       "      <td>30.000000</td>\n",
       "      <td>4.490521</td>\n",
       "      <td>4.270708</td>\n",
       "      <td>4.157538</td>\n",
       "      <td>4.230849</td>\n",
       "      <td>4.710316</td>\n",
       "      <td>4.560247</td>\n",
       "      <td>4.399373</td>\n",
       "      <td>4.135419</td>\n",
       "      <td>6.517721</td>\n",
       "      <td>6.054831</td>\n",
       "      <td>7.527271</td>\n",
       "      <td>7.544731</td>\n",
       "      <td>7.005608</td>\n",
       "      <td>7.205971</td>\n",
       "      <td>6.977150</td>\n",
       "    </tr>\n",
       "  </tbody>\n",
       "</table>\n",
       "</div>"
      ],
      "text/plain": [
       "                 id          f_00          f_01          f_02          f_03  \\\n",
       "count  98000.000000  98000.000000  98000.000000  98000.000000  98000.000000   \n",
       "mean   48999.500000      0.001220      0.005580     -0.001042     -0.000700   \n",
       "std    28290.307527      1.002801      1.000742      1.001373      1.000422   \n",
       "min        0.000000     -4.732235     -4.202795     -4.377021     -4.010826   \n",
       "25%    24499.750000     -0.675226     -0.670985     -0.672779     -0.672540   \n",
       "50%    48999.500000      0.002022      0.006650     -0.000324     -0.003185   \n",
       "75%    73499.250000      0.677271      0.677746      0.677086      0.672097   \n",
       "max    97999.000000      4.490521      4.324974      4.560247      4.399373   \n",
       "\n",
       "               f_04          f_05          f_06          f_07          f_08  \\\n",
       "count  98000.000000  98000.000000  98000.000000  98000.000000  98000.000000   \n",
       "mean      -0.003522     -0.001612     -0.003042      5.545918      6.763061   \n",
       "std        1.003061      1.000532      0.997434      3.691840      4.152348   \n",
       "min       -4.535903     -4.300767     -4.894525      0.000000      0.000000   \n",
       "25%       -0.682510     -0.675066     -0.680421      3.000000      4.000000   \n",
       "50%       -0.003307      0.001024     -0.002053      5.000000      6.000000   \n",
       "75%        0.677589      0.673344      0.668112      8.000000      9.000000   \n",
       "max        4.050549      4.710316      3.998595     32.000000     30.000000   \n",
       "\n",
       "               f_09          f_10          f_11          f_12          f_13  \\\n",
       "count  98000.000000  98000.000000  98000.000000  98000.000000  98000.000000   \n",
       "mean       8.193163      8.057878      8.084990      7.076388      6.286102   \n",
       "std        5.904919      4.700226      4.197106      4.433308      4.120077   \n",
       "min        0.000000      0.000000      0.000000      0.000000      0.000000   \n",
       "25%        4.000000      5.000000      5.000000      4.000000      3.000000   \n",
       "50%        7.000000      7.000000      8.000000      6.000000      6.000000   \n",
       "75%       11.000000     11.000000     11.000000     10.000000      9.000000   \n",
       "max       44.000000     36.000000     28.000000     38.000000     30.000000   \n",
       "\n",
       "               f_14          f_15          f_16          f_17          f_18  \\\n",
       "count  98000.000000  98000.000000  98000.000000  98000.000000  98000.000000   \n",
       "mean       0.003413     -0.002639      0.005404      0.001656     -0.005399   \n",
       "std        0.998940      1.001096      1.003277      1.001258      0.995965   \n",
       "min       -4.377021     -4.535903     -4.182233     -4.468930     -4.149688   \n",
       "25%       -0.671810     -0.677757     -0.671055     -0.672635     -0.680243   \n",
       "50%        0.003536     -0.004299      0.006535      0.001663     -0.001574   \n",
       "75%        0.678679      0.673859      0.680903      0.673174      0.666996   \n",
       "max        4.490521      4.270708      4.157538      4.230849      4.710316   \n",
       "\n",
       "               f_19          f_20          f_21          f_22          f_23  \\\n",
       "count  98000.000000  98000.000000  98000.000000  98000.000000  98000.000000   \n",
       "mean      -0.004513     -0.000515     -0.001670     -0.038752     -0.220002   \n",
       "std        1.004372      1.002962      0.999703      1.477858      1.494836   \n",
       "min       -4.894525     -4.732235     -4.438130     -6.873999     -8.234305   \n",
       "25%       -0.678773     -0.679777     -0.675147     -1.022964     -1.203204   \n",
       "50%       -0.000587     -0.000806      0.000819     -0.056687     -0.219046   \n",
       "75%        0.672149      0.675437      0.676881      0.930158      0.764690   \n",
       "max        4.560247      4.399373      4.135419      6.517721      6.054831   \n",
       "\n",
       "               f_24          f_25          f_26          f_27          f_28  \n",
       "count  98000.000000  98000.000000  98000.000000  98000.000000  98000.000000  \n",
       "mean       0.166434     -0.064309     -0.062540      0.098472     -0.230910  \n",
       "std        1.543014      1.576086      1.428055      1.305407      1.528476  \n",
       "min       -7.792363     -6.593842     -7.375719     -7.335556     -6.954151  \n",
       "25%       -0.903385     -1.128966     -0.975680     -0.746489     -1.262606  \n",
       "50%        0.167074     -0.099221     -0.070852      0.082230     -0.271319  \n",
       "75%        1.217432      0.987684      0.843212      0.925306      0.770516  \n",
       "max        7.527271      7.544731      7.005608      7.205971      6.977150  "
      ]
     },
     "execution_count": 5,
     "metadata": {},
     "output_type": "execute_result"
    }
   ],
   "source": [
    "df_org.describe()"
   ]
  },
  {
   "cell_type": "code",
   "execution_count": 6,
   "id": "aea77539",
   "metadata": {
    "execution": {
     "iopub.execute_input": "2022-08-03T09:31:42.844845Z",
     "iopub.status.busy": "2022-08-03T09:31:42.844419Z",
     "iopub.status.idle": "2022-08-03T09:31:43.265355Z",
     "shell.execute_reply": "2022-08-03T09:31:43.264096Z"
    },
    "papermill": {
     "duration": 0.445735,
     "end_time": "2022-08-03T09:31:43.268726",
     "exception": false,
     "start_time": "2022-08-03T09:31:42.822991",
     "status": "completed"
    },
    "tags": []
   },
   "outputs": [
    {
     "data": {
      "text/html": [
       "<style type=\"text/css\">\n",
       "#T_18351_row0_col0, #T_18351_row1_col1, #T_18351_row2_col2, #T_18351_row3_col3, #T_18351_row4_col4, #T_18351_row5_col5, #T_18351_row6_col6, #T_18351_row7_col7, #T_18351_row8_col8, #T_18351_row9_col9, #T_18351_row10_col10, #T_18351_row11_col11, #T_18351_row12_col12, #T_18351_row13_col13, #T_18351_row14_col14, #T_18351_row15_col15, #T_18351_row16_col16, #T_18351_row17_col17, #T_18351_row18_col18, #T_18351_row19_col19, #T_18351_row20_col20, #T_18351_row21_col21, #T_18351_row22_col22, #T_18351_row23_col23, #T_18351_row24_col24, #T_18351_row25_col25, #T_18351_row26_col26, #T_18351_row27_col27, #T_18351_row28_col28, #T_18351_row29_col29 {\n",
       "  background-color: #b40426;\n",
       "  color: #f1f1f1;\n",
       "}\n",
       "#T_18351_row0_col1, #T_18351_row0_col3, #T_18351_row0_col7, #T_18351_row0_col16, #T_18351_row0_col19, #T_18351_row0_col21, #T_18351_row0_col22, #T_18351_row1_col2, #T_18351_row1_col3, #T_18351_row1_col4, #T_18351_row1_col6, #T_18351_row1_col15, #T_18351_row1_col17, #T_18351_row1_col19, #T_18351_row1_col20, #T_18351_row2_col3, #T_18351_row2_col16, #T_18351_row2_col18, #T_18351_row3_col0, #T_18351_row3_col1, #T_18351_row3_col17, #T_18351_row3_col18, #T_18351_row4_col0, #T_18351_row4_col1, #T_18351_row4_col2, #T_18351_row4_col5, #T_18351_row4_col16, #T_18351_row4_col20, #T_18351_row5_col0, #T_18351_row5_col2, #T_18351_row5_col3, #T_18351_row5_col4, #T_18351_row5_col17, #T_18351_row5_col18, #T_18351_row5_col19, #T_18351_row5_col20, #T_18351_row5_col21, #T_18351_row5_col22, #T_18351_row6_col1, #T_18351_row6_col2, #T_18351_row6_col21, #T_18351_row6_col22, #T_18351_row7_col0, #T_18351_row7_col1, #T_18351_row7_col15, #T_18351_row7_col21, #T_18351_row7_col22, #T_18351_row8_col3, #T_18351_row8_col4, #T_18351_row8_col6, #T_18351_row8_col7, #T_18351_row8_col16, #T_18351_row8_col18, #T_18351_row9_col0, #T_18351_row9_col4, #T_18351_row9_col15, #T_18351_row9_col16, #T_18351_row9_col18, #T_18351_row9_col19, #T_18351_row9_col21, #T_18351_row9_col22, #T_18351_row10_col4, #T_18351_row10_col5, #T_18351_row10_col16, #T_18351_row10_col17, #T_18351_row10_col18, #T_18351_row10_col19, #T_18351_row10_col20, #T_18351_row11_col0, #T_18351_row11_col1, #T_18351_row11_col6, #T_18351_row11_col16, #T_18351_row11_col19, #T_18351_row11_col20, #T_18351_row11_col21, #T_18351_row12_col2, #T_18351_row12_col3, #T_18351_row12_col5, #T_18351_row12_col15, #T_18351_row12_col16, #T_18351_row12_col19, #T_18351_row12_col21, #T_18351_row12_col22, #T_18351_row13_col5, #T_18351_row13_col7, #T_18351_row13_col15, #T_18351_row13_col16, #T_18351_row13_col19, #T_18351_row13_col21, #T_18351_row13_col22, #T_18351_row14_col3, #T_18351_row14_col7, #T_18351_row14_col15, #T_18351_row14_col19, #T_18351_row14_col20, #T_18351_row15_col3, #T_18351_row15_col5, #T_18351_row15_col6, #T_18351_row15_col7, #T_18351_row15_col16, #T_18351_row15_col18, #T_18351_row15_col20, #T_18351_row15_col21, #T_18351_row16_col0, #T_18351_row16_col2, #T_18351_row16_col4, #T_18351_row16_col18, #T_18351_row17_col4, #T_18351_row17_col6, #T_18351_row17_col20, #T_18351_row17_col21, #T_18351_row18_col0, #T_18351_row18_col2, #T_18351_row18_col15, #T_18351_row18_col16, #T_18351_row18_col19, #T_18351_row18_col20, #T_18351_row19_col0, #T_18351_row19_col4, #T_18351_row19_col5, #T_18351_row19_col6, #T_18351_row19_col18, #T_18351_row19_col20, #T_18351_row20_col1, #T_18351_row20_col2, #T_18351_row20_col4, #T_18351_row20_col5, #T_18351_row20_col15, #T_18351_row20_col19, #T_18351_row20_col21, #T_18351_row21_col0, #T_18351_row21_col1, #T_18351_row21_col2, #T_18351_row21_col3, #T_18351_row21_col5, #T_18351_row21_col6, #T_18351_row21_col7, #T_18351_row21_col15, #T_18351_row21_col20, #T_18351_row22_col3, #T_18351_row22_col16, #T_18351_row22_col19, #T_18351_row23_col0, #T_18351_row23_col2, #T_18351_row23_col4, #T_18351_row23_col5, #T_18351_row23_col6, #T_18351_row23_col7, #T_18351_row23_col15, #T_18351_row23_col18, #T_18351_row23_col19, #T_18351_row23_col21, #T_18351_row23_col22, #T_18351_row24_col0, #T_18351_row24_col3, #T_18351_row24_col4, #T_18351_row24_col17, #T_18351_row24_col18, #T_18351_row24_col20, #T_18351_row24_col21, #T_18351_row24_col22, #T_18351_row25_col0, #T_18351_row25_col1, #T_18351_row25_col6, #T_18351_row25_col18, #T_18351_row25_col20, #T_18351_row25_col21, #T_18351_row25_col22, #T_18351_row26_col2, #T_18351_row26_col3, #T_18351_row26_col4, #T_18351_row26_col6, #T_18351_row26_col16, #T_18351_row26_col19, #T_18351_row26_col21, #T_18351_row27_col0, #T_18351_row27_col1, #T_18351_row27_col2, #T_18351_row27_col4, #T_18351_row27_col5, #T_18351_row27_col7, #T_18351_row27_col15, #T_18351_row27_col19, #T_18351_row27_col20, #T_18351_row27_col22, #T_18351_row28_col1, #T_18351_row28_col2, #T_18351_row28_col3, #T_18351_row28_col4, #T_18351_row28_col5, #T_18351_row28_col15, #T_18351_row29_col0, #T_18351_row29_col1, #T_18351_row29_col3, #T_18351_row29_col4, #T_18351_row29_col6, #T_18351_row29_col7, #T_18351_row29_col19, #T_18351_row29_col20, #T_18351_row29_col21 {\n",
       "  background-color: #3c4ec2;\n",
       "  color: #f1f1f1;\n",
       "}\n",
       "#T_18351_row0_col2, #T_18351_row0_col5, #T_18351_row0_col6, #T_18351_row0_col15, #T_18351_row0_col20, #T_18351_row2_col0, #T_18351_row2_col1, #T_18351_row2_col4, #T_18351_row2_col5, #T_18351_row2_col6, #T_18351_row2_col15, #T_18351_row2_col20, #T_18351_row2_col21, #T_18351_row3_col4, #T_18351_row3_col5, #T_18351_row3_col6, #T_18351_row3_col20, #T_18351_row4_col3, #T_18351_row4_col21, #T_18351_row5_col16, #T_18351_row6_col0, #T_18351_row6_col3, #T_18351_row6_col16, #T_18351_row6_col18, #T_18351_row7_col19, #T_18351_row7_col20, #T_18351_row8_col0, #T_18351_row8_col1, #T_18351_row8_col19, #T_18351_row8_col21, #T_18351_row9_col1, #T_18351_row9_col5, #T_18351_row9_col6, #T_18351_row9_col7, #T_18351_row9_col10, #T_18351_row9_col17, #T_18351_row10_col0, #T_18351_row10_col1, #T_18351_row10_col3, #T_18351_row10_col6, #T_18351_row10_col9, #T_18351_row10_col13, #T_18351_row10_col14, #T_18351_row10_col23, #T_18351_row10_col27, #T_18351_row10_col28, #T_18351_row11_col4, #T_18351_row11_col5, #T_18351_row11_col7, #T_18351_row11_col12, #T_18351_row11_col14, #T_18351_row11_col15, #T_18351_row11_col17, #T_18351_row11_col18, #T_18351_row12_col1, #T_18351_row12_col6, #T_18351_row12_col7, #T_18351_row13_col0, #T_18351_row13_col2, #T_18351_row13_col4, #T_18351_row13_col6, #T_18351_row13_col8, #T_18351_row13_col18, #T_18351_row13_col20, #T_18351_row14_col0, #T_18351_row14_col1, #T_18351_row14_col2, #T_18351_row14_col4, #T_18351_row14_col5, #T_18351_row14_col6, #T_18351_row14_col11, #T_18351_row14_col16, #T_18351_row14_col22, #T_18351_row15_col0, #T_18351_row15_col1, #T_18351_row15_col2, #T_18351_row16_col5, #T_18351_row16_col6, #T_18351_row16_col20, #T_18351_row16_col21, #T_18351_row17_col1, #T_18351_row17_col3, #T_18351_row17_col5, #T_18351_row18_col3, #T_18351_row18_col5, #T_18351_row18_col6, #T_18351_row18_col22, #T_18351_row19_col1, #T_18351_row19_col7, #T_18351_row20_col0, #T_18351_row20_col3, #T_18351_row20_col7, #T_18351_row20_col16, #T_18351_row21_col4, #T_18351_row21_col16, #T_18351_row22_col0, #T_18351_row22_col1, #T_18351_row22_col5, #T_18351_row22_col6, #T_18351_row22_col7, #T_18351_row22_col18, #T_18351_row23_col16, #T_18351_row23_col20, #T_18351_row24_col1, #T_18351_row24_col5, #T_18351_row24_col6, #T_18351_row24_col7, #T_18351_row24_col16, #T_18351_row24_col26, #T_18351_row25_col2, #T_18351_row25_col3, #T_18351_row25_col4, #T_18351_row25_col5, #T_18351_row25_col7, #T_18351_row25_col16, #T_18351_row25_col29, #T_18351_row26_col0, #T_18351_row26_col5, #T_18351_row26_col7, #T_18351_row26_col15, #T_18351_row26_col20, #T_18351_row26_col22, #T_18351_row26_col24, #T_18351_row27_col3, #T_18351_row27_col6, #T_18351_row27_col16, #T_18351_row27_col18, #T_18351_row27_col21, #T_18351_row28_col6, #T_18351_row28_col7, #T_18351_row28_col17, #T_18351_row28_col19, #T_18351_row28_col20, #T_18351_row28_col21, #T_18351_row29_col2, #T_18351_row29_col5, #T_18351_row29_col15, #T_18351_row29_col18, #T_18351_row29_col25 {\n",
       "  background-color: #3b4cc0;\n",
       "  color: #f1f1f1;\n",
       "}\n",
       "#T_18351_row0_col4, #T_18351_row0_col17, #T_18351_row0_col18, #T_18351_row1_col0, #T_18351_row1_col7, #T_18351_row1_col16, #T_18351_row1_col18, #T_18351_row1_col21, #T_18351_row1_col22, #T_18351_row2_col7, #T_18351_row2_col17, #T_18351_row2_col19, #T_18351_row2_col22, #T_18351_row3_col2, #T_18351_row3_col7, #T_18351_row3_col15, #T_18351_row3_col16, #T_18351_row3_col21, #T_18351_row3_col22, #T_18351_row4_col7, #T_18351_row4_col17, #T_18351_row4_col18, #T_18351_row4_col19, #T_18351_row5_col6, #T_18351_row5_col7, #T_18351_row5_col15, #T_18351_row6_col5, #T_18351_row6_col7, #T_18351_row6_col15, #T_18351_row6_col19, #T_18351_row7_col2, #T_18351_row7_col3, #T_18351_row7_col4, #T_18351_row7_col5, #T_18351_row7_col6, #T_18351_row7_col16, #T_18351_row7_col18, #T_18351_row8_col5, #T_18351_row8_col15, #T_18351_row8_col20, #T_18351_row8_col22, #T_18351_row8_col24, #T_18351_row9_col2, #T_18351_row9_col3, #T_18351_row9_col20, #T_18351_row10_col2, #T_18351_row10_col21, #T_18351_row10_col22, #T_18351_row11_col2, #T_18351_row11_col3, #T_18351_row12_col0, #T_18351_row12_col4, #T_18351_row12_col11, #T_18351_row12_col17, #T_18351_row12_col18, #T_18351_row12_col20, #T_18351_row13_col1, #T_18351_row13_col3, #T_18351_row14_col17, #T_18351_row14_col18, #T_18351_row14_col21, #T_18351_row15_col4, #T_18351_row15_col17, #T_18351_row15_col22, #T_18351_row16_col1, #T_18351_row16_col3, #T_18351_row16_col7, #T_18351_row16_col15, #T_18351_row16_col22, #T_18351_row17_col0, #T_18351_row17_col2, #T_18351_row17_col7, #T_18351_row17_col15, #T_18351_row17_col16, #T_18351_row17_col18, #T_18351_row17_col19, #T_18351_row17_col22, #T_18351_row18_col1, #T_18351_row18_col4, #T_18351_row18_col7, #T_18351_row18_col17, #T_18351_row18_col21, #T_18351_row19_col2, #T_18351_row19_col3, #T_18351_row19_col16, #T_18351_row19_col21, #T_18351_row19_col22, #T_18351_row20_col17, #T_18351_row20_col18, #T_18351_row21_col17, #T_18351_row21_col18, #T_18351_row21_col19, #T_18351_row22_col2, #T_18351_row22_col4, #T_18351_row22_col15, #T_18351_row22_col17, #T_18351_row22_col20, #T_18351_row22_col21, #T_18351_row23_col1, #T_18351_row23_col3, #T_18351_row24_col2, #T_18351_row24_col15, #T_18351_row24_col19, #T_18351_row25_col15, #T_18351_row25_col17, #T_18351_row25_col19, #T_18351_row25_col28, #T_18351_row26_col1, #T_18351_row26_col17, #T_18351_row26_col18, #T_18351_row28_col0, #T_18351_row28_col16, #T_18351_row28_col18, #T_18351_row28_col22, #T_18351_row29_col16, #T_18351_row29_col22 {\n",
       "  background-color: #3d50c3;\n",
       "  color: #f1f1f1;\n",
       "}\n",
       "#T_18351_row0_col8, #T_18351_row1_col8, #T_18351_row4_col8, #T_18351_row7_col8, #T_18351_row18_col8, #T_18351_row19_col8, #T_18351_row21_col8, #T_18351_row24_col29 {\n",
       "  background-color: #6e90f2;\n",
       "  color: #f1f1f1;\n",
       "}\n",
       "#T_18351_row0_col9, #T_18351_row2_col9, #T_18351_row2_col10, #T_18351_row3_col9, #T_18351_row4_col10, #T_18351_row5_col10, #T_18351_row16_col10, #T_18351_row20_col9, #T_18351_row21_col10, #T_18351_row22_col10, #T_18351_row23_col13, #T_18351_row24_col11 {\n",
       "  background-color: #93b5fe;\n",
       "  color: #000000;\n",
       "}\n",
       "#T_18351_row0_col10, #T_18351_row1_col9, #T_18351_row1_col10, #T_18351_row4_col9, #T_18351_row5_col9, #T_18351_row6_col9, #T_18351_row6_col10, #T_18351_row15_col9, #T_18351_row16_col9, #T_18351_row17_col10, #T_18351_row18_col9, #T_18351_row18_col10, #T_18351_row19_col9, #T_18351_row19_col10, #T_18351_row20_col10, #T_18351_row21_col9, #T_18351_row22_col9 {\n",
       "  background-color: #92b4fe;\n",
       "  color: #000000;\n",
       "}\n",
       "#T_18351_row0_col11, #T_18351_row1_col11, #T_18351_row1_col14, #T_18351_row2_col11, #T_18351_row3_col14, #T_18351_row5_col14, #T_18351_row6_col11, #T_18351_row6_col14, #T_18351_row7_col14, #T_18351_row15_col14, #T_18351_row16_col11, #T_18351_row17_col14, #T_18351_row19_col11, #T_18351_row19_col14, #T_18351_row20_col11, #T_18351_row20_col14, #T_18351_row21_col11, #T_18351_row21_col14, #T_18351_row24_col13, #T_18351_row26_col13 {\n",
       "  background-color: #82a6fb;\n",
       "  color: #f1f1f1;\n",
       "}\n",
       "#T_18351_row0_col12, #T_18351_row3_col12, #T_18351_row4_col12, #T_18351_row5_col12, #T_18351_row17_col11, #T_18351_row17_col12, #T_18351_row18_col12, #T_18351_row19_col12, #T_18351_row21_col12, #T_18351_row22_col14, #T_18351_row25_col23, #T_18351_row27_col12 {\n",
       "  background-color: #80a3fa;\n",
       "  color: #f1f1f1;\n",
       "}\n",
       "#T_18351_row0_col13, #T_18351_row5_col13, #T_18351_row6_col13, #T_18351_row7_col13, #T_18351_row11_col9, #T_18351_row15_col13, #T_18351_row16_col13, #T_18351_row19_col13, #T_18351_row21_col13, #T_18351_row24_col14, #T_18351_row27_col13 {\n",
       "  background-color: #85a8fc;\n",
       "  color: #f1f1f1;\n",
       "}\n",
       "#T_18351_row0_col14, #T_18351_row2_col14, #T_18351_row4_col11, #T_18351_row4_col14, #T_18351_row5_col11, #T_18351_row7_col11, #T_18351_row15_col11, #T_18351_row16_col14, #T_18351_row18_col11, #T_18351_row20_col12, #T_18351_row24_col12, #T_18351_row28_col10, #T_18351_row28_col14 {\n",
       "  background-color: #81a4fb;\n",
       "  color: #f1f1f1;\n",
       "}\n",
       "#T_18351_row0_col23, #T_18351_row4_col23, #T_18351_row6_col23, #T_18351_row7_col23, #T_18351_row8_col23, #T_18351_row11_col27, #T_18351_row13_col12, #T_18351_row14_col26, #T_18351_row17_col23, #T_18351_row19_col23, #T_18351_row21_col23, #T_18351_row27_col25, #T_18351_row29_col28 {\n",
       "  background-color: #5d7ce6;\n",
       "  color: #f1f1f1;\n",
       "}\n",
       "#T_18351_row0_col24, #T_18351_row2_col24, #T_18351_row2_col26, #T_18351_row3_col26, #T_18351_row4_col24, #T_18351_row4_col26, #T_18351_row5_col26, #T_18351_row6_col26, #T_18351_row10_col29, #T_18351_row11_col23, #T_18351_row15_col24, #T_18351_row16_col26, #T_18351_row17_col24, #T_18351_row17_col26, #T_18351_row19_col24, #T_18351_row19_col26, #T_18351_row20_col24, #T_18351_row21_col24, #T_18351_row21_col26, #T_18351_row22_col24 {\n",
       "  background-color: #5673e0;\n",
       "  color: #f1f1f1;\n",
       "}\n",
       "#T_18351_row0_col25, #T_18351_row0_col29, #T_18351_row1_col25, #T_18351_row1_col29, #T_18351_row3_col29, #T_18351_row4_col25, #T_18351_row4_col29, #T_18351_row5_col25, #T_18351_row7_col29, #T_18351_row15_col25, #T_18351_row17_col25, #T_18351_row18_col25, #T_18351_row19_col29, #T_18351_row20_col25, #T_18351_row20_col29, #T_18351_row21_col25, #T_18351_row21_col29, #T_18351_row23_col28 {\n",
       "  background-color: #506bda;\n",
       "  color: #f1f1f1;\n",
       "}\n",
       "#T_18351_row0_col26, #T_18351_row1_col24, #T_18351_row5_col24, #T_18351_row6_col24, #T_18351_row7_col24, #T_18351_row11_col29, #T_18351_row13_col25, #T_18351_row16_col24, #T_18351_row17_col27, #T_18351_row18_col24, #T_18351_row20_col26, #T_18351_row23_col26, #T_18351_row24_col8 {\n",
       "  background-color: #5572df;\n",
       "  color: #f1f1f1;\n",
       "}\n",
       "#T_18351_row0_col27, #T_18351_row1_col27, #T_18351_row4_col27, #T_18351_row5_col27, #T_18351_row7_col27, #T_18351_row12_col27, #T_18351_row13_col26, #T_18351_row13_col27, #T_18351_row19_col27, #T_18351_row20_col27 {\n",
       "  background-color: #536edd;\n",
       "  color: #f1f1f1;\n",
       "}\n",
       "#T_18351_row0_col28, #T_18351_row1_col28, #T_18351_row3_col28, #T_18351_row8_col27, #T_18351_row14_col8, #T_18351_row16_col28, #T_18351_row18_col28, #T_18351_row22_col28, #T_18351_row28_col26 {\n",
       "  background-color: #4e68d8;\n",
       "  color: #f1f1f1;\n",
       "}\n",
       "#T_18351_row1_col5, #T_18351_row3_col19, #T_18351_row4_col6, #T_18351_row4_col15, #T_18351_row4_col22, #T_18351_row5_col1, #T_18351_row6_col4, #T_18351_row6_col17, #T_18351_row6_col20, #T_18351_row7_col17, #T_18351_row8_col2, #T_18351_row8_col17, #T_18351_row10_col15, #T_18351_row13_col17, #T_18351_row15_col19, #T_18351_row16_col17, #T_18351_row16_col19, #T_18351_row19_col15, #T_18351_row19_col17, #T_18351_row20_col6, #T_18351_row20_col22, #T_18351_row21_col22, #T_18351_row23_col17, #T_18351_row29_col17 {\n",
       "  background-color: #3e51c5;\n",
       "  color: #f1f1f1;\n",
       "}\n",
       "#T_18351_row1_col12, #T_18351_row2_col12, #T_18351_row6_col12, #T_18351_row7_col12, #T_18351_row9_col14, #T_18351_row13_col9, #T_18351_row15_col12, #T_18351_row16_col12, #T_18351_row22_col12, #T_18351_row25_col14, #T_18351_row27_col23, #T_18351_row29_col14 {\n",
       "  background-color: #7ea1fa;\n",
       "  color: #f1f1f1;\n",
       "}\n",
       "#T_18351_row1_col13, #T_18351_row3_col13, #T_18351_row12_col14, #T_18351_row17_col13, #T_18351_row26_col12, #T_18351_row29_col11 {\n",
       "  background-color: #86a9fc;\n",
       "  color: #f1f1f1;\n",
       "}\n",
       "#T_18351_row1_col23, #T_18351_row3_col23, #T_18351_row5_col23, #T_18351_row9_col24, #T_18351_row12_col10, #T_18351_row12_col26, #T_18351_row28_col27 {\n",
       "  background-color: #5e7de7;\n",
       "  color: #f1f1f1;\n",
       "}\n",
       "#T_18351_row1_col26, #T_18351_row3_col24, #T_18351_row14_col27, #T_18351_row18_col26, #T_18351_row23_col29 {\n",
       "  background-color: #5875e1;\n",
       "  color: #f1f1f1;\n",
       "}\n",
       "#T_18351_row2_col8, #T_18351_row5_col8, #T_18351_row8_col9, #T_18351_row9_col13, #T_18351_row17_col8, #T_18351_row26_col11 {\n",
       "  background-color: #7093f3;\n",
       "  color: #f1f1f1;\n",
       "}\n",
       "#T_18351_row2_col13, #T_18351_row3_col11, #T_18351_row4_col13, #T_18351_row14_col12, #T_18351_row18_col13, #T_18351_row18_col14, #T_18351_row20_col13, #T_18351_row22_col11, #T_18351_row22_col13 {\n",
       "  background-color: #84a7fc;\n",
       "  color: #f1f1f1;\n",
       "}\n",
       "#T_18351_row2_col23, #T_18351_row15_col23, #T_18351_row16_col23, #T_18351_row18_col23, #T_18351_row20_col23, #T_18351_row22_col23, #T_18351_row26_col23 {\n",
       "  background-color: #5b7ae5;\n",
       "  color: #f1f1f1;\n",
       "}\n",
       "#T_18351_row2_col25, #T_18351_row2_col29, #T_18351_row3_col25, #T_18351_row5_col29, #T_18351_row7_col25, #T_18351_row12_col25, #T_18351_row15_col29, #T_18351_row16_col25, #T_18351_row18_col29, #T_18351_row22_col25, #T_18351_row29_col26, #T_18351_row29_col27 {\n",
       "  background-color: #4f69d9;\n",
       "  color: #f1f1f1;\n",
       "}\n",
       "#T_18351_row2_col27, #T_18351_row3_col27, #T_18351_row6_col25, #T_18351_row6_col27, #T_18351_row6_col29, #T_18351_row8_col13, #T_18351_row10_col24, #T_18351_row11_col8, #T_18351_row15_col27, #T_18351_row16_col27, #T_18351_row16_col29, #T_18351_row17_col29, #T_18351_row18_col27, #T_18351_row19_col25, #T_18351_row21_col27, #T_18351_row22_col27, #T_18351_row22_col29, #T_18351_row25_col24 {\n",
       "  background-color: #516ddb;\n",
       "  color: #f1f1f1;\n",
       "}\n",
       "#T_18351_row2_col28, #T_18351_row4_col28, #T_18351_row5_col28, #T_18351_row10_col25, #T_18351_row12_col29, #T_18351_row14_col25, #T_18351_row14_col28, #T_18351_row14_col29, #T_18351_row15_col28, #T_18351_row20_col28, #T_18351_row27_col29 {\n",
       "  background-color: #4c66d6;\n",
       "  color: #f1f1f1;\n",
       "}\n",
       "#T_18351_row3_col8, #T_18351_row6_col8, #T_18351_row13_col11, #T_18351_row15_col8, #T_18351_row16_col8, #T_18351_row20_col8, #T_18351_row22_col8, #T_18351_row23_col8 {\n",
       "  background-color: #6f92f3;\n",
       "  color: #f1f1f1;\n",
       "}\n",
       "#T_18351_row3_col10, #T_18351_row7_col9, #T_18351_row17_col9 {\n",
       "  background-color: #90b2fe;\n",
       "  color: #000000;\n",
       "}\n",
       "#T_18351_row6_col28, #T_18351_row7_col28, #T_18351_row11_col25, #T_18351_row14_col10, #T_18351_row19_col28, #T_18351_row21_col28, #T_18351_row24_col25 {\n",
       "  background-color: #4b64d5;\n",
       "  color: #f1f1f1;\n",
       "}\n",
       "#T_18351_row7_col10, #T_18351_row15_col10, #T_18351_row25_col9 {\n",
       "  background-color: #94b6ff;\n",
       "  color: #000000;\n",
       "}\n",
       "#T_18351_row7_col26, #T_18351_row9_col25, #T_18351_row13_col24, #T_18351_row15_col26, #T_18351_row22_col26 {\n",
       "  background-color: #5470de;\n",
       "  color: #f1f1f1;\n",
       "}\n",
       "#T_18351_row8_col10, #T_18351_row11_col10 {\n",
       "  background-color: #9bbcff;\n",
       "  color: #000000;\n",
       "}\n",
       "#T_18351_row8_col11, #T_18351_row23_col24, #T_18351_row29_col23 {\n",
       "  background-color: #6485ec;\n",
       "  color: #f1f1f1;\n",
       "}\n",
       "#T_18351_row8_col12, #T_18351_row23_col11, #T_18351_row27_col10, #T_18351_row27_col24, #T_18351_row29_col12 {\n",
       "  background-color: #7b9ff9;\n",
       "  color: #f1f1f1;\n",
       "}\n",
       "#T_18351_row8_col14 {\n",
       "  background-color: #6282ea;\n",
       "  color: #f1f1f1;\n",
       "}\n",
       "#T_18351_row8_col25, #T_18351_row11_col28, #T_18351_row12_col24, #T_18351_row13_col29, #T_18351_row14_col24, #T_18351_row27_col28 {\n",
       "  background-color: #5977e3;\n",
       "  color: #f1f1f1;\n",
       "}\n",
       "#T_18351_row8_col26, #T_18351_row9_col11 {\n",
       "  background-color: #7396f5;\n",
       "  color: #f1f1f1;\n",
       "}\n",
       "#T_18351_row8_col28 {\n",
       "  background-color: #455cce;\n",
       "  color: #f1f1f1;\n",
       "}\n",
       "#T_18351_row8_col29, #T_18351_row9_col8, #T_18351_row10_col12, #T_18351_row17_col28 {\n",
       "  background-color: #4a63d3;\n",
       "  color: #f1f1f1;\n",
       "}\n",
       "#T_18351_row9_col12 {\n",
       "  background-color: #b1cbfc;\n",
       "  color: #000000;\n",
       "}\n",
       "#T_18351_row9_col23, #T_18351_row11_col13, #T_18351_row13_col28, #T_18351_row23_col10, #T_18351_row28_col12 {\n",
       "  background-color: #7295f4;\n",
       "  color: #f1f1f1;\n",
       "}\n",
       "#T_18351_row9_col26, #T_18351_row9_col27, #T_18351_row13_col23, #T_18351_row28_col24 {\n",
       "  background-color: #6c8ff1;\n",
       "  color: #f1f1f1;\n",
       "}\n",
       "#T_18351_row9_col28, #T_18351_row9_col29 {\n",
       "  background-color: #485fd1;\n",
       "  color: #f1f1f1;\n",
       "}\n",
       "#T_18351_row10_col7, #T_18351_row10_col26, #T_18351_row11_col22, #T_18351_row12_col28, #T_18351_row27_col17 {\n",
       "  background-color: #3f53c6;\n",
       "  color: #f1f1f1;\n",
       "}\n",
       "#T_18351_row10_col8, #T_18351_row24_col27 {\n",
       "  background-color: #799cf8;\n",
       "  color: #f1f1f1;\n",
       "}\n",
       "#T_18351_row10_col11, #T_18351_row27_col11 {\n",
       "  background-color: #8caffe;\n",
       "  color: #000000;\n",
       "}\n",
       "#T_18351_row11_col24, #T_18351_row29_col8 {\n",
       "  background-color: #688aef;\n",
       "  color: #f1f1f1;\n",
       "}\n",
       "#T_18351_row11_col26, #T_18351_row26_col28 {\n",
       "  background-color: #445acc;\n",
       "  color: #f1f1f1;\n",
       "}\n",
       "#T_18351_row12_col8, #T_18351_row24_col23 {\n",
       "  background-color: #6b8df0;\n",
       "  color: #f1f1f1;\n",
       "}\n",
       "#T_18351_row12_col9 {\n",
       "  background-color: #bfd3f6;\n",
       "  color: #000000;\n",
       "}\n",
       "#T_18351_row12_col13, #T_18351_row24_col28 {\n",
       "  background-color: #6384eb;\n",
       "  color: #f1f1f1;\n",
       "}\n",
       "#T_18351_row12_col23, #T_18351_row28_col8 {\n",
       "  background-color: #6788ee;\n",
       "  color: #f1f1f1;\n",
       "}\n",
       "#T_18351_row13_col10, #T_18351_row25_col26, #T_18351_row26_col29 {\n",
       "  background-color: #4961d2;\n",
       "  color: #f1f1f1;\n",
       "}\n",
       "#T_18351_row13_col14 {\n",
       "  background-color: #b7cff9;\n",
       "  color: #000000;\n",
       "}\n",
       "#T_18351_row14_col9, #T_18351_row25_col10 {\n",
       "  background-color: #8fb1fe;\n",
       "  color: #000000;\n",
       "}\n",
       "#T_18351_row14_col13 {\n",
       "  background-color: #b9d0f9;\n",
       "  color: #000000;\n",
       "}\n",
       "#T_18351_row14_col23 {\n",
       "  background-color: #6687ed;\n",
       "  color: #f1f1f1;\n",
       "}\n",
       "#T_18351_row23_col9, #T_18351_row26_col9 {\n",
       "  background-color: #a5c3fe;\n",
       "  color: #000000;\n",
       "}\n",
       "#T_18351_row23_col12, #T_18351_row25_col13 {\n",
       "  background-color: #89acfd;\n",
       "  color: #000000;\n",
       "}\n",
       "#T_18351_row23_col14, #T_18351_row26_col8, #T_18351_row29_col9 {\n",
       "  background-color: #8badfd;\n",
       "  color: #000000;\n",
       "}\n",
       "#T_18351_row23_col25, #T_18351_row23_col27, #T_18351_row29_col24 {\n",
       "  background-color: #7597f6;\n",
       "  color: #f1f1f1;\n",
       "}\n",
       "#T_18351_row24_col9 {\n",
       "  background-color: #9abbff;\n",
       "  color: #000000;\n",
       "}\n",
       "#T_18351_row24_col10, #T_18351_row28_col9, #T_18351_row28_col11, #T_18351_row29_col13 {\n",
       "  background-color: #8db0fe;\n",
       "  color: #000000;\n",
       "}\n",
       "#T_18351_row25_col8 {\n",
       "  background-color: #779af7;\n",
       "  color: #f1f1f1;\n",
       "}\n",
       "#T_18351_row25_col11, #T_18351_row25_col12, #T_18351_row26_col10 {\n",
       "  background-color: #7da0f9;\n",
       "  color: #f1f1f1;\n",
       "}\n",
       "#T_18351_row25_col27, #T_18351_row28_col23 {\n",
       "  background-color: #5f7fe8;\n",
       "  color: #f1f1f1;\n",
       "}\n",
       "#T_18351_row26_col14, #T_18351_row27_col14 {\n",
       "  background-color: #88abfd;\n",
       "  color: #000000;\n",
       "}\n",
       "#T_18351_row26_col25 {\n",
       "  background-color: #4358cb;\n",
       "  color: #f1f1f1;\n",
       "}\n",
       "#T_18351_row26_col27 {\n",
       "  background-color: #4257c9;\n",
       "  color: #f1f1f1;\n",
       "}\n",
       "#T_18351_row27_col8 {\n",
       "  background-color: #6a8bef;\n",
       "  color: #f1f1f1;\n",
       "}\n",
       "#T_18351_row27_col9 {\n",
       "  background-color: #a7c5fe;\n",
       "  color: #000000;\n",
       "}\n",
       "#T_18351_row27_col26 {\n",
       "  background-color: #465ecf;\n",
       "  color: #f1f1f1;\n",
       "}\n",
       "#T_18351_row28_col13 {\n",
       "  background-color: #a6c4fe;\n",
       "  color: #000000;\n",
       "}\n",
       "#T_18351_row28_col25 {\n",
       "  background-color: #4055c8;\n",
       "  color: #f1f1f1;\n",
       "}\n",
       "#T_18351_row28_col29 {\n",
       "  background-color: #6180e9;\n",
       "  color: #f1f1f1;\n",
       "}\n",
       "#T_18351_row29_col10 {\n",
       "  background-color: #97b8ff;\n",
       "  color: #000000;\n",
       "}\n",
       "</style>\n",
       "<table id=\"T_18351_\">\n",
       "  <thead>\n",
       "    <tr>\n",
       "      <th class=\"blank level0\" >&nbsp;</th>\n",
       "      <th class=\"col_heading level0 col0\" >id</th>\n",
       "      <th class=\"col_heading level0 col1\" >f_00</th>\n",
       "      <th class=\"col_heading level0 col2\" >f_01</th>\n",
       "      <th class=\"col_heading level0 col3\" >f_02</th>\n",
       "      <th class=\"col_heading level0 col4\" >f_03</th>\n",
       "      <th class=\"col_heading level0 col5\" >f_04</th>\n",
       "      <th class=\"col_heading level0 col6\" >f_05</th>\n",
       "      <th class=\"col_heading level0 col7\" >f_06</th>\n",
       "      <th class=\"col_heading level0 col8\" >f_07</th>\n",
       "      <th class=\"col_heading level0 col9\" >f_08</th>\n",
       "      <th class=\"col_heading level0 col10\" >f_09</th>\n",
       "      <th class=\"col_heading level0 col11\" >f_10</th>\n",
       "      <th class=\"col_heading level0 col12\" >f_11</th>\n",
       "      <th class=\"col_heading level0 col13\" >f_12</th>\n",
       "      <th class=\"col_heading level0 col14\" >f_13</th>\n",
       "      <th class=\"col_heading level0 col15\" >f_14</th>\n",
       "      <th class=\"col_heading level0 col16\" >f_15</th>\n",
       "      <th class=\"col_heading level0 col17\" >f_16</th>\n",
       "      <th class=\"col_heading level0 col18\" >f_17</th>\n",
       "      <th class=\"col_heading level0 col19\" >f_18</th>\n",
       "      <th class=\"col_heading level0 col20\" >f_19</th>\n",
       "      <th class=\"col_heading level0 col21\" >f_20</th>\n",
       "      <th class=\"col_heading level0 col22\" >f_21</th>\n",
       "      <th class=\"col_heading level0 col23\" >f_22</th>\n",
       "      <th class=\"col_heading level0 col24\" >f_23</th>\n",
       "      <th class=\"col_heading level0 col25\" >f_24</th>\n",
       "      <th class=\"col_heading level0 col26\" >f_25</th>\n",
       "      <th class=\"col_heading level0 col27\" >f_26</th>\n",
       "      <th class=\"col_heading level0 col28\" >f_27</th>\n",
       "      <th class=\"col_heading level0 col29\" >f_28</th>\n",
       "    </tr>\n",
       "  </thead>\n",
       "  <tbody>\n",
       "    <tr>\n",
       "      <th id=\"T_18351_level0_row0\" class=\"row_heading level0 row0\" >id</th>\n",
       "      <td id=\"T_18351_row0_col0\" class=\"data row0 col0\" >1.000000</td>\n",
       "      <td id=\"T_18351_row0_col1\" class=\"data row0 col1\" >0.002856</td>\n",
       "      <td id=\"T_18351_row0_col2\" class=\"data row0 col2\" >-0.005167</td>\n",
       "      <td id=\"T_18351_row0_col3\" class=\"data row0 col3\" >0.001404</td>\n",
       "      <td id=\"T_18351_row0_col4\" class=\"data row0 col4\" >0.002268</td>\n",
       "      <td id=\"T_18351_row0_col5\" class=\"data row0 col5\" >-0.001201</td>\n",
       "      <td id=\"T_18351_row0_col6\" class=\"data row0 col6\" >-0.001297</td>\n",
       "      <td id=\"T_18351_row0_col7\" class=\"data row0 col7\" >0.001249</td>\n",
       "      <td id=\"T_18351_row0_col8\" class=\"data row0 col8\" >-0.003181</td>\n",
       "      <td id=\"T_18351_row0_col9\" class=\"data row0 col9\" >0.001774</td>\n",
       "      <td id=\"T_18351_row0_col10\" class=\"data row0 col10\" >-0.001422</td>\n",
       "      <td id=\"T_18351_row0_col11\" class=\"data row0 col11\" >-0.000181</td>\n",
       "      <td id=\"T_18351_row0_col12\" class=\"data row0 col12\" >0.003843</td>\n",
       "      <td id=\"T_18351_row0_col13\" class=\"data row0 col13\" >-0.001667</td>\n",
       "      <td id=\"T_18351_row0_col14\" class=\"data row0 col14\" >-0.002323</td>\n",
       "      <td id=\"T_18351_row0_col15\" class=\"data row0 col15\" >-0.004569</td>\n",
       "      <td id=\"T_18351_row0_col16\" class=\"data row0 col16\" >0.000797</td>\n",
       "      <td id=\"T_18351_row0_col17\" class=\"data row0 col17\" >0.002766</td>\n",
       "      <td id=\"T_18351_row0_col18\" class=\"data row0 col18\" >0.002510</td>\n",
       "      <td id=\"T_18351_row0_col19\" class=\"data row0 col19\" >0.001381</td>\n",
       "      <td id=\"T_18351_row0_col20\" class=\"data row0 col20\" >-0.001869</td>\n",
       "      <td id=\"T_18351_row0_col21\" class=\"data row0 col21\" >0.001981</td>\n",
       "      <td id=\"T_18351_row0_col22\" class=\"data row0 col22\" >-0.003020</td>\n",
       "      <td id=\"T_18351_row0_col23\" class=\"data row0 col23\" >0.001247</td>\n",
       "      <td id=\"T_18351_row0_col24\" class=\"data row0 col24\" >0.000065</td>\n",
       "      <td id=\"T_18351_row0_col25\" class=\"data row0 col25\" >0.001376</td>\n",
       "      <td id=\"T_18351_row0_col26\" class=\"data row0 col26\" >-0.003301</td>\n",
       "      <td id=\"T_18351_row0_col27\" class=\"data row0 col27\" >0.001145</td>\n",
       "      <td id=\"T_18351_row0_col28\" class=\"data row0 col28\" >0.004146</td>\n",
       "      <td id=\"T_18351_row0_col29\" class=\"data row0 col29\" >0.000309</td>\n",
       "    </tr>\n",
       "    <tr>\n",
       "      <th id=\"T_18351_level0_row1\" class=\"row_heading level0 row1\" >f_00</th>\n",
       "      <td id=\"T_18351_row1_col0\" class=\"data row1 col0\" >0.002856</td>\n",
       "      <td id=\"T_18351_row1_col1\" class=\"data row1 col1\" >1.000000</td>\n",
       "      <td id=\"T_18351_row1_col2\" class=\"data row1 col2\" >-0.001955</td>\n",
       "      <td id=\"T_18351_row1_col3\" class=\"data row1 col3\" >0.002660</td>\n",
       "      <td id=\"T_18351_row1_col4\" class=\"data row1 col4\" >0.000105</td>\n",
       "      <td id=\"T_18351_row1_col5\" class=\"data row1 col5\" >0.008797</td>\n",
       "      <td id=\"T_18351_row1_col6\" class=\"data row1 col6\" >0.003817</td>\n",
       "      <td id=\"T_18351_row1_col7\" class=\"data row1 col7\" >0.002903</td>\n",
       "      <td id=\"T_18351_row1_col8\" class=\"data row1 col8\" >-0.003847</td>\n",
       "      <td id=\"T_18351_row1_col9\" class=\"data row1 col9\" >-0.000866</td>\n",
       "      <td id=\"T_18351_row1_col10\" class=\"data row1 col10\" >-0.000976</td>\n",
       "      <td id=\"T_18351_row1_col11\" class=\"data row1 col11\" >0.002510</td>\n",
       "      <td id=\"T_18351_row1_col12\" class=\"data row1 col12\" >-0.000938</td>\n",
       "      <td id=\"T_18351_row1_col13\" class=\"data row1 col13\" >0.004578</td>\n",
       "      <td id=\"T_18351_row1_col14\" class=\"data row1 col14\" >-0.001075</td>\n",
       "      <td id=\"T_18351_row1_col15\" class=\"data row1 col15\" >-0.003255</td>\n",
       "      <td id=\"T_18351_row1_col16\" class=\"data row1 col16\" >0.005267</td>\n",
       "      <td id=\"T_18351_row1_col17\" class=\"data row1 col17\" >-0.001998</td>\n",
       "      <td id=\"T_18351_row1_col18\" class=\"data row1 col18\" >0.005100</td>\n",
       "      <td id=\"T_18351_row1_col19\" class=\"data row1 col19\" >-0.000561</td>\n",
       "      <td id=\"T_18351_row1_col20\" class=\"data row1 col20\" >0.000437</td>\n",
       "      <td id=\"T_18351_row1_col21\" class=\"data row1 col21\" >0.002687</td>\n",
       "      <td id=\"T_18351_row1_col22\" class=\"data row1 col22\" >-0.000447</td>\n",
       "      <td id=\"T_18351_row1_col23\" class=\"data row1 col23\" >0.004087</td>\n",
       "      <td id=\"T_18351_row1_col24\" class=\"data row1 col24\" >-0.003756</td>\n",
       "      <td id=\"T_18351_row1_col25\" class=\"data row1 col25\" >0.001088</td>\n",
       "      <td id=\"T_18351_row1_col26\" class=\"data row1 col26\" >0.006216</td>\n",
       "      <td id=\"T_18351_row1_col27\" class=\"data row1 col27\" >0.000615</td>\n",
       "      <td id=\"T_18351_row1_col28\" class=\"data row1 col28\" >0.003888</td>\n",
       "      <td id=\"T_18351_row1_col29\" class=\"data row1 col29\" >0.001103</td>\n",
       "    </tr>\n",
       "    <tr>\n",
       "      <th id=\"T_18351_level0_row2\" class=\"row_heading level0 row2\" >f_01</th>\n",
       "      <td id=\"T_18351_row2_col0\" class=\"data row2 col0\" >-0.005167</td>\n",
       "      <td id=\"T_18351_row2_col1\" class=\"data row2 col1\" >-0.001955</td>\n",
       "      <td id=\"T_18351_row2_col2\" class=\"data row2 col2\" >1.000000</td>\n",
       "      <td id=\"T_18351_row2_col3\" class=\"data row2 col3\" >0.001402</td>\n",
       "      <td id=\"T_18351_row2_col4\" class=\"data row2 col4\" >-0.001698</td>\n",
       "      <td id=\"T_18351_row2_col5\" class=\"data row2 col5\" >-0.001727</td>\n",
       "      <td id=\"T_18351_row2_col6\" class=\"data row2 col6\" >-0.001444</td>\n",
       "      <td id=\"T_18351_row2_col7\" class=\"data row2 col7\" >0.001826</td>\n",
       "      <td id=\"T_18351_row2_col8\" class=\"data row2 col8\" >0.006539</td>\n",
       "      <td id=\"T_18351_row2_col9\" class=\"data row2 col9\" >0.001023</td>\n",
       "      <td id=\"T_18351_row2_col10\" class=\"data row2 col10\" >0.003428</td>\n",
       "      <td id=\"T_18351_row2_col11\" class=\"data row2 col11\" >0.002071</td>\n",
       "      <td id=\"T_18351_row2_col12\" class=\"data row2 col12\" >-0.002024</td>\n",
       "      <td id=\"T_18351_row2_col13\" class=\"data row2 col13\" >-0.007009</td>\n",
       "      <td id=\"T_18351_row2_col14\" class=\"data row2 col14\" >-0.006544</td>\n",
       "      <td id=\"T_18351_row2_col15\" class=\"data row2 col15\" >-0.003968</td>\n",
       "      <td id=\"T_18351_row2_col16\" class=\"data row2 col16\" >-0.000157</td>\n",
       "      <td id=\"T_18351_row2_col17\" class=\"data row2 col17\" >0.000941</td>\n",
       "      <td id=\"T_18351_row2_col18\" class=\"data row2 col18\" >-0.000327</td>\n",
       "      <td id=\"T_18351_row2_col19\" class=\"data row2 col19\" >0.003146</td>\n",
       "      <td id=\"T_18351_row2_col20\" class=\"data row2 col20\" >-0.001402</td>\n",
       "      <td id=\"T_18351_row2_col21\" class=\"data row2 col21\" >-0.001852</td>\n",
       "      <td id=\"T_18351_row2_col22\" class=\"data row2 col22\" >0.001099</td>\n",
       "      <td id=\"T_18351_row2_col23\" class=\"data row2 col23\" >-0.002965</td>\n",
       "      <td id=\"T_18351_row2_col24\" class=\"data row2 col24\" >0.001760</td>\n",
       "      <td id=\"T_18351_row2_col25\" class=\"data row2 col25\" >-0.005635</td>\n",
       "      <td id=\"T_18351_row2_col26\" class=\"data row2 col26\" >0.000033</td>\n",
       "      <td id=\"T_18351_row2_col27\" class=\"data row2 col27\" >-0.001936</td>\n",
       "      <td id=\"T_18351_row2_col28\" class=\"data row2 col28\" >0.000229</td>\n",
       "      <td id=\"T_18351_row2_col29\" class=\"data row2 col29\" >-0.005528</td>\n",
       "    </tr>\n",
       "    <tr>\n",
       "      <th id=\"T_18351_level0_row3\" class=\"row_heading level0 row3\" >f_02</th>\n",
       "      <td id=\"T_18351_row3_col0\" class=\"data row3 col0\" >0.001404</td>\n",
       "      <td id=\"T_18351_row3_col1\" class=\"data row3 col1\" >0.002660</td>\n",
       "      <td id=\"T_18351_row3_col2\" class=\"data row3 col2\" >0.001402</td>\n",
       "      <td id=\"T_18351_row3_col3\" class=\"data row3 col3\" >1.000000</td>\n",
       "      <td id=\"T_18351_row3_col4\" class=\"data row3 col4\" >-0.003271</td>\n",
       "      <td id=\"T_18351_row3_col5\" class=\"data row3 col5\" >-0.000732</td>\n",
       "      <td id=\"T_18351_row3_col6\" class=\"data row3 col6\" >-0.003743</td>\n",
       "      <td id=\"T_18351_row3_col7\" class=\"data row3 col7\" >0.003730</td>\n",
       "      <td id=\"T_18351_row3_col8\" class=\"data row3 col8\" >0.002603</td>\n",
       "      <td id=\"T_18351_row3_col9\" class=\"data row3 col9\" >0.004888</td>\n",
       "      <td id=\"T_18351_row3_col10\" class=\"data row3 col10\" >-0.004690</td>\n",
       "      <td id=\"T_18351_row3_col11\" class=\"data row3 col11\" >0.004708</td>\n",
       "      <td id=\"T_18351_row3_col12\" class=\"data row3 col12\" >0.001624</td>\n",
       "      <td id=\"T_18351_row3_col13\" class=\"data row3 col13\" >0.003369</td>\n",
       "      <td id=\"T_18351_row3_col14\" class=\"data row3 col14\" >-0.000620</td>\n",
       "      <td id=\"T_18351_row3_col15\" class=\"data row3 col15\" >0.002112</td>\n",
       "      <td id=\"T_18351_row3_col16\" class=\"data row3 col16\" >0.005397</td>\n",
       "      <td id=\"T_18351_row3_col17\" class=\"data row3 col17\" >-0.003674</td>\n",
       "      <td id=\"T_18351_row3_col18\" class=\"data row3 col18\" >-0.002383</td>\n",
       "      <td id=\"T_18351_row3_col19\" class=\"data row3 col19\" >0.006187</td>\n",
       "      <td id=\"T_18351_row3_col20\" class=\"data row3 col20\" >-0.002743</td>\n",
       "      <td id=\"T_18351_row3_col21\" class=\"data row3 col21\" >0.002398</td>\n",
       "      <td id=\"T_18351_row3_col22\" class=\"data row3 col22\" >-0.000301</td>\n",
       "      <td id=\"T_18351_row3_col23\" class=\"data row3 col23\" >0.004971</td>\n",
       "      <td id=\"T_18351_row3_col24\" class=\"data row3 col24\" >0.002971</td>\n",
       "      <td id=\"T_18351_row3_col25\" class=\"data row3 col25\" >-0.002328</td>\n",
       "      <td id=\"T_18351_row3_col26\" class=\"data row3 col26\" >0.001797</td>\n",
       "      <td id=\"T_18351_row3_col27\" class=\"data row3 col27\" >-0.001460</td>\n",
       "      <td id=\"T_18351_row3_col28\" class=\"data row3 col28\" >0.002210</td>\n",
       "      <td id=\"T_18351_row3_col29\" class=\"data row3 col29\" >0.000544</td>\n",
       "    </tr>\n",
       "    <tr>\n",
       "      <th id=\"T_18351_level0_row4\" class=\"row_heading level0 row4\" >f_03</th>\n",
       "      <td id=\"T_18351_row4_col0\" class=\"data row4 col0\" >0.002268</td>\n",
       "      <td id=\"T_18351_row4_col1\" class=\"data row4 col1\" >0.000105</td>\n",
       "      <td id=\"T_18351_row4_col2\" class=\"data row4 col2\" >-0.001698</td>\n",
       "      <td id=\"T_18351_row4_col3\" class=\"data row4 col3\" >-0.003271</td>\n",
       "      <td id=\"T_18351_row4_col4\" class=\"data row4 col4\" >1.000000</td>\n",
       "      <td id=\"T_18351_row4_col5\" class=\"data row4 col5\" >0.000238</td>\n",
       "      <td id=\"T_18351_row4_col6\" class=\"data row4 col6\" >0.009835</td>\n",
       "      <td id=\"T_18351_row4_col7\" class=\"data row4 col7\" >0.002570</td>\n",
       "      <td id=\"T_18351_row4_col8\" class=\"data row4 col8\" >-0.000562</td>\n",
       "      <td id=\"T_18351_row4_col9\" class=\"data row4 col9\" >0.000095</td>\n",
       "      <td id=\"T_18351_row4_col10\" class=\"data row4 col10\" >0.001626</td>\n",
       "      <td id=\"T_18351_row4_col11\" class=\"data row4 col11\" >-0.001752</td>\n",
       "      <td id=\"T_18351_row4_col12\" class=\"data row4 col12\" >0.003533</td>\n",
       "      <td id=\"T_18351_row4_col13\" class=\"data row4 col13\" >-0.002081</td>\n",
       "      <td id=\"T_18351_row4_col14\" class=\"data row4 col14\" >-0.004417</td>\n",
       "      <td id=\"T_18351_row4_col15\" class=\"data row4 col15\" >0.004566</td>\n",
       "      <td id=\"T_18351_row4_col16\" class=\"data row4 col16\" >0.001454</td>\n",
       "      <td id=\"T_18351_row4_col17\" class=\"data row4 col17\" >-0.000372</td>\n",
       "      <td id=\"T_18351_row4_col18\" class=\"data row4 col18\" >0.003240</td>\n",
       "      <td id=\"T_18351_row4_col19\" class=\"data row4 col19\" >0.002039</td>\n",
       "      <td id=\"T_18351_row4_col20\" class=\"data row4 col20\" >0.000540</td>\n",
       "      <td id=\"T_18351_row4_col21\" class=\"data row4 col21\" >-0.005607</td>\n",
       "      <td id=\"T_18351_row4_col22\" class=\"data row4 col22\" >0.006154</td>\n",
       "      <td id=\"T_18351_row4_col23\" class=\"data row4 col23\" >0.001807</td>\n",
       "      <td id=\"T_18351_row4_col24\" class=\"data row4 col24\" >0.001241</td>\n",
       "      <td id=\"T_18351_row4_col25\" class=\"data row4 col25\" >-0.002235</td>\n",
       "      <td id=\"T_18351_row4_col26\" class=\"data row4 col26\" >0.000362</td>\n",
       "      <td id=\"T_18351_row4_col27\" class=\"data row4 col27\" >0.002074</td>\n",
       "      <td id=\"T_18351_row4_col28\" class=\"data row4 col28\" >0.000427</td>\n",
       "      <td id=\"T_18351_row4_col29\" class=\"data row4 col29\" >0.001842</td>\n",
       "    </tr>\n",
       "    <tr>\n",
       "      <th id=\"T_18351_level0_row5\" class=\"row_heading level0 row5\" >f_04</th>\n",
       "      <td id=\"T_18351_row5_col0\" class=\"data row5 col0\" >-0.001201</td>\n",
       "      <td id=\"T_18351_row5_col1\" class=\"data row5 col1\" >0.008797</td>\n",
       "      <td id=\"T_18351_row5_col2\" class=\"data row5 col2\" >-0.001727</td>\n",
       "      <td id=\"T_18351_row5_col3\" class=\"data row5 col3\" >-0.000732</td>\n",
       "      <td id=\"T_18351_row5_col4\" class=\"data row5 col4\" >0.000238</td>\n",
       "      <td id=\"T_18351_row5_col5\" class=\"data row5 col5\" >1.000000</td>\n",
       "      <td id=\"T_18351_row5_col6\" class=\"data row5 col6\" >0.004550</td>\n",
       "      <td id=\"T_18351_row5_col7\" class=\"data row5 col7\" >0.004143</td>\n",
       "      <td id=\"T_18351_row5_col8\" class=\"data row5 col8\" >0.007164</td>\n",
       "      <td id=\"T_18351_row5_col9\" class=\"data row5 col9\" >-0.002044</td>\n",
       "      <td id=\"T_18351_row5_col10\" class=\"data row5 col10\" >0.002025</td>\n",
       "      <td id=\"T_18351_row5_col11\" class=\"data row5 col11\" >-0.003960</td>\n",
       "      <td id=\"T_18351_row5_col12\" class=\"data row5 col12\" >0.000218</td>\n",
       "      <td id=\"T_18351_row5_col13\" class=\"data row5 col13\" >0.001141</td>\n",
       "      <td id=\"T_18351_row5_col14\" class=\"data row5 col14\" >-0.000351</td>\n",
       "      <td id=\"T_18351_row5_col15\" class=\"data row5 col15\" >0.001196</td>\n",
       "      <td id=\"T_18351_row5_col16\" class=\"data row5 col16\" >-0.002549</td>\n",
       "      <td id=\"T_18351_row5_col17\" class=\"data row5 col17\" >-0.003036</td>\n",
       "      <td id=\"T_18351_row5_col18\" class=\"data row5 col18\" >-0.002535</td>\n",
       "      <td id=\"T_18351_row5_col19\" class=\"data row5 col19\" >0.000748</td>\n",
       "      <td id=\"T_18351_row5_col20\" class=\"data row5 col20\" >0.000731</td>\n",
       "      <td id=\"T_18351_row5_col21\" class=\"data row5 col21\" >0.000549</td>\n",
       "      <td id=\"T_18351_row5_col22\" class=\"data row5 col22\" >-0.000956</td>\n",
       "      <td id=\"T_18351_row5_col23\" class=\"data row5 col23\" >0.003801</td>\n",
       "      <td id=\"T_18351_row5_col24\" class=\"data row5 col24\" >-0.002564</td>\n",
       "      <td id=\"T_18351_row5_col25\" class=\"data row5 col25\" >-0.000324</td>\n",
       "      <td id=\"T_18351_row5_col26\" class=\"data row5 col26\" >-0.000765</td>\n",
       "      <td id=\"T_18351_row5_col27\" class=\"data row5 col27\" >0.002906</td>\n",
       "      <td id=\"T_18351_row5_col28\" class=\"data row5 col28\" >0.001421</td>\n",
       "      <td id=\"T_18351_row5_col29\" class=\"data row5 col29\" >-0.003389</td>\n",
       "    </tr>\n",
       "    <tr>\n",
       "      <th id=\"T_18351_level0_row6\" class=\"row_heading level0 row6\" >f_05</th>\n",
       "      <td id=\"T_18351_row6_col0\" class=\"data row6 col0\" >-0.001297</td>\n",
       "      <td id=\"T_18351_row6_col1\" class=\"data row6 col1\" >0.003817</td>\n",
       "      <td id=\"T_18351_row6_col2\" class=\"data row6 col2\" >-0.001444</td>\n",
       "      <td id=\"T_18351_row6_col3\" class=\"data row6 col3\" >-0.003743</td>\n",
       "      <td id=\"T_18351_row6_col4\" class=\"data row6 col4\" >0.009835</td>\n",
       "      <td id=\"T_18351_row6_col5\" class=\"data row6 col5\" >0.004550</td>\n",
       "      <td id=\"T_18351_row6_col6\" class=\"data row6 col6\" >1.000000</td>\n",
       "      <td id=\"T_18351_row6_col7\" class=\"data row6 col7\" >0.004825</td>\n",
       "      <td id=\"T_18351_row6_col8\" class=\"data row6 col8\" >0.003289</td>\n",
       "      <td id=\"T_18351_row6_col9\" class=\"data row6 col9\" >-0.002826</td>\n",
       "      <td id=\"T_18351_row6_col10\" class=\"data row6 col10\" >-0.000695</td>\n",
       "      <td id=\"T_18351_row6_col11\" class=\"data row6 col11\" >0.002807</td>\n",
       "      <td id=\"T_18351_row6_col12\" class=\"data row6 col12\" >-0.001368</td>\n",
       "      <td id=\"T_18351_row6_col13\" class=\"data row6 col13\" >-0.000530</td>\n",
       "      <td id=\"T_18351_row6_col14\" class=\"data row6 col14\" >-0.001335</td>\n",
       "      <td id=\"T_18351_row6_col15\" class=\"data row6 col15\" >0.003204</td>\n",
       "      <td id=\"T_18351_row6_col16\" class=\"data row6 col16\" >-0.001235</td>\n",
       "      <td id=\"T_18351_row6_col17\" class=\"data row6 col17\" >0.003359</td>\n",
       "      <td id=\"T_18351_row6_col18\" class=\"data row6 col18\" >-0.002734</td>\n",
       "      <td id=\"T_18351_row6_col19\" class=\"data row6 col19\" >0.002783</td>\n",
       "      <td id=\"T_18351_row6_col20\" class=\"data row6 col20\" >0.007995</td>\n",
       "      <td id=\"T_18351_row6_col21\" class=\"data row6 col21\" >0.000832</td>\n",
       "      <td id=\"T_18351_row6_col22\" class=\"data row6 col22\" >-0.002269</td>\n",
       "      <td id=\"T_18351_row6_col23\" class=\"data row6 col23\" >0.002085</td>\n",
       "      <td id=\"T_18351_row6_col24\" class=\"data row6 col24\" >-0.003774</td>\n",
       "      <td id=\"T_18351_row6_col25\" class=\"data row6 col25\" >0.002300</td>\n",
       "      <td id=\"T_18351_row6_col26\" class=\"data row6 col26\" >0.002087</td>\n",
       "      <td id=\"T_18351_row6_col27\" class=\"data row6 col27\" >-0.001417</td>\n",
       "      <td id=\"T_18351_row6_col28\" class=\"data row6 col28\" >-0.003124</td>\n",
       "      <td id=\"T_18351_row6_col29\" class=\"data row6 col29\" >0.002519</td>\n",
       "    </tr>\n",
       "    <tr>\n",
       "      <th id=\"T_18351_level0_row7\" class=\"row_heading level0 row7\" >f_06</th>\n",
       "      <td id=\"T_18351_row7_col0\" class=\"data row7 col0\" >0.001249</td>\n",
       "      <td id=\"T_18351_row7_col1\" class=\"data row7 col1\" >0.002903</td>\n",
       "      <td id=\"T_18351_row7_col2\" class=\"data row7 col2\" >0.001826</td>\n",
       "      <td id=\"T_18351_row7_col3\" class=\"data row7 col3\" >0.003730</td>\n",
       "      <td id=\"T_18351_row7_col4\" class=\"data row7 col4\" >0.002570</td>\n",
       "      <td id=\"T_18351_row7_col5\" class=\"data row7 col5\" >0.004143</td>\n",
       "      <td id=\"T_18351_row7_col6\" class=\"data row7 col6\" >0.004825</td>\n",
       "      <td id=\"T_18351_row7_col7\" class=\"data row7 col7\" >1.000000</td>\n",
       "      <td id=\"T_18351_row7_col8\" class=\"data row7 col8\" >-0.000300</td>\n",
       "      <td id=\"T_18351_row7_col9\" class=\"data row7 col9\" >-0.005988</td>\n",
       "      <td id=\"T_18351_row7_col10\" class=\"data row7 col10\" >0.009750</td>\n",
       "      <td id=\"T_18351_row7_col11\" class=\"data row7 col11\" >-0.004827</td>\n",
       "      <td id=\"T_18351_row7_col12\" class=\"data row7 col12\" >-0.004692</td>\n",
       "      <td id=\"T_18351_row7_col13\" class=\"data row7 col13\" >-0.001239</td>\n",
       "      <td id=\"T_18351_row7_col14\" class=\"data row7 col14\" >0.000689</td>\n",
       "      <td id=\"T_18351_row7_col15\" class=\"data row7 col15\" >-0.000707</td>\n",
       "      <td id=\"T_18351_row7_col16\" class=\"data row7 col16\" >0.004625</td>\n",
       "      <td id=\"T_18351_row7_col17\" class=\"data row7 col17\" >0.003590</td>\n",
       "      <td id=\"T_18351_row7_col18\" class=\"data row7 col18\" >0.004411</td>\n",
       "      <td id=\"T_18351_row7_col19\" class=\"data row7 col19\" >-0.006175</td>\n",
       "      <td id=\"T_18351_row7_col20\" class=\"data row7 col20\" >-0.005252</td>\n",
       "      <td id=\"T_18351_row7_col21\" class=\"data row7 col21\" >0.000395</td>\n",
       "      <td id=\"T_18351_row7_col22\" class=\"data row7 col22\" >-0.002691</td>\n",
       "      <td id=\"T_18351_row7_col23\" class=\"data row7 col23\" >0.000597</td>\n",
       "      <td id=\"T_18351_row7_col24\" class=\"data row7 col24\" >-0.002754</td>\n",
       "      <td id=\"T_18351_row7_col25\" class=\"data row7 col25\" >-0.002924</td>\n",
       "      <td id=\"T_18351_row7_col26\" class=\"data row7 col26\" >-0.006603</td>\n",
       "      <td id=\"T_18351_row7_col27\" class=\"data row7 col27\" >-0.000150</td>\n",
       "      <td id=\"T_18351_row7_col28\" class=\"data row7 col28\" >-0.005421</td>\n",
       "      <td id=\"T_18351_row7_col29\" class=\"data row7 col29\" >-0.000110</td>\n",
       "    </tr>\n",
       "    <tr>\n",
       "      <th id=\"T_18351_level0_row8\" class=\"row_heading level0 row8\" >f_07</th>\n",
       "      <td id=\"T_18351_row8_col0\" class=\"data row8 col0\" >-0.003181</td>\n",
       "      <td id=\"T_18351_row8_col1\" class=\"data row8 col1\" >-0.003847</td>\n",
       "      <td id=\"T_18351_row8_col2\" class=\"data row8 col2\" >0.006539</td>\n",
       "      <td id=\"T_18351_row8_col3\" class=\"data row8 col3\" >0.002603</td>\n",
       "      <td id=\"T_18351_row8_col4\" class=\"data row8 col4\" >-0.000562</td>\n",
       "      <td id=\"T_18351_row8_col5\" class=\"data row8 col5\" >0.007164</td>\n",
       "      <td id=\"T_18351_row8_col6\" class=\"data row8 col6\" >0.003289</td>\n",
       "      <td id=\"T_18351_row8_col7\" class=\"data row8 col7\" >-0.000300</td>\n",
       "      <td id=\"T_18351_row8_col8\" class=\"data row8 col8\" >1.000000</td>\n",
       "      <td id=\"T_18351_row8_col9\" class=\"data row8 col9\" >-0.131742</td>\n",
       "      <td id=\"T_18351_row8_col10\" class=\"data row8 col10\" >0.036707</td>\n",
       "      <td id=\"T_18351_row8_col11\" class=\"data row8 col11\" >-0.106755</td>\n",
       "      <td id=\"T_18351_row8_col12\" class=\"data row8 col12\" >-0.012389</td>\n",
       "      <td id=\"T_18351_row8_col13\" class=\"data row8 col13\" >-0.196534</td>\n",
       "      <td id=\"T_18351_row8_col14\" class=\"data row8 col14\" >-0.117606</td>\n",
       "      <td id=\"T_18351_row8_col15\" class=\"data row8 col15\" >0.001908</td>\n",
       "      <td id=\"T_18351_row8_col16\" class=\"data row8 col16\" >0.000890</td>\n",
       "      <td id=\"T_18351_row8_col17\" class=\"data row8 col17\" >0.004975</td>\n",
       "      <td id=\"T_18351_row8_col18\" class=\"data row8 col18\" >-0.001435</td>\n",
       "      <td id=\"T_18351_row8_col19\" class=\"data row8 col19\" >-0.004443</td>\n",
       "      <td id=\"T_18351_row8_col20\" class=\"data row8 col20\" >0.003504</td>\n",
       "      <td id=\"T_18351_row8_col21\" class=\"data row8 col21\" >-0.002860</td>\n",
       "      <td id=\"T_18351_row8_col22\" class=\"data row8 col22\" >-0.000085</td>\n",
       "      <td id=\"T_18351_row8_col23\" class=\"data row8 col23\" >0.003461</td>\n",
       "      <td id=\"T_18351_row8_col24\" class=\"data row8 col24\" >-0.091825</td>\n",
       "      <td id=\"T_18351_row8_col25\" class=\"data row8 col25\" >0.030238</td>\n",
       "      <td id=\"T_18351_row8_col26\" class=\"data row8 col26\" >0.093444</td>\n",
       "      <td id=\"T_18351_row8_col27\" class=\"data row8 col27\" >-0.017622</td>\n",
       "      <td id=\"T_18351_row8_col28\" class=\"data row8 col28\" >-0.024546</td>\n",
       "      <td id=\"T_18351_row8_col29\" class=\"data row8 col29\" >-0.022357</td>\n",
       "    </tr>\n",
       "    <tr>\n",
       "      <th id=\"T_18351_level0_row9\" class=\"row_heading level0 row9\" >f_08</th>\n",
       "      <td id=\"T_18351_row9_col0\" class=\"data row9 col0\" >0.001774</td>\n",
       "      <td id=\"T_18351_row9_col1\" class=\"data row9 col1\" >-0.000866</td>\n",
       "      <td id=\"T_18351_row9_col2\" class=\"data row9 col2\" >0.001023</td>\n",
       "      <td id=\"T_18351_row9_col3\" class=\"data row9 col3\" >0.004888</td>\n",
       "      <td id=\"T_18351_row9_col4\" class=\"data row9 col4\" >0.000095</td>\n",
       "      <td id=\"T_18351_row9_col5\" class=\"data row9 col5\" >-0.002044</td>\n",
       "      <td id=\"T_18351_row9_col6\" class=\"data row9 col6\" >-0.002826</td>\n",
       "      <td id=\"T_18351_row9_col7\" class=\"data row9 col7\" >-0.005988</td>\n",
       "      <td id=\"T_18351_row9_col8\" class=\"data row9 col8\" >-0.131742</td>\n",
       "      <td id=\"T_18351_row9_col9\" class=\"data row9 col9\" >1.000000</td>\n",
       "      <td id=\"T_18351_row9_col10\" class=\"data row9 col10\" >-0.360734</td>\n",
       "      <td id=\"T_18351_row9_col11\" class=\"data row9 col11\" >-0.051459</td>\n",
       "      <td id=\"T_18351_row9_col12\" class=\"data row9 col12\" >0.179527</td>\n",
       "      <td id=\"T_18351_row9_col13\" class=\"data row9 col13\" >-0.076524</td>\n",
       "      <td id=\"T_18351_row9_col14\" class=\"data row9 col14\" >-0.014362</td>\n",
       "      <td id=\"T_18351_row9_col15\" class=\"data row9 col15\" >0.000242</td>\n",
       "      <td id=\"T_18351_row9_col16\" class=\"data row9 col16\" >0.000011</td>\n",
       "      <td id=\"T_18351_row9_col17\" class=\"data row9 col17\" >-0.006046</td>\n",
       "      <td id=\"T_18351_row9_col18\" class=\"data row9 col18\" >-0.000272</td>\n",
       "      <td id=\"T_18351_row9_col19\" class=\"data row9 col19\" >-0.000551</td>\n",
       "      <td id=\"T_18351_row9_col20\" class=\"data row9 col20\" >0.002888</td>\n",
       "      <td id=\"T_18351_row9_col21\" class=\"data row9 col21\" >-0.001366</td>\n",
       "      <td id=\"T_18351_row9_col22\" class=\"data row9 col22\" >-0.000753</td>\n",
       "      <td id=\"T_18351_row9_col23\" class=\"data row9 col23\" >0.072612</td>\n",
       "      <td id=\"T_18351_row9_col24\" class=\"data row9 col24\" >0.028442</td>\n",
       "      <td id=\"T_18351_row9_col25\" class=\"data row9 col25\" >0.011038</td>\n",
       "      <td id=\"T_18351_row9_col26\" class=\"data row9 col26\" >0.072565</td>\n",
       "      <td id=\"T_18351_row9_col27\" class=\"data row9 col27\" >0.085690</td>\n",
       "      <td id=\"T_18351_row9_col28\" class=\"data row9 col28\" >-0.015953</td>\n",
       "      <td id=\"T_18351_row9_col29\" class=\"data row9 col29\" >-0.029955</td>\n",
       "    </tr>\n",
       "    <tr>\n",
       "      <th id=\"T_18351_level0_row10\" class=\"row_heading level0 row10\" >f_09</th>\n",
       "      <td id=\"T_18351_row10_col0\" class=\"data row10 col0\" >-0.001422</td>\n",
       "      <td id=\"T_18351_row10_col1\" class=\"data row10 col1\" >-0.000976</td>\n",
       "      <td id=\"T_18351_row10_col2\" class=\"data row10 col2\" >0.003428</td>\n",
       "      <td id=\"T_18351_row10_col3\" class=\"data row10 col3\" >-0.004690</td>\n",
       "      <td id=\"T_18351_row10_col4\" class=\"data row10 col4\" >0.001626</td>\n",
       "      <td id=\"T_18351_row10_col5\" class=\"data row10 col5\" >0.002025</td>\n",
       "      <td id=\"T_18351_row10_col6\" class=\"data row10 col6\" >-0.000695</td>\n",
       "      <td id=\"T_18351_row10_col7\" class=\"data row10 col7\" >0.009750</td>\n",
       "      <td id=\"T_18351_row10_col8\" class=\"data row10 col8\" >0.036707</td>\n",
       "      <td id=\"T_18351_row10_col9\" class=\"data row10 col9\" >-0.360734</td>\n",
       "      <td id=\"T_18351_row10_col10\" class=\"data row10 col10\" >1.000000</td>\n",
       "      <td id=\"T_18351_row10_col11\" class=\"data row10 col11\" >0.035432</td>\n",
       "      <td id=\"T_18351_row10_col12\" class=\"data row10 col12\" >-0.202523</td>\n",
       "      <td id=\"T_18351_row10_col13\" class=\"data row10 col13\" >-0.295563</td>\n",
       "      <td id=\"T_18351_row10_col14\" class=\"data row10 col14\" >-0.281970</td>\n",
       "      <td id=\"T_18351_row10_col15\" class=\"data row10 col15\" >0.006359</td>\n",
       "      <td id=\"T_18351_row10_col16\" class=\"data row10 col16\" >0.000875</td>\n",
       "      <td id=\"T_18351_row10_col17\" class=\"data row10 col17\" >-0.000845</td>\n",
       "      <td id=\"T_18351_row10_col18\" class=\"data row10 col18\" >-0.001134</td>\n",
       "      <td id=\"T_18351_row10_col19\" class=\"data row10 col19\" >0.000692</td>\n",
       "      <td id=\"T_18351_row10_col20\" class=\"data row10 col20\" >0.000224</td>\n",
       "      <td id=\"T_18351_row10_col21\" class=\"data row10 col21\" >0.003695</td>\n",
       "      <td id=\"T_18351_row10_col22\" class=\"data row10 col22\" >0.000747</td>\n",
       "      <td id=\"T_18351_row10_col23\" class=\"data row10 col23\" >-0.123708</td>\n",
       "      <td id=\"T_18351_row10_col24\" class=\"data row10 col24\" >-0.017430</td>\n",
       "      <td id=\"T_18351_row10_col25\" class=\"data row10 col25\" >-0.014524</td>\n",
       "      <td id=\"T_18351_row10_col26\" class=\"data row10 col26\" >-0.081116</td>\n",
       "      <td id=\"T_18351_row10_col27\" class=\"data row10 col27\" >-0.085901</td>\n",
       "      <td id=\"T_18351_row10_col28\" class=\"data row10 col28\" >-0.064825</td>\n",
       "      <td id=\"T_18351_row10_col29\" class=\"data row10 col29\" >0.018955</td>\n",
       "    </tr>\n",
       "    <tr>\n",
       "      <th id=\"T_18351_level0_row11\" class=\"row_heading level0 row11\" >f_10</th>\n",
       "      <td id=\"T_18351_row11_col0\" class=\"data row11 col0\" >-0.000181</td>\n",
       "      <td id=\"T_18351_row11_col1\" class=\"data row11 col1\" >0.002510</td>\n",
       "      <td id=\"T_18351_row11_col2\" class=\"data row11 col2\" >0.002071</td>\n",
       "      <td id=\"T_18351_row11_col3\" class=\"data row11 col3\" >0.004708</td>\n",
       "      <td id=\"T_18351_row11_col4\" class=\"data row11 col4\" >-0.001752</td>\n",
       "      <td id=\"T_18351_row11_col5\" class=\"data row11 col5\" >-0.003960</td>\n",
       "      <td id=\"T_18351_row11_col6\" class=\"data row11 col6\" >0.002807</td>\n",
       "      <td id=\"T_18351_row11_col7\" class=\"data row11 col7\" >-0.004827</td>\n",
       "      <td id=\"T_18351_row11_col8\" class=\"data row11 col8\" >-0.106755</td>\n",
       "      <td id=\"T_18351_row11_col9\" class=\"data row11 col9\" >-0.051459</td>\n",
       "      <td id=\"T_18351_row11_col10\" class=\"data row11 col10\" >0.035432</td>\n",
       "      <td id=\"T_18351_row11_col11\" class=\"data row11 col11\" >1.000000</td>\n",
       "      <td id=\"T_18351_row11_col12\" class=\"data row11 col12\" >-0.267171</td>\n",
       "      <td id=\"T_18351_row11_col13\" class=\"data row11 col13\" >-0.070415</td>\n",
       "      <td id=\"T_18351_row11_col14\" class=\"data row11 col14\" >-0.281057</td>\n",
       "      <td id=\"T_18351_row11_col15\" class=\"data row11 col15\" >-0.004625</td>\n",
       "      <td id=\"T_18351_row11_col16\" class=\"data row11 col16\" >0.000805</td>\n",
       "      <td id=\"T_18351_row11_col17\" class=\"data row11 col17\" >-0.008010</td>\n",
       "      <td id=\"T_18351_row11_col18\" class=\"data row11 col18\" >-0.004454</td>\n",
       "      <td id=\"T_18351_row11_col19\" class=\"data row11 col19\" >0.000219</td>\n",
       "      <td id=\"T_18351_row11_col20\" class=\"data row11 col20\" >-0.000655</td>\n",
       "      <td id=\"T_18351_row11_col21\" class=\"data row11 col21\" >0.001802</td>\n",
       "      <td id=\"T_18351_row11_col22\" class=\"data row11 col22\" >0.007463</td>\n",
       "      <td id=\"T_18351_row11_col23\" class=\"data row11 col23\" >-0.022650</td>\n",
       "      <td id=\"T_18351_row11_col24\" class=\"data row11 col24\" >0.061926</td>\n",
       "      <td id=\"T_18351_row11_col25\" class=\"data row11 col25\" >-0.016214</td>\n",
       "      <td id=\"T_18351_row11_col26\" class=\"data row11 col26\" >-0.063222</td>\n",
       "      <td id=\"T_18351_row11_col27\" class=\"data row11 col27\" >0.034416</td>\n",
       "      <td id=\"T_18351_row11_col28\" class=\"data row11 col28\" >0.040545</td>\n",
       "      <td id=\"T_18351_row11_col29\" class=\"data row11 col29\" >0.015919</td>\n",
       "    </tr>\n",
       "    <tr>\n",
       "      <th id=\"T_18351_level0_row12\" class=\"row_heading level0 row12\" >f_11</th>\n",
       "      <td id=\"T_18351_row12_col0\" class=\"data row12 col0\" >0.003843</td>\n",
       "      <td id=\"T_18351_row12_col1\" class=\"data row12 col1\" >-0.000938</td>\n",
       "      <td id=\"T_18351_row12_col2\" class=\"data row12 col2\" >-0.002024</td>\n",
       "      <td id=\"T_18351_row12_col3\" class=\"data row12 col3\" >0.001624</td>\n",
       "      <td id=\"T_18351_row12_col4\" class=\"data row12 col4\" >0.003533</td>\n",
       "      <td id=\"T_18351_row12_col5\" class=\"data row12 col5\" >0.000218</td>\n",
       "      <td id=\"T_18351_row12_col6\" class=\"data row12 col6\" >-0.001368</td>\n",
       "      <td id=\"T_18351_row12_col7\" class=\"data row12 col7\" >-0.004692</td>\n",
       "      <td id=\"T_18351_row12_col8\" class=\"data row12 col8\" >-0.012389</td>\n",
       "      <td id=\"T_18351_row12_col9\" class=\"data row12 col9\" >0.179527</td>\n",
       "      <td id=\"T_18351_row12_col10\" class=\"data row12 col10\" >-0.202523</td>\n",
       "      <td id=\"T_18351_row12_col11\" class=\"data row12 col11\" >-0.267171</td>\n",
       "      <td id=\"T_18351_row12_col12\" class=\"data row12 col12\" >1.000000</td>\n",
       "      <td id=\"T_18351_row12_col13\" class=\"data row12 col13\" >-0.126511</td>\n",
       "      <td id=\"T_18351_row12_col14\" class=\"data row12 col14\" >0.017010</td>\n",
       "      <td id=\"T_18351_row12_col15\" class=\"data row12 col15\" >-0.001010</td>\n",
       "      <td id=\"T_18351_row12_col16\" class=\"data row12 col16\" >-0.000184</td>\n",
       "      <td id=\"T_18351_row12_col17\" class=\"data row12 col17\" >0.003038</td>\n",
       "      <td id=\"T_18351_row12_col18\" class=\"data row12 col18\" >0.003952</td>\n",
       "      <td id=\"T_18351_row12_col19\" class=\"data row12 col19\" >0.000722</td>\n",
       "      <td id=\"T_18351_row12_col20\" class=\"data row12 col20\" >0.005591</td>\n",
       "      <td id=\"T_18351_row12_col21\" class=\"data row12 col21\" >0.001004</td>\n",
       "      <td id=\"T_18351_row12_col22\" class=\"data row12 col22\" >-0.002893</td>\n",
       "      <td id=\"T_18351_row12_col23\" class=\"data row12 col23\" >0.034807</td>\n",
       "      <td id=\"T_18351_row12_col24\" class=\"data row12 col24\" >0.009575</td>\n",
       "      <td id=\"T_18351_row12_col25\" class=\"data row12 col25\" >-0.006282</td>\n",
       "      <td id=\"T_18351_row12_col26\" class=\"data row12 col26\" >0.028018</td>\n",
       "      <td id=\"T_18351_row12_col27\" class=\"data row12 col27\" >0.002184</td>\n",
       "      <td id=\"T_18351_row12_col28\" class=\"data row12 col28\" >-0.044690</td>\n",
       "      <td id=\"T_18351_row12_col29\" class=\"data row12 col29\" >-0.011339</td>\n",
       "    </tr>\n",
       "    <tr>\n",
       "      <th id=\"T_18351_level0_row13\" class=\"row_heading level0 row13\" >f_12</th>\n",
       "      <td id=\"T_18351_row13_col0\" class=\"data row13 col0\" >-0.001667</td>\n",
       "      <td id=\"T_18351_row13_col1\" class=\"data row13 col1\" >0.004578</td>\n",
       "      <td id=\"T_18351_row13_col2\" class=\"data row13 col2\" >-0.007009</td>\n",
       "      <td id=\"T_18351_row13_col3\" class=\"data row13 col3\" >0.003369</td>\n",
       "      <td id=\"T_18351_row13_col4\" class=\"data row13 col4\" >-0.002081</td>\n",
       "      <td id=\"T_18351_row13_col5\" class=\"data row13 col5\" >0.001141</td>\n",
       "      <td id=\"T_18351_row13_col6\" class=\"data row13 col6\" >-0.000530</td>\n",
       "      <td id=\"T_18351_row13_col7\" class=\"data row13 col7\" >-0.001239</td>\n",
       "      <td id=\"T_18351_row13_col8\" class=\"data row13 col8\" >-0.196534</td>\n",
       "      <td id=\"T_18351_row13_col9\" class=\"data row13 col9\" >-0.076524</td>\n",
       "      <td id=\"T_18351_row13_col10\" class=\"data row13 col10\" >-0.295563</td>\n",
       "      <td id=\"T_18351_row13_col11\" class=\"data row13 col11\" >-0.070415</td>\n",
       "      <td id=\"T_18351_row13_col12\" class=\"data row13 col12\" >-0.126511</td>\n",
       "      <td id=\"T_18351_row13_col13\" class=\"data row13 col13\" >1.000000</td>\n",
       "      <td id=\"T_18351_row13_col14\" class=\"data row13 col14\" >0.195191</td>\n",
       "      <td id=\"T_18351_row13_col15\" class=\"data row13 col15\" >-0.000842</td>\n",
       "      <td id=\"T_18351_row13_col16\" class=\"data row13 col16\" >0.001116</td>\n",
       "      <td id=\"T_18351_row13_col17\" class=\"data row13 col17\" >0.003925</td>\n",
       "      <td id=\"T_18351_row13_col18\" class=\"data row13 col18\" >-0.003726</td>\n",
       "      <td id=\"T_18351_row13_col19\" class=\"data row13 col19\" >-0.000228</td>\n",
       "      <td id=\"T_18351_row13_col20\" class=\"data row13 col20\" >-0.004642</td>\n",
       "      <td id=\"T_18351_row13_col21\" class=\"data row13 col21\" >0.000585</td>\n",
       "      <td id=\"T_18351_row13_col22\" class=\"data row13 col22\" >-0.002922</td>\n",
       "      <td id=\"T_18351_row13_col23\" class=\"data row13 col23\" >0.053503</td>\n",
       "      <td id=\"T_18351_row13_col24\" class=\"data row13 col24\" >-0.007275</td>\n",
       "      <td id=\"T_18351_row13_col25\" class=\"data row13 col25\" >0.015209</td>\n",
       "      <td id=\"T_18351_row13_col26\" class=\"data row13 col26\" >-0.011212</td>\n",
       "      <td id=\"T_18351_row13_col27\" class=\"data row13 col27\" >0.001042</td>\n",
       "      <td id=\"T_18351_row13_col28\" class=\"data row13 col28\" >0.122341</td>\n",
       "      <td id=\"T_18351_row13_col29\" class=\"data row13 col29\" >0.030514</td>\n",
       "    </tr>\n",
       "    <tr>\n",
       "      <th id=\"T_18351_level0_row14\" class=\"row_heading level0 row14\" >f_13</th>\n",
       "      <td id=\"T_18351_row14_col0\" class=\"data row14 col0\" >-0.002323</td>\n",
       "      <td id=\"T_18351_row14_col1\" class=\"data row14 col1\" >-0.001075</td>\n",
       "      <td id=\"T_18351_row14_col2\" class=\"data row14 col2\" >-0.006544</td>\n",
       "      <td id=\"T_18351_row14_col3\" class=\"data row14 col3\" >-0.000620</td>\n",
       "      <td id=\"T_18351_row14_col4\" class=\"data row14 col4\" >-0.004417</td>\n",
       "      <td id=\"T_18351_row14_col5\" class=\"data row14 col5\" >-0.000351</td>\n",
       "      <td id=\"T_18351_row14_col6\" class=\"data row14 col6\" >-0.001335</td>\n",
       "      <td id=\"T_18351_row14_col7\" class=\"data row14 col7\" >0.000689</td>\n",
       "      <td id=\"T_18351_row14_col8\" class=\"data row14 col8\" >-0.117606</td>\n",
       "      <td id=\"T_18351_row14_col9\" class=\"data row14 col9\" >-0.014362</td>\n",
       "      <td id=\"T_18351_row14_col10\" class=\"data row14 col10\" >-0.281970</td>\n",
       "      <td id=\"T_18351_row14_col11\" class=\"data row14 col11\" >-0.281057</td>\n",
       "      <td id=\"T_18351_row14_col12\" class=\"data row14 col12\" >0.017010</td>\n",
       "      <td id=\"T_18351_row14_col13\" class=\"data row14 col13\" >0.195191</td>\n",
       "      <td id=\"T_18351_row14_col14\" class=\"data row14 col14\" >1.000000</td>\n",
       "      <td id=\"T_18351_row14_col15\" class=\"data row14 col15\" >0.000332</td>\n",
       "      <td id=\"T_18351_row14_col16\" class=\"data row14 col16\" >-0.002492</td>\n",
       "      <td id=\"T_18351_row14_col17\" class=\"data row14 col17\" >0.001416</td>\n",
       "      <td id=\"T_18351_row14_col18\" class=\"data row14 col18\" >0.003886</td>\n",
       "      <td id=\"T_18351_row14_col19\" class=\"data row14 col19\" >-0.000087</td>\n",
       "      <td id=\"T_18351_row14_col20\" class=\"data row14 col20\" >-0.000901</td>\n",
       "      <td id=\"T_18351_row14_col21\" class=\"data row14 col21\" >0.002803</td>\n",
       "      <td id=\"T_18351_row14_col22\" class=\"data row14 col22\" >-0.008525</td>\n",
       "      <td id=\"T_18351_row14_col23\" class=\"data row14 col23\" >0.032815</td>\n",
       "      <td id=\"T_18351_row14_col24\" class=\"data row14 col24\" >0.010538</td>\n",
       "      <td id=\"T_18351_row14_col25\" class=\"data row14 col25\" >-0.012033</td>\n",
       "      <td id=\"T_18351_row14_col26\" class=\"data row14 col26\" >0.020166</td>\n",
       "      <td id=\"T_18351_row14_col27\" class=\"data row14 col27\" >0.019981</td>\n",
       "      <td id=\"T_18351_row14_col28\" class=\"data row14 col28\" >-0.001665</td>\n",
       "      <td id=\"T_18351_row14_col29\" class=\"data row14 col29\" >-0.012568</td>\n",
       "    </tr>\n",
       "    <tr>\n",
       "      <th id=\"T_18351_level0_row15\" class=\"row_heading level0 row15\" >f_14</th>\n",
       "      <td id=\"T_18351_row15_col0\" class=\"data row15 col0\" >-0.004569</td>\n",
       "      <td id=\"T_18351_row15_col1\" class=\"data row15 col1\" >-0.003255</td>\n",
       "      <td id=\"T_18351_row15_col2\" class=\"data row15 col2\" >-0.003968</td>\n",
       "      <td id=\"T_18351_row15_col3\" class=\"data row15 col3\" >0.002112</td>\n",
       "      <td id=\"T_18351_row15_col4\" class=\"data row15 col4\" >0.004566</td>\n",
       "      <td id=\"T_18351_row15_col5\" class=\"data row15 col5\" >0.001196</td>\n",
       "      <td id=\"T_18351_row15_col6\" class=\"data row15 col6\" >0.003204</td>\n",
       "      <td id=\"T_18351_row15_col7\" class=\"data row15 col7\" >-0.000707</td>\n",
       "      <td id=\"T_18351_row15_col8\" class=\"data row15 col8\" >0.001908</td>\n",
       "      <td id=\"T_18351_row15_col9\" class=\"data row15 col9\" >0.000242</td>\n",
       "      <td id=\"T_18351_row15_col10\" class=\"data row15 col10\" >0.006359</td>\n",
       "      <td id=\"T_18351_row15_col11\" class=\"data row15 col11\" >-0.004625</td>\n",
       "      <td id=\"T_18351_row15_col12\" class=\"data row15 col12\" >-0.001010</td>\n",
       "      <td id=\"T_18351_row15_col13\" class=\"data row15 col13\" >-0.000842</td>\n",
       "      <td id=\"T_18351_row15_col14\" class=\"data row15 col14\" >0.000332</td>\n",
       "      <td id=\"T_18351_row15_col15\" class=\"data row15 col15\" >1.000000</td>\n",
       "      <td id=\"T_18351_row15_col16\" class=\"data row15 col16\" >0.001607</td>\n",
       "      <td id=\"T_18351_row15_col17\" class=\"data row15 col17\" >0.001570</td>\n",
       "      <td id=\"T_18351_row15_col18\" class=\"data row15 col18\" >-0.001449</td>\n",
       "      <td id=\"T_18351_row15_col19\" class=\"data row15 col19\" >0.005759</td>\n",
       "      <td id=\"T_18351_row15_col20\" class=\"data row15 col20\" >-0.000835</td>\n",
       "      <td id=\"T_18351_row15_col21\" class=\"data row15 col21\" >-0.000451</td>\n",
       "      <td id=\"T_18351_row15_col22\" class=\"data row15 col22\" >0.001578</td>\n",
       "      <td id=\"T_18351_row15_col23\" class=\"data row15 col23\" >-0.001629</td>\n",
       "      <td id=\"T_18351_row15_col24\" class=\"data row15 col24\" >0.001980</td>\n",
       "      <td id=\"T_18351_row15_col25\" class=\"data row15 col25\" >0.000781</td>\n",
       "      <td id=\"T_18351_row15_col26\" class=\"data row15 col26\" >-0.007537</td>\n",
       "      <td id=\"T_18351_row15_col27\" class=\"data row15 col27\" >-0.002692</td>\n",
       "      <td id=\"T_18351_row15_col28\" class=\"data row15 col28\" >-0.000292</td>\n",
       "      <td id=\"T_18351_row15_col29\" class=\"data row15 col29\" >-0.003791</td>\n",
       "    </tr>\n",
       "    <tr>\n",
       "      <th id=\"T_18351_level0_row16\" class=\"row_heading level0 row16\" >f_15</th>\n",
       "      <td id=\"T_18351_row16_col0\" class=\"data row16 col0\" >0.000797</td>\n",
       "      <td id=\"T_18351_row16_col1\" class=\"data row16 col1\" >0.005267</td>\n",
       "      <td id=\"T_18351_row16_col2\" class=\"data row16 col2\" >-0.000157</td>\n",
       "      <td id=\"T_18351_row16_col3\" class=\"data row16 col3\" >0.005397</td>\n",
       "      <td id=\"T_18351_row16_col4\" class=\"data row16 col4\" >0.001454</td>\n",
       "      <td id=\"T_18351_row16_col5\" class=\"data row16 col5\" >-0.002549</td>\n",
       "      <td id=\"T_18351_row16_col6\" class=\"data row16 col6\" >-0.001235</td>\n",
       "      <td id=\"T_18351_row16_col7\" class=\"data row16 col7\" >0.004625</td>\n",
       "      <td id=\"T_18351_row16_col8\" class=\"data row16 col8\" >0.000890</td>\n",
       "      <td id=\"T_18351_row16_col9\" class=\"data row16 col9\" >0.000011</td>\n",
       "      <td id=\"T_18351_row16_col10\" class=\"data row16 col10\" >0.000875</td>\n",
       "      <td id=\"T_18351_row16_col11\" class=\"data row16 col11\" >0.000805</td>\n",
       "      <td id=\"T_18351_row16_col12\" class=\"data row16 col12\" >-0.000184</td>\n",
       "      <td id=\"T_18351_row16_col13\" class=\"data row16 col13\" >0.001116</td>\n",
       "      <td id=\"T_18351_row16_col14\" class=\"data row16 col14\" >-0.002492</td>\n",
       "      <td id=\"T_18351_row16_col15\" class=\"data row16 col15\" >0.001607</td>\n",
       "      <td id=\"T_18351_row16_col16\" class=\"data row16 col16\" >1.000000</td>\n",
       "      <td id=\"T_18351_row16_col17\" class=\"data row16 col17\" >0.007094</td>\n",
       "      <td id=\"T_18351_row16_col18\" class=\"data row16 col18\" >0.000406</td>\n",
       "      <td id=\"T_18351_row16_col19\" class=\"data row16 col19\" >0.006236</td>\n",
       "      <td id=\"T_18351_row16_col20\" class=\"data row16 col20\" >-0.004414</td>\n",
       "      <td id=\"T_18351_row16_col21\" class=\"data row16 col21\" >-0.002441</td>\n",
       "      <td id=\"T_18351_row16_col22\" class=\"data row16 col22\" >0.001769</td>\n",
       "      <td id=\"T_18351_row16_col23\" class=\"data row16 col23\" >-0.004125</td>\n",
       "      <td id=\"T_18351_row16_col24\" class=\"data row16 col24\" >-0.004534</td>\n",
       "      <td id=\"T_18351_row16_col25\" class=\"data row16 col25\" >-0.004002</td>\n",
       "      <td id=\"T_18351_row16_col26\" class=\"data row16 col26\" >0.001268</td>\n",
       "      <td id=\"T_18351_row16_col27\" class=\"data row16 col27\" >-0.003444</td>\n",
       "      <td id=\"T_18351_row16_col28\" class=\"data row16 col28\" >0.004094</td>\n",
       "      <td id=\"T_18351_row16_col29\" class=\"data row16 col29\" >0.004737</td>\n",
       "    </tr>\n",
       "    <tr>\n",
       "      <th id=\"T_18351_level0_row17\" class=\"row_heading level0 row17\" >f_16</th>\n",
       "      <td id=\"T_18351_row17_col0\" class=\"data row17 col0\" >0.002766</td>\n",
       "      <td id=\"T_18351_row17_col1\" class=\"data row17 col1\" >-0.001998</td>\n",
       "      <td id=\"T_18351_row17_col2\" class=\"data row17 col2\" >0.000941</td>\n",
       "      <td id=\"T_18351_row17_col3\" class=\"data row17 col3\" >-0.003674</td>\n",
       "      <td id=\"T_18351_row17_col4\" class=\"data row17 col4\" >-0.000372</td>\n",
       "      <td id=\"T_18351_row17_col5\" class=\"data row17 col5\" >-0.003036</td>\n",
       "      <td id=\"T_18351_row17_col6\" class=\"data row17 col6\" >0.003359</td>\n",
       "      <td id=\"T_18351_row17_col7\" class=\"data row17 col7\" >0.003590</td>\n",
       "      <td id=\"T_18351_row17_col8\" class=\"data row17 col8\" >0.004975</td>\n",
       "      <td id=\"T_18351_row17_col9\" class=\"data row17 col9\" >-0.006046</td>\n",
       "      <td id=\"T_18351_row17_col10\" class=\"data row17 col10\" >-0.000845</td>\n",
       "      <td id=\"T_18351_row17_col11\" class=\"data row17 col11\" >-0.008010</td>\n",
       "      <td id=\"T_18351_row17_col12\" class=\"data row17 col12\" >0.003038</td>\n",
       "      <td id=\"T_18351_row17_col13\" class=\"data row17 col13\" >0.003925</td>\n",
       "      <td id=\"T_18351_row17_col14\" class=\"data row17 col14\" >0.001416</td>\n",
       "      <td id=\"T_18351_row17_col15\" class=\"data row17 col15\" >0.001570</td>\n",
       "      <td id=\"T_18351_row17_col16\" class=\"data row17 col16\" >0.007094</td>\n",
       "      <td id=\"T_18351_row17_col17\" class=\"data row17 col17\" >1.000000</td>\n",
       "      <td id=\"T_18351_row17_col18\" class=\"data row17 col18\" >0.002536</td>\n",
       "      <td id=\"T_18351_row17_col19\" class=\"data row17 col19\" >0.003980</td>\n",
       "      <td id=\"T_18351_row17_col20\" class=\"data row17 col20\" >0.002479</td>\n",
       "      <td id=\"T_18351_row17_col21\" class=\"data row17 col21\" >0.001660</td>\n",
       "      <td id=\"T_18351_row17_col22\" class=\"data row17 col22\" >0.002605</td>\n",
       "      <td id=\"T_18351_row17_col23\" class=\"data row17 col23\" >0.003349</td>\n",
       "      <td id=\"T_18351_row17_col24\" class=\"data row17 col24\" >-0.001059</td>\n",
       "      <td id=\"T_18351_row17_col25\" class=\"data row17 col25\" >-0.000111</td>\n",
       "      <td id=\"T_18351_row17_col26\" class=\"data row17 col26\" >0.002177</td>\n",
       "      <td id=\"T_18351_row17_col27\" class=\"data row17 col27\" >0.008018</td>\n",
       "      <td id=\"T_18351_row17_col28\" class=\"data row17 col28\" >-0.008543</td>\n",
       "      <td id=\"T_18351_row17_col29\" class=\"data row17 col29\" >0.003489</td>\n",
       "    </tr>\n",
       "    <tr>\n",
       "      <th id=\"T_18351_level0_row18\" class=\"row_heading level0 row18\" >f_17</th>\n",
       "      <td id=\"T_18351_row18_col0\" class=\"data row18 col0\" >0.002510</td>\n",
       "      <td id=\"T_18351_row18_col1\" class=\"data row18 col1\" >0.005100</td>\n",
       "      <td id=\"T_18351_row18_col2\" class=\"data row18 col2\" >-0.000327</td>\n",
       "      <td id=\"T_18351_row18_col3\" class=\"data row18 col3\" >-0.002383</td>\n",
       "      <td id=\"T_18351_row18_col4\" class=\"data row18 col4\" >0.003240</td>\n",
       "      <td id=\"T_18351_row18_col5\" class=\"data row18 col5\" >-0.002535</td>\n",
       "      <td id=\"T_18351_row18_col6\" class=\"data row18 col6\" >-0.002734</td>\n",
       "      <td id=\"T_18351_row18_col7\" class=\"data row18 col7\" >0.004411</td>\n",
       "      <td id=\"T_18351_row18_col8\" class=\"data row18 col8\" >-0.001435</td>\n",
       "      <td id=\"T_18351_row18_col9\" class=\"data row18 col9\" >-0.000272</td>\n",
       "      <td id=\"T_18351_row18_col10\" class=\"data row18 col10\" >-0.001134</td>\n",
       "      <td id=\"T_18351_row18_col11\" class=\"data row18 col11\" >-0.004454</td>\n",
       "      <td id=\"T_18351_row18_col12\" class=\"data row18 col12\" >0.003952</td>\n",
       "      <td id=\"T_18351_row18_col13\" class=\"data row18 col13\" >-0.003726</td>\n",
       "      <td id=\"T_18351_row18_col14\" class=\"data row18 col14\" >0.003886</td>\n",
       "      <td id=\"T_18351_row18_col15\" class=\"data row18 col15\" >-0.001449</td>\n",
       "      <td id=\"T_18351_row18_col16\" class=\"data row18 col16\" >0.000406</td>\n",
       "      <td id=\"T_18351_row18_col17\" class=\"data row18 col17\" >0.002536</td>\n",
       "      <td id=\"T_18351_row18_col18\" class=\"data row18 col18\" >1.000000</td>\n",
       "      <td id=\"T_18351_row18_col19\" class=\"data row18 col19\" >0.001173</td>\n",
       "      <td id=\"T_18351_row18_col20\" class=\"data row18 col20\" >0.002548</td>\n",
       "      <td id=\"T_18351_row18_col21\" class=\"data row18 col21\" >0.002749</td>\n",
       "      <td id=\"T_18351_row18_col22\" class=\"data row18 col22\" >-0.006562</td>\n",
       "      <td id=\"T_18351_row18_col23\" class=\"data row18 col23\" >-0.001281</td>\n",
       "      <td id=\"T_18351_row18_col24\" class=\"data row18 col24\" >-0.002004</td>\n",
       "      <td id=\"T_18351_row18_col25\" class=\"data row18 col25\" >-0.000562</td>\n",
       "      <td id=\"T_18351_row18_col26\" class=\"data row18 col26\" >0.003564</td>\n",
       "      <td id=\"T_18351_row18_col27\" class=\"data row18 col27\" >-0.004538</td>\n",
       "      <td id=\"T_18351_row18_col28\" class=\"data row18 col28\" >0.003680</td>\n",
       "      <td id=\"T_18351_row18_col29\" class=\"data row18 col29\" >-0.002797</td>\n",
       "    </tr>\n",
       "    <tr>\n",
       "      <th id=\"T_18351_level0_row19\" class=\"row_heading level0 row19\" >f_18</th>\n",
       "      <td id=\"T_18351_row19_col0\" class=\"data row19 col0\" >0.001381</td>\n",
       "      <td id=\"T_18351_row19_col1\" class=\"data row19 col1\" >-0.000561</td>\n",
       "      <td id=\"T_18351_row19_col2\" class=\"data row19 col2\" >0.003146</td>\n",
       "      <td id=\"T_18351_row19_col3\" class=\"data row19 col3\" >0.006187</td>\n",
       "      <td id=\"T_18351_row19_col4\" class=\"data row19 col4\" >0.002039</td>\n",
       "      <td id=\"T_18351_row19_col5\" class=\"data row19 col5\" >0.000748</td>\n",
       "      <td id=\"T_18351_row19_col6\" class=\"data row19 col6\" >0.002783</td>\n",
       "      <td id=\"T_18351_row19_col7\" class=\"data row19 col7\" >-0.006175</td>\n",
       "      <td id=\"T_18351_row19_col8\" class=\"data row19 col8\" >-0.004443</td>\n",
       "      <td id=\"T_18351_row19_col9\" class=\"data row19 col9\" >-0.000551</td>\n",
       "      <td id=\"T_18351_row19_col10\" class=\"data row19 col10\" >0.000692</td>\n",
       "      <td id=\"T_18351_row19_col11\" class=\"data row19 col11\" >0.000219</td>\n",
       "      <td id=\"T_18351_row19_col12\" class=\"data row19 col12\" >0.000722</td>\n",
       "      <td id=\"T_18351_row19_col13\" class=\"data row19 col13\" >-0.000228</td>\n",
       "      <td id=\"T_18351_row19_col14\" class=\"data row19 col14\" >-0.000087</td>\n",
       "      <td id=\"T_18351_row19_col15\" class=\"data row19 col15\" >0.005759</td>\n",
       "      <td id=\"T_18351_row19_col16\" class=\"data row19 col16\" >0.006236</td>\n",
       "      <td id=\"T_18351_row19_col17\" class=\"data row19 col17\" >0.003980</td>\n",
       "      <td id=\"T_18351_row19_col18\" class=\"data row19 col18\" >0.001173</td>\n",
       "      <td id=\"T_18351_row19_col19\" class=\"data row19 col19\" >1.000000</td>\n",
       "      <td id=\"T_18351_row19_col20\" class=\"data row19 col20\" >0.001414</td>\n",
       "      <td id=\"T_18351_row19_col21\" class=\"data row19 col21\" >0.004967</td>\n",
       "      <td id=\"T_18351_row19_col22\" class=\"data row19 col22\" >0.001448</td>\n",
       "      <td id=\"T_18351_row19_col23\" class=\"data row19 col23\" >0.000719</td>\n",
       "      <td id=\"T_18351_row19_col24\" class=\"data row19 col24\" >0.002199</td>\n",
       "      <td id=\"T_18351_row19_col25\" class=\"data row19 col25\" >0.002868</td>\n",
       "      <td id=\"T_18351_row19_col26\" class=\"data row19 col26\" >-0.001085</td>\n",
       "      <td id=\"T_18351_row19_col27\" class=\"data row19 col27\" >0.000456</td>\n",
       "      <td id=\"T_18351_row19_col28\" class=\"data row19 col28\" >-0.004012</td>\n",
       "      <td id=\"T_18351_row19_col29\" class=\"data row19 col29\" >-0.001151</td>\n",
       "    </tr>\n",
       "    <tr>\n",
       "      <th id=\"T_18351_level0_row20\" class=\"row_heading level0 row20\" >f_19</th>\n",
       "      <td id=\"T_18351_row20_col0\" class=\"data row20 col0\" >-0.001869</td>\n",
       "      <td id=\"T_18351_row20_col1\" class=\"data row20 col1\" >0.000437</td>\n",
       "      <td id=\"T_18351_row20_col2\" class=\"data row20 col2\" >-0.001402</td>\n",
       "      <td id=\"T_18351_row20_col3\" class=\"data row20 col3\" >-0.002743</td>\n",
       "      <td id=\"T_18351_row20_col4\" class=\"data row20 col4\" >0.000540</td>\n",
       "      <td id=\"T_18351_row20_col5\" class=\"data row20 col5\" >0.000731</td>\n",
       "      <td id=\"T_18351_row20_col6\" class=\"data row20 col6\" >0.007995</td>\n",
       "      <td id=\"T_18351_row20_col7\" class=\"data row20 col7\" >-0.005252</td>\n",
       "      <td id=\"T_18351_row20_col8\" class=\"data row20 col8\" >0.003504</td>\n",
       "      <td id=\"T_18351_row20_col9\" class=\"data row20 col9\" >0.002888</td>\n",
       "      <td id=\"T_18351_row20_col10\" class=\"data row20 col10\" >0.000224</td>\n",
       "      <td id=\"T_18351_row20_col11\" class=\"data row20 col11\" >-0.000655</td>\n",
       "      <td id=\"T_18351_row20_col12\" class=\"data row20 col12\" >0.005591</td>\n",
       "      <td id=\"T_18351_row20_col13\" class=\"data row20 col13\" >-0.004642</td>\n",
       "      <td id=\"T_18351_row20_col14\" class=\"data row20 col14\" >-0.000901</td>\n",
       "      <td id=\"T_18351_row20_col15\" class=\"data row20 col15\" >-0.000835</td>\n",
       "      <td id=\"T_18351_row20_col16\" class=\"data row20 col16\" >-0.004414</td>\n",
       "      <td id=\"T_18351_row20_col17\" class=\"data row20 col17\" >0.002479</td>\n",
       "      <td id=\"T_18351_row20_col18\" class=\"data row20 col18\" >0.002548</td>\n",
       "      <td id=\"T_18351_row20_col19\" class=\"data row20 col19\" >0.001414</td>\n",
       "      <td id=\"T_18351_row20_col20\" class=\"data row20 col20\" >1.000000</td>\n",
       "      <td id=\"T_18351_row20_col21\" class=\"data row20 col21\" >0.002081</td>\n",
       "      <td id=\"T_18351_row20_col22\" class=\"data row20 col22\" >0.004865</td>\n",
       "      <td id=\"T_18351_row20_col23\" class=\"data row20 col23\" >-0.003659</td>\n",
       "      <td id=\"T_18351_row20_col24\" class=\"data row20 col24\" >0.000045</td>\n",
       "      <td id=\"T_18351_row20_col25\" class=\"data row20 col25\" >-0.001132</td>\n",
       "      <td id=\"T_18351_row20_col26\" class=\"data row20 col26\" >-0.001998</td>\n",
       "      <td id=\"T_18351_row20_col27\" class=\"data row20 col27\" >-0.000170</td>\n",
       "      <td id=\"T_18351_row20_col28\" class=\"data row20 col28\" >-0.001780</td>\n",
       "      <td id=\"T_18351_row20_col29\" class=\"data row20 col29\" >0.001563</td>\n",
       "    </tr>\n",
       "    <tr>\n",
       "      <th id=\"T_18351_level0_row21\" class=\"row_heading level0 row21\" >f_20</th>\n",
       "      <td id=\"T_18351_row21_col0\" class=\"data row21 col0\" >0.001981</td>\n",
       "      <td id=\"T_18351_row21_col1\" class=\"data row21 col1\" >0.002687</td>\n",
       "      <td id=\"T_18351_row21_col2\" class=\"data row21 col2\" >-0.001852</td>\n",
       "      <td id=\"T_18351_row21_col3\" class=\"data row21 col3\" >0.002398</td>\n",
       "      <td id=\"T_18351_row21_col4\" class=\"data row21 col4\" >-0.005607</td>\n",
       "      <td id=\"T_18351_row21_col5\" class=\"data row21 col5\" >0.000549</td>\n",
       "      <td id=\"T_18351_row21_col6\" class=\"data row21 col6\" >0.000832</td>\n",
       "      <td id=\"T_18351_row21_col7\" class=\"data row21 col7\" >0.000395</td>\n",
       "      <td id=\"T_18351_row21_col8\" class=\"data row21 col8\" >-0.002860</td>\n",
       "      <td id=\"T_18351_row21_col9\" class=\"data row21 col9\" >-0.001366</td>\n",
       "      <td id=\"T_18351_row21_col10\" class=\"data row21 col10\" >0.003695</td>\n",
       "      <td id=\"T_18351_row21_col11\" class=\"data row21 col11\" >0.001802</td>\n",
       "      <td id=\"T_18351_row21_col12\" class=\"data row21 col12\" >0.001004</td>\n",
       "      <td id=\"T_18351_row21_col13\" class=\"data row21 col13\" >0.000585</td>\n",
       "      <td id=\"T_18351_row21_col14\" class=\"data row21 col14\" >0.002803</td>\n",
       "      <td id=\"T_18351_row21_col15\" class=\"data row21 col15\" >-0.000451</td>\n",
       "      <td id=\"T_18351_row21_col16\" class=\"data row21 col16\" >-0.002441</td>\n",
       "      <td id=\"T_18351_row21_col17\" class=\"data row21 col17\" >0.001660</td>\n",
       "      <td id=\"T_18351_row21_col18\" class=\"data row21 col18\" >0.002749</td>\n",
       "      <td id=\"T_18351_row21_col19\" class=\"data row21 col19\" >0.004967</td>\n",
       "      <td id=\"T_18351_row21_col20\" class=\"data row21 col20\" >0.002081</td>\n",
       "      <td id=\"T_18351_row21_col21\" class=\"data row21 col21\" >1.000000</td>\n",
       "      <td id=\"T_18351_row21_col22\" class=\"data row21 col22\" >0.004519</td>\n",
       "      <td id=\"T_18351_row21_col23\" class=\"data row21 col23\" >0.000033</td>\n",
       "      <td id=\"T_18351_row21_col24\" class=\"data row21 col24\" >0.000338</td>\n",
       "      <td id=\"T_18351_row21_col25\" class=\"data row21 col25\" >-0.000231</td>\n",
       "      <td id=\"T_18351_row21_col26\" class=\"data row21 col26\" >0.002113</td>\n",
       "      <td id=\"T_18351_row21_col27\" class=\"data row21 col27\" >-0.004437</td>\n",
       "      <td id=\"T_18351_row21_col28\" class=\"data row21 col28\" >-0.004339</td>\n",
       "      <td id=\"T_18351_row21_col29\" class=\"data row21 col29\" >0.001180</td>\n",
       "    </tr>\n",
       "    <tr>\n",
       "      <th id=\"T_18351_level0_row22\" class=\"row_heading level0 row22\" >f_21</th>\n",
       "      <td id=\"T_18351_row22_col0\" class=\"data row22 col0\" >-0.003020</td>\n",
       "      <td id=\"T_18351_row22_col1\" class=\"data row22 col1\" >-0.000447</td>\n",
       "      <td id=\"T_18351_row22_col2\" class=\"data row22 col2\" >0.001099</td>\n",
       "      <td id=\"T_18351_row22_col3\" class=\"data row22 col3\" >-0.000301</td>\n",
       "      <td id=\"T_18351_row22_col4\" class=\"data row22 col4\" >0.006154</td>\n",
       "      <td id=\"T_18351_row22_col5\" class=\"data row22 col5\" >-0.000956</td>\n",
       "      <td id=\"T_18351_row22_col6\" class=\"data row22 col6\" >-0.002269</td>\n",
       "      <td id=\"T_18351_row22_col7\" class=\"data row22 col7\" >-0.002691</td>\n",
       "      <td id=\"T_18351_row22_col8\" class=\"data row22 col8\" >-0.000085</td>\n",
       "      <td id=\"T_18351_row22_col9\" class=\"data row22 col9\" >-0.000753</td>\n",
       "      <td id=\"T_18351_row22_col10\" class=\"data row22 col10\" >0.000747</td>\n",
       "      <td id=\"T_18351_row22_col11\" class=\"data row22 col11\" >0.007463</td>\n",
       "      <td id=\"T_18351_row22_col12\" class=\"data row22 col12\" >-0.002893</td>\n",
       "      <td id=\"T_18351_row22_col13\" class=\"data row22 col13\" >-0.002922</td>\n",
       "      <td id=\"T_18351_row22_col14\" class=\"data row22 col14\" >-0.008525</td>\n",
       "      <td id=\"T_18351_row22_col15\" class=\"data row22 col15\" >0.001578</td>\n",
       "      <td id=\"T_18351_row22_col16\" class=\"data row22 col16\" >0.001769</td>\n",
       "      <td id=\"T_18351_row22_col17\" class=\"data row22 col17\" >0.002605</td>\n",
       "      <td id=\"T_18351_row22_col18\" class=\"data row22 col18\" >-0.006562</td>\n",
       "      <td id=\"T_18351_row22_col19\" class=\"data row22 col19\" >0.001448</td>\n",
       "      <td id=\"T_18351_row22_col20\" class=\"data row22 col20\" >0.004865</td>\n",
       "      <td id=\"T_18351_row22_col21\" class=\"data row22 col21\" >0.004519</td>\n",
       "      <td id=\"T_18351_row22_col22\" class=\"data row22 col22\" >1.000000</td>\n",
       "      <td id=\"T_18351_row22_col23\" class=\"data row22 col23\" >-0.002598</td>\n",
       "      <td id=\"T_18351_row22_col24\" class=\"data row22 col24\" >-0.001129</td>\n",
       "      <td id=\"T_18351_row22_col25\" class=\"data row22 col25\" >-0.002541</td>\n",
       "      <td id=\"T_18351_row22_col26\" class=\"data row22 col26\" >-0.007879</td>\n",
       "      <td id=\"T_18351_row22_col27\" class=\"data row22 col27\" >-0.001091</td>\n",
       "      <td id=\"T_18351_row22_col28\" class=\"data row22 col28\" >0.002864</td>\n",
       "      <td id=\"T_18351_row22_col29\" class=\"data row22 col29\" >0.002739</td>\n",
       "    </tr>\n",
       "    <tr>\n",
       "      <th id=\"T_18351_level0_row23\" class=\"row_heading level0 row23\" >f_22</th>\n",
       "      <td id=\"T_18351_row23_col0\" class=\"data row23 col0\" >0.001247</td>\n",
       "      <td id=\"T_18351_row23_col1\" class=\"data row23 col1\" >0.004087</td>\n",
       "      <td id=\"T_18351_row23_col2\" class=\"data row23 col2\" >-0.002965</td>\n",
       "      <td id=\"T_18351_row23_col3\" class=\"data row23 col3\" >0.004971</td>\n",
       "      <td id=\"T_18351_row23_col4\" class=\"data row23 col4\" >0.001807</td>\n",
       "      <td id=\"T_18351_row23_col5\" class=\"data row23 col5\" >0.003801</td>\n",
       "      <td id=\"T_18351_row23_col6\" class=\"data row23 col6\" >0.002085</td>\n",
       "      <td id=\"T_18351_row23_col7\" class=\"data row23 col7\" >0.000597</td>\n",
       "      <td id=\"T_18351_row23_col8\" class=\"data row23 col8\" >0.003461</td>\n",
       "      <td id=\"T_18351_row23_col9\" class=\"data row23 col9\" >0.072612</td>\n",
       "      <td id=\"T_18351_row23_col10\" class=\"data row23 col10\" >-0.123708</td>\n",
       "      <td id=\"T_18351_row23_col11\" class=\"data row23 col11\" >-0.022650</td>\n",
       "      <td id=\"T_18351_row23_col12\" class=\"data row23 col12\" >0.034807</td>\n",
       "      <td id=\"T_18351_row23_col13\" class=\"data row23 col13\" >0.053503</td>\n",
       "      <td id=\"T_18351_row23_col14\" class=\"data row23 col14\" >0.032815</td>\n",
       "      <td id=\"T_18351_row23_col15\" class=\"data row23 col15\" >-0.001629</td>\n",
       "      <td id=\"T_18351_row23_col16\" class=\"data row23 col16\" >-0.004125</td>\n",
       "      <td id=\"T_18351_row23_col17\" class=\"data row23 col17\" >0.003349</td>\n",
       "      <td id=\"T_18351_row23_col18\" class=\"data row23 col18\" >-0.001281</td>\n",
       "      <td id=\"T_18351_row23_col19\" class=\"data row23 col19\" >0.000719</td>\n",
       "      <td id=\"T_18351_row23_col20\" class=\"data row23 col20\" >-0.003659</td>\n",
       "      <td id=\"T_18351_row23_col21\" class=\"data row23 col21\" >0.000033</td>\n",
       "      <td id=\"T_18351_row23_col22\" class=\"data row23 col22\" >-0.002598</td>\n",
       "      <td id=\"T_18351_row23_col23\" class=\"data row23 col23\" >1.000000</td>\n",
       "      <td id=\"T_18351_row23_col24\" class=\"data row23 col24\" >0.048009</td>\n",
       "      <td id=\"T_18351_row23_col25\" class=\"data row23 col25\" >0.117363</td>\n",
       "      <td id=\"T_18351_row23_col26\" class=\"data row23 col26\" >-0.003846</td>\n",
       "      <td id=\"T_18351_row23_col27\" class=\"data row23 col27\" >0.112956</td>\n",
       "      <td id=\"T_18351_row23_col28\" class=\"data row23 col28\" >0.012242</td>\n",
       "      <td id=\"T_18351_row23_col29\" class=\"data row23 col29\" >0.026564</td>\n",
       "    </tr>\n",
       "    <tr>\n",
       "      <th id=\"T_18351_level0_row24\" class=\"row_heading level0 row24\" >f_23</th>\n",
       "      <td id=\"T_18351_row24_col0\" class=\"data row24 col0\" >0.000065</td>\n",
       "      <td id=\"T_18351_row24_col1\" class=\"data row24 col1\" >-0.003756</td>\n",
       "      <td id=\"T_18351_row24_col2\" class=\"data row24 col2\" >0.001760</td>\n",
       "      <td id=\"T_18351_row24_col3\" class=\"data row24 col3\" >0.002971</td>\n",
       "      <td id=\"T_18351_row24_col4\" class=\"data row24 col4\" >0.001241</td>\n",
       "      <td id=\"T_18351_row24_col5\" class=\"data row24 col5\" >-0.002564</td>\n",
       "      <td id=\"T_18351_row24_col6\" class=\"data row24 col6\" >-0.003774</td>\n",
       "      <td id=\"T_18351_row24_col7\" class=\"data row24 col7\" >-0.002754</td>\n",
       "      <td id=\"T_18351_row24_col8\" class=\"data row24 col8\" >-0.091825</td>\n",
       "      <td id=\"T_18351_row24_col9\" class=\"data row24 col9\" >0.028442</td>\n",
       "      <td id=\"T_18351_row24_col10\" class=\"data row24 col10\" >-0.017430</td>\n",
       "      <td id=\"T_18351_row24_col11\" class=\"data row24 col11\" >0.061926</td>\n",
       "      <td id=\"T_18351_row24_col12\" class=\"data row24 col12\" >0.009575</td>\n",
       "      <td id=\"T_18351_row24_col13\" class=\"data row24 col13\" >-0.007275</td>\n",
       "      <td id=\"T_18351_row24_col14\" class=\"data row24 col14\" >0.010538</td>\n",
       "      <td id=\"T_18351_row24_col15\" class=\"data row24 col15\" >0.001980</td>\n",
       "      <td id=\"T_18351_row24_col16\" class=\"data row24 col16\" >-0.004534</td>\n",
       "      <td id=\"T_18351_row24_col17\" class=\"data row24 col17\" >-0.001059</td>\n",
       "      <td id=\"T_18351_row24_col18\" class=\"data row24 col18\" >-0.002004</td>\n",
       "      <td id=\"T_18351_row24_col19\" class=\"data row24 col19\" >0.002199</td>\n",
       "      <td id=\"T_18351_row24_col20\" class=\"data row24 col20\" >0.000045</td>\n",
       "      <td id=\"T_18351_row24_col21\" class=\"data row24 col21\" >0.000338</td>\n",
       "      <td id=\"T_18351_row24_col22\" class=\"data row24 col22\" >-0.001129</td>\n",
       "      <td id=\"T_18351_row24_col23\" class=\"data row24 col23\" >0.048009</td>\n",
       "      <td id=\"T_18351_row24_col24\" class=\"data row24 col24\" >1.000000</td>\n",
       "      <td id=\"T_18351_row24_col25\" class=\"data row24 col25\" >-0.016563</td>\n",
       "      <td id=\"T_18351_row24_col26\" class=\"data row24 col26\" >-0.100514</td>\n",
       "      <td id=\"T_18351_row24_col27\" class=\"data row24 col27\" >0.122586</td>\n",
       "      <td id=\"T_18351_row24_col28\" class=\"data row24 col28\" >0.073208</td>\n",
       "      <td id=\"T_18351_row24_col29\" class=\"data row24 col29\" >0.098347</td>\n",
       "    </tr>\n",
       "    <tr>\n",
       "      <th id=\"T_18351_level0_row25\" class=\"row_heading level0 row25\" >f_24</th>\n",
       "      <td id=\"T_18351_row25_col0\" class=\"data row25 col0\" >0.001376</td>\n",
       "      <td id=\"T_18351_row25_col1\" class=\"data row25 col1\" >0.001088</td>\n",
       "      <td id=\"T_18351_row25_col2\" class=\"data row25 col2\" >-0.005635</td>\n",
       "      <td id=\"T_18351_row25_col3\" class=\"data row25 col3\" >-0.002328</td>\n",
       "      <td id=\"T_18351_row25_col4\" class=\"data row25 col4\" >-0.002235</td>\n",
       "      <td id=\"T_18351_row25_col5\" class=\"data row25 col5\" >-0.000324</td>\n",
       "      <td id=\"T_18351_row25_col6\" class=\"data row25 col6\" >0.002300</td>\n",
       "      <td id=\"T_18351_row25_col7\" class=\"data row25 col7\" >-0.002924</td>\n",
       "      <td id=\"T_18351_row25_col8\" class=\"data row25 col8\" >0.030238</td>\n",
       "      <td id=\"T_18351_row25_col9\" class=\"data row25 col9\" >0.011038</td>\n",
       "      <td id=\"T_18351_row25_col10\" class=\"data row25 col10\" >-0.014524</td>\n",
       "      <td id=\"T_18351_row25_col11\" class=\"data row25 col11\" >-0.016214</td>\n",
       "      <td id=\"T_18351_row25_col12\" class=\"data row25 col12\" >-0.006282</td>\n",
       "      <td id=\"T_18351_row25_col13\" class=\"data row25 col13\" >0.015209</td>\n",
       "      <td id=\"T_18351_row25_col14\" class=\"data row25 col14\" >-0.012033</td>\n",
       "      <td id=\"T_18351_row25_col15\" class=\"data row25 col15\" >0.000781</td>\n",
       "      <td id=\"T_18351_row25_col16\" class=\"data row25 col16\" >-0.004002</td>\n",
       "      <td id=\"T_18351_row25_col17\" class=\"data row25 col17\" >-0.000111</td>\n",
       "      <td id=\"T_18351_row25_col18\" class=\"data row25 col18\" >-0.000562</td>\n",
       "      <td id=\"T_18351_row25_col19\" class=\"data row25 col19\" >0.002868</td>\n",
       "      <td id=\"T_18351_row25_col20\" class=\"data row25 col20\" >-0.001132</td>\n",
       "      <td id=\"T_18351_row25_col21\" class=\"data row25 col21\" >-0.000231</td>\n",
       "      <td id=\"T_18351_row25_col22\" class=\"data row25 col22\" >-0.002541</td>\n",
       "      <td id=\"T_18351_row25_col23\" class=\"data row25 col23\" >0.117363</td>\n",
       "      <td id=\"T_18351_row25_col24\" class=\"data row25 col24\" >-0.016563</td>\n",
       "      <td id=\"T_18351_row25_col25\" class=\"data row25 col25\" >1.000000</td>\n",
       "      <td id=\"T_18351_row25_col26\" class=\"data row25 col26\" >-0.046221</td>\n",
       "      <td id=\"T_18351_row25_col27\" class=\"data row25 col27\" >0.042072</td>\n",
       "      <td id=\"T_18351_row25_col28\" class=\"data row25 col28\" >-0.053663</td>\n",
       "      <td id=\"T_18351_row25_col29\" class=\"data row25 col29\" >-0.078061</td>\n",
       "    </tr>\n",
       "    <tr>\n",
       "      <th id=\"T_18351_level0_row26\" class=\"row_heading level0 row26\" >f_25</th>\n",
       "      <td id=\"T_18351_row26_col0\" class=\"data row26 col0\" >-0.003301</td>\n",
       "      <td id=\"T_18351_row26_col1\" class=\"data row26 col1\" >0.006216</td>\n",
       "      <td id=\"T_18351_row26_col2\" class=\"data row26 col2\" >0.000033</td>\n",
       "      <td id=\"T_18351_row26_col3\" class=\"data row26 col3\" >0.001797</td>\n",
       "      <td id=\"T_18351_row26_col4\" class=\"data row26 col4\" >0.000362</td>\n",
       "      <td id=\"T_18351_row26_col5\" class=\"data row26 col5\" >-0.000765</td>\n",
       "      <td id=\"T_18351_row26_col6\" class=\"data row26 col6\" >0.002087</td>\n",
       "      <td id=\"T_18351_row26_col7\" class=\"data row26 col7\" >-0.006603</td>\n",
       "      <td id=\"T_18351_row26_col8\" class=\"data row26 col8\" >0.093444</td>\n",
       "      <td id=\"T_18351_row26_col9\" class=\"data row26 col9\" >0.072565</td>\n",
       "      <td id=\"T_18351_row26_col10\" class=\"data row26 col10\" >-0.081116</td>\n",
       "      <td id=\"T_18351_row26_col11\" class=\"data row26 col11\" >-0.063222</td>\n",
       "      <td id=\"T_18351_row26_col12\" class=\"data row26 col12\" >0.028018</td>\n",
       "      <td id=\"T_18351_row26_col13\" class=\"data row26 col13\" >-0.011212</td>\n",
       "      <td id=\"T_18351_row26_col14\" class=\"data row26 col14\" >0.020166</td>\n",
       "      <td id=\"T_18351_row26_col15\" class=\"data row26 col15\" >-0.007537</td>\n",
       "      <td id=\"T_18351_row26_col16\" class=\"data row26 col16\" >0.001268</td>\n",
       "      <td id=\"T_18351_row26_col17\" class=\"data row26 col17\" >0.002177</td>\n",
       "      <td id=\"T_18351_row26_col18\" class=\"data row26 col18\" >0.003564</td>\n",
       "      <td id=\"T_18351_row26_col19\" class=\"data row26 col19\" >-0.001085</td>\n",
       "      <td id=\"T_18351_row26_col20\" class=\"data row26 col20\" >-0.001998</td>\n",
       "      <td id=\"T_18351_row26_col21\" class=\"data row26 col21\" >0.002113</td>\n",
       "      <td id=\"T_18351_row26_col22\" class=\"data row26 col22\" >-0.007879</td>\n",
       "      <td id=\"T_18351_row26_col23\" class=\"data row26 col23\" >-0.003846</td>\n",
       "      <td id=\"T_18351_row26_col24\" class=\"data row26 col24\" >-0.100514</td>\n",
       "      <td id=\"T_18351_row26_col25\" class=\"data row26 col25\" >-0.046221</td>\n",
       "      <td id=\"T_18351_row26_col26\" class=\"data row26 col26\" >1.000000</td>\n",
       "      <td id=\"T_18351_row26_col27\" class=\"data row26 col27\" >-0.057351</td>\n",
       "      <td id=\"T_18351_row26_col28\" class=\"data row26 col28\" >-0.027863</td>\n",
       "      <td id=\"T_18351_row26_col29\" class=\"data row26 col29\" >-0.026784</td>\n",
       "    </tr>\n",
       "    <tr>\n",
       "      <th id=\"T_18351_level0_row27\" class=\"row_heading level0 row27\" >f_26</th>\n",
       "      <td id=\"T_18351_row27_col0\" class=\"data row27 col0\" >0.001145</td>\n",
       "      <td id=\"T_18351_row27_col1\" class=\"data row27 col1\" >0.000615</td>\n",
       "      <td id=\"T_18351_row27_col2\" class=\"data row27 col2\" >-0.001936</td>\n",
       "      <td id=\"T_18351_row27_col3\" class=\"data row27 col3\" >-0.001460</td>\n",
       "      <td id=\"T_18351_row27_col4\" class=\"data row27 col4\" >0.002074</td>\n",
       "      <td id=\"T_18351_row27_col5\" class=\"data row27 col5\" >0.002906</td>\n",
       "      <td id=\"T_18351_row27_col6\" class=\"data row27 col6\" >-0.001417</td>\n",
       "      <td id=\"T_18351_row27_col7\" class=\"data row27 col7\" >-0.000150</td>\n",
       "      <td id=\"T_18351_row27_col8\" class=\"data row27 col8\" >-0.017622</td>\n",
       "      <td id=\"T_18351_row27_col9\" class=\"data row27 col9\" >0.085690</td>\n",
       "      <td id=\"T_18351_row27_col10\" class=\"data row27 col10\" >-0.085901</td>\n",
       "      <td id=\"T_18351_row27_col11\" class=\"data row27 col11\" >0.034416</td>\n",
       "      <td id=\"T_18351_row27_col12\" class=\"data row27 col12\" >0.002184</td>\n",
       "      <td id=\"T_18351_row27_col13\" class=\"data row27 col13\" >0.001042</td>\n",
       "      <td id=\"T_18351_row27_col14\" class=\"data row27 col14\" >0.019981</td>\n",
       "      <td id=\"T_18351_row27_col15\" class=\"data row27 col15\" >-0.002692</td>\n",
       "      <td id=\"T_18351_row27_col16\" class=\"data row27 col16\" >-0.003444</td>\n",
       "      <td id=\"T_18351_row27_col17\" class=\"data row27 col17\" >0.008018</td>\n",
       "      <td id=\"T_18351_row27_col18\" class=\"data row27 col18\" >-0.004538</td>\n",
       "      <td id=\"T_18351_row27_col19\" class=\"data row27 col19\" >0.000456</td>\n",
       "      <td id=\"T_18351_row27_col20\" class=\"data row27 col20\" >-0.000170</td>\n",
       "      <td id=\"T_18351_row27_col21\" class=\"data row27 col21\" >-0.004437</td>\n",
       "      <td id=\"T_18351_row27_col22\" class=\"data row27 col22\" >-0.001091</td>\n",
       "      <td id=\"T_18351_row27_col23\" class=\"data row27 col23\" >0.112956</td>\n",
       "      <td id=\"T_18351_row27_col24\" class=\"data row27 col24\" >0.122586</td>\n",
       "      <td id=\"T_18351_row27_col25\" class=\"data row27 col25\" >0.042072</td>\n",
       "      <td id=\"T_18351_row27_col26\" class=\"data row27 col26\" >-0.057351</td>\n",
       "      <td id=\"T_18351_row27_col27\" class=\"data row27 col27\" >1.000000</td>\n",
       "      <td id=\"T_18351_row27_col28\" class=\"data row27 col28\" >0.040819</td>\n",
       "      <td id=\"T_18351_row27_col29\" class=\"data row27 col29\" >-0.012129</td>\n",
       "    </tr>\n",
       "    <tr>\n",
       "      <th id=\"T_18351_level0_row28\" class=\"row_heading level0 row28\" >f_27</th>\n",
       "      <td id=\"T_18351_row28_col0\" class=\"data row28 col0\" >0.004146</td>\n",
       "      <td id=\"T_18351_row28_col1\" class=\"data row28 col1\" >0.003888</td>\n",
       "      <td id=\"T_18351_row28_col2\" class=\"data row28 col2\" >0.000229</td>\n",
       "      <td id=\"T_18351_row28_col3\" class=\"data row28 col3\" >0.002210</td>\n",
       "      <td id=\"T_18351_row28_col4\" class=\"data row28 col4\" >0.000427</td>\n",
       "      <td id=\"T_18351_row28_col5\" class=\"data row28 col5\" >0.001421</td>\n",
       "      <td id=\"T_18351_row28_col6\" class=\"data row28 col6\" >-0.003124</td>\n",
       "      <td id=\"T_18351_row28_col7\" class=\"data row28 col7\" >-0.005421</td>\n",
       "      <td id=\"T_18351_row28_col8\" class=\"data row28 col8\" >-0.024546</td>\n",
       "      <td id=\"T_18351_row28_col9\" class=\"data row28 col9\" >-0.015953</td>\n",
       "      <td id=\"T_18351_row28_col10\" class=\"data row28 col10\" >-0.064825</td>\n",
       "      <td id=\"T_18351_row28_col11\" class=\"data row28 col11\" >0.040545</td>\n",
       "      <td id=\"T_18351_row28_col12\" class=\"data row28 col12\" >-0.044690</td>\n",
       "      <td id=\"T_18351_row28_col13\" class=\"data row28 col13\" >0.122341</td>\n",
       "      <td id=\"T_18351_row28_col14\" class=\"data row28 col14\" >-0.001665</td>\n",
       "      <td id=\"T_18351_row28_col15\" class=\"data row28 col15\" >-0.000292</td>\n",
       "      <td id=\"T_18351_row28_col16\" class=\"data row28 col16\" >0.004094</td>\n",
       "      <td id=\"T_18351_row28_col17\" class=\"data row28 col17\" >-0.008543</td>\n",
       "      <td id=\"T_18351_row28_col18\" class=\"data row28 col18\" >0.003680</td>\n",
       "      <td id=\"T_18351_row28_col19\" class=\"data row28 col19\" >-0.004012</td>\n",
       "      <td id=\"T_18351_row28_col20\" class=\"data row28 col20\" >-0.001780</td>\n",
       "      <td id=\"T_18351_row28_col21\" class=\"data row28 col21\" >-0.004339</td>\n",
       "      <td id=\"T_18351_row28_col22\" class=\"data row28 col22\" >0.002864</td>\n",
       "      <td id=\"T_18351_row28_col23\" class=\"data row28 col23\" >0.012242</td>\n",
       "      <td id=\"T_18351_row28_col24\" class=\"data row28 col24\" >0.073208</td>\n",
       "      <td id=\"T_18351_row28_col25\" class=\"data row28 col25\" >-0.053663</td>\n",
       "      <td id=\"T_18351_row28_col26\" class=\"data row28 col26\" >-0.027863</td>\n",
       "      <td id=\"T_18351_row28_col27\" class=\"data row28 col27\" >0.040819</td>\n",
       "      <td id=\"T_18351_row28_col28\" class=\"data row28 col28\" >1.000000</td>\n",
       "      <td id=\"T_18351_row28_col29\" class=\"data row28 col29\" >0.052934</td>\n",
       "    </tr>\n",
       "    <tr>\n",
       "      <th id=\"T_18351_level0_row29\" class=\"row_heading level0 row29\" >f_28</th>\n",
       "      <td id=\"T_18351_row29_col0\" class=\"data row29 col0\" >0.000309</td>\n",
       "      <td id=\"T_18351_row29_col1\" class=\"data row29 col1\" >0.001103</td>\n",
       "      <td id=\"T_18351_row29_col2\" class=\"data row29 col2\" >-0.005528</td>\n",
       "      <td id=\"T_18351_row29_col3\" class=\"data row29 col3\" >0.000544</td>\n",
       "      <td id=\"T_18351_row29_col4\" class=\"data row29 col4\" >0.001842</td>\n",
       "      <td id=\"T_18351_row29_col5\" class=\"data row29 col5\" >-0.003389</td>\n",
       "      <td id=\"T_18351_row29_col6\" class=\"data row29 col6\" >0.002519</td>\n",
       "      <td id=\"T_18351_row29_col7\" class=\"data row29 col7\" >-0.000110</td>\n",
       "      <td id=\"T_18351_row29_col8\" class=\"data row29 col8\" >-0.022357</td>\n",
       "      <td id=\"T_18351_row29_col9\" class=\"data row29 col9\" >-0.029955</td>\n",
       "      <td id=\"T_18351_row29_col10\" class=\"data row29 col10\" >0.018955</td>\n",
       "      <td id=\"T_18351_row29_col11\" class=\"data row29 col11\" >0.015919</td>\n",
       "      <td id=\"T_18351_row29_col12\" class=\"data row29 col12\" >-0.011339</td>\n",
       "      <td id=\"T_18351_row29_col13\" class=\"data row29 col13\" >0.030514</td>\n",
       "      <td id=\"T_18351_row29_col14\" class=\"data row29 col14\" >-0.012568</td>\n",
       "      <td id=\"T_18351_row29_col15\" class=\"data row29 col15\" >-0.003791</td>\n",
       "      <td id=\"T_18351_row29_col16\" class=\"data row29 col16\" >0.004737</td>\n",
       "      <td id=\"T_18351_row29_col17\" class=\"data row29 col17\" >0.003489</td>\n",
       "      <td id=\"T_18351_row29_col18\" class=\"data row29 col18\" >-0.002797</td>\n",
       "      <td id=\"T_18351_row29_col19\" class=\"data row29 col19\" >-0.001151</td>\n",
       "      <td id=\"T_18351_row29_col20\" class=\"data row29 col20\" >0.001563</td>\n",
       "      <td id=\"T_18351_row29_col21\" class=\"data row29 col21\" >0.001180</td>\n",
       "      <td id=\"T_18351_row29_col22\" class=\"data row29 col22\" >0.002739</td>\n",
       "      <td id=\"T_18351_row29_col23\" class=\"data row29 col23\" >0.026564</td>\n",
       "      <td id=\"T_18351_row29_col24\" class=\"data row29 col24\" >0.098347</td>\n",
       "      <td id=\"T_18351_row29_col25\" class=\"data row29 col25\" >-0.078061</td>\n",
       "      <td id=\"T_18351_row29_col26\" class=\"data row29 col26\" >-0.026784</td>\n",
       "      <td id=\"T_18351_row29_col27\" class=\"data row29 col27\" >-0.012129</td>\n",
       "      <td id=\"T_18351_row29_col28\" class=\"data row29 col28\" >0.052934</td>\n",
       "      <td id=\"T_18351_row29_col29\" class=\"data row29 col29\" >1.000000</td>\n",
       "    </tr>\n",
       "  </tbody>\n",
       "</table>\n"
      ],
      "text/plain": [
       "<pandas.io.formats.style.Styler at 0x7f55eb2716d0>"
      ]
     },
     "execution_count": 6,
     "metadata": {},
     "output_type": "execute_result"
    }
   ],
   "source": [
    "##correlation matrix\n",
    "corr = df_org.corr()\n",
    "corr.style.background_gradient(cmap='coolwarm')\n",
    "\n",
    "#no correlations among features"
   ]
  },
  {
   "cell_type": "code",
   "execution_count": 7,
   "id": "facdcb7c",
   "metadata": {
    "execution": {
     "iopub.execute_input": "2022-08-03T09:31:43.315190Z",
     "iopub.status.busy": "2022-08-03T09:31:43.314806Z",
     "iopub.status.idle": "2022-08-03T09:31:43.341936Z",
     "shell.execute_reply": "2022-08-03T09:31:43.340028Z"
    },
    "papermill": {
     "duration": 0.053151,
     "end_time": "2022-08-03T09:31:43.344510",
     "exception": false,
     "start_time": "2022-08-03T09:31:43.291359",
     "status": "completed"
    },
    "tags": []
   },
   "outputs": [
    {
     "name": "stdout",
     "output_type": "stream",
     "text": [
      "<class 'pandas.core.frame.DataFrame'>\n",
      "RangeIndex: 98000 entries, 0 to 97999\n",
      "Data columns (total 29 columns):\n",
      " #   Column  Non-Null Count  Dtype  \n",
      "---  ------  --------------  -----  \n",
      " 0   f_00    98000 non-null  float64\n",
      " 1   f_01    98000 non-null  float64\n",
      " 2   f_02    98000 non-null  float64\n",
      " 3   f_03    98000 non-null  float64\n",
      " 4   f_04    98000 non-null  float64\n",
      " 5   f_05    98000 non-null  float64\n",
      " 6   f_06    98000 non-null  float64\n",
      " 7   f_07    98000 non-null  int64  \n",
      " 8   f_08    98000 non-null  int64  \n",
      " 9   f_09    98000 non-null  int64  \n",
      " 10  f_10    98000 non-null  int64  \n",
      " 11  f_11    98000 non-null  int64  \n",
      " 12  f_12    98000 non-null  int64  \n",
      " 13  f_13    98000 non-null  int64  \n",
      " 14  f_14    98000 non-null  float64\n",
      " 15  f_15    98000 non-null  float64\n",
      " 16  f_16    98000 non-null  float64\n",
      " 17  f_17    98000 non-null  float64\n",
      " 18  f_18    98000 non-null  float64\n",
      " 19  f_19    98000 non-null  float64\n",
      " 20  f_20    98000 non-null  float64\n",
      " 21  f_21    98000 non-null  float64\n",
      " 22  f_22    98000 non-null  float64\n",
      " 23  f_23    98000 non-null  float64\n",
      " 24  f_24    98000 non-null  float64\n",
      " 25  f_25    98000 non-null  float64\n",
      " 26  f_26    98000 non-null  float64\n",
      " 27  f_27    98000 non-null  float64\n",
      " 28  f_28    98000 non-null  float64\n",
      "dtypes: float64(22), int64(7)\n",
      "memory usage: 21.7 MB\n"
     ]
    }
   ],
   "source": [
    "#create training set\n",
    "df_train = df_org.drop(['id'], axis=1)\n",
    "df_train.info()"
   ]
  },
  {
   "cell_type": "code",
   "execution_count": 8,
   "id": "e4adfc56",
   "metadata": {
    "execution": {
     "iopub.execute_input": "2022-08-03T09:31:43.395370Z",
     "iopub.status.busy": "2022-08-03T09:31:43.394673Z",
     "iopub.status.idle": "2022-08-03T09:31:46.424012Z",
     "shell.execute_reply": "2022-08-03T09:31:46.422631Z"
    },
    "papermill": {
     "duration": 3.056598,
     "end_time": "2022-08-03T09:31:46.426713",
     "exception": false,
     "start_time": "2022-08-03T09:31:43.370115",
     "status": "completed"
    },
    "tags": []
   },
   "outputs": [
    {
     "data": {
      "image/png": "[encoded data removed]",
      "text/plain": [
       "<Figure size 1008x864 with 30 Axes>"
      ]
     },
     "metadata": {
      "needs_background": "light"
     },
     "output_type": "display_data"
    }
   ],
   "source": [
    "#plot histogram to visualize data distribution\n",
    "df_train.sample(5000).hist(figsize=(14,12));\n",
    "#f_07 to f_13 is not Gausian distribution. These are integar columns\n",
    "# for float columns- mean is almost at 0, and Gausian distributed"
   ]
  },
  {
   "cell_type": "markdown",
   "id": "0f16c0be",
   "metadata": {
    "papermill": {
     "duration": 0.023772,
     "end_time": "2022-08-03T09:31:46.473412",
     "exception": false,
     "start_time": "2022-08-03T09:31:46.449640",
     "status": "completed"
    },
    "tags": []
   },
   "source": [
    "## Preprocessing - standardize the data"
   ]
  },
  {
   "cell_type": "code",
   "execution_count": 9,
   "id": "55886b86",
   "metadata": {
    "execution": {
     "iopub.execute_input": "2022-08-03T09:31:46.520210Z",
     "iopub.status.busy": "2022-08-03T09:31:46.519820Z",
     "iopub.status.idle": "2022-08-03T09:31:46.524422Z",
     "shell.execute_reply": "2022-08-03T09:31:46.523638Z"
    },
    "papermill": {
     "duration": 0.030618,
     "end_time": "2022-08-03T09:31:46.526598",
     "exception": false,
     "start_time": "2022-08-03T09:31:46.495980",
     "status": "completed"
    },
    "tags": []
   },
   "outputs": [],
   "source": [
    "from sklearn.preprocessing import StandardScaler"
   ]
  },
  {
   "cell_type": "code",
   "execution_count": 10,
   "id": "bfcd440d",
   "metadata": {
    "execution": {
     "iopub.execute_input": "2022-08-03T09:31:46.575849Z",
     "iopub.status.busy": "2022-08-03T09:31:46.574932Z",
     "iopub.status.idle": "2022-08-03T09:31:46.648348Z",
     "shell.execute_reply": "2022-08-03T09:31:46.647018Z"
    },
    "papermill": {
     "duration": 0.101653,
     "end_time": "2022-08-03T09:31:46.651321",
     "exception": false,
     "start_time": "2022-08-03T09:31:46.549668",
     "status": "completed"
    },
    "tags": []
   },
   "outputs": [],
   "source": [
    "train_scaled_np = StandardScaler().fit_transform(df_train)"
   ]
  },
  {
   "cell_type": "code",
   "execution_count": 11,
   "id": "416823b5",
   "metadata": {
    "execution": {
     "iopub.execute_input": "2022-08-03T09:31:46.700069Z",
     "iopub.status.busy": "2022-08-03T09:31:46.699639Z",
     "iopub.status.idle": "2022-08-03T09:31:46.704825Z",
     "shell.execute_reply": "2022-08-03T09:31:46.703947Z"
    },
    "papermill": {
     "duration": 0.031519,
     "end_time": "2022-08-03T09:31:46.706745",
     "exception": false,
     "start_time": "2022-08-03T09:31:46.675226",
     "status": "completed"
    },
    "tags": []
   },
   "outputs": [],
   "source": [
    "#get a pandas df with same index and column\n",
    "df_train_scaled = pd.DataFrame(train_scaled_np, columns=df_train.columns, index=df_train.index)"
   ]
  },
  {
   "cell_type": "code",
   "execution_count": 12,
   "id": "792566dc",
   "metadata": {
    "execution": {
     "iopub.execute_input": "2022-08-03T09:31:46.754841Z",
     "iopub.status.busy": "2022-08-03T09:31:46.754408Z",
     "iopub.status.idle": "2022-08-03T09:31:46.993783Z",
     "shell.execute_reply": "2022-08-03T09:31:46.992507Z"
    },
    "papermill": {
     "duration": 0.266579,
     "end_time": "2022-08-03T09:31:46.996645",
     "exception": false,
     "start_time": "2022-08-03T09:31:46.730066",
     "status": "completed"
    },
    "tags": []
   },
   "outputs": [
    {
     "data": {
      "text/html": [
       "<div>\n",
       "<style scoped>\n",
       "    .dataframe tbody tr th:only-of-type {\n",
       "        vertical-align: middle;\n",
       "    }\n",
       "\n",
       "    .dataframe tbody tr th {\n",
       "        vertical-align: top;\n",
       "    }\n",
       "\n",
       "    .dataframe thead th {\n",
       "        text-align: right;\n",
       "    }\n",
       "</style>\n",
       "<table border=\"1\" class=\"dataframe\">\n",
       "  <thead>\n",
       "    <tr style=\"text-align: right;\">\n",
       "      <th></th>\n",
       "      <th>f_00</th>\n",
       "      <th>f_01</th>\n",
       "      <th>f_02</th>\n",
       "      <th>f_03</th>\n",
       "      <th>f_04</th>\n",
       "      <th>f_05</th>\n",
       "      <th>f_06</th>\n",
       "      <th>f_07</th>\n",
       "      <th>f_08</th>\n",
       "      <th>f_09</th>\n",
       "      <th>f_10</th>\n",
       "      <th>f_11</th>\n",
       "      <th>f_12</th>\n",
       "      <th>f_13</th>\n",
       "      <th>f_14</th>\n",
       "      <th>f_15</th>\n",
       "      <th>f_16</th>\n",
       "      <th>f_17</th>\n",
       "      <th>f_18</th>\n",
       "      <th>f_19</th>\n",
       "      <th>f_20</th>\n",
       "      <th>f_21</th>\n",
       "      <th>f_22</th>\n",
       "      <th>f_23</th>\n",
       "      <th>f_24</th>\n",
       "      <th>f_25</th>\n",
       "      <th>f_26</th>\n",
       "      <th>f_27</th>\n",
       "      <th>f_28</th>\n",
       "    </tr>\n",
       "  </thead>\n",
       "  <tbody>\n",
       "    <tr>\n",
       "      <th>count</th>\n",
       "      <td>9.800000e+04</td>\n",
       "      <td>9.800000e+04</td>\n",
       "      <td>9.800000e+04</td>\n",
       "      <td>9.800000e+04</td>\n",
       "      <td>9.800000e+04</td>\n",
       "      <td>9.800000e+04</td>\n",
       "      <td>9.800000e+04</td>\n",
       "      <td>9.800000e+04</td>\n",
       "      <td>9.800000e+04</td>\n",
       "      <td>9.800000e+04</td>\n",
       "      <td>9.800000e+04</td>\n",
       "      <td>9.800000e+04</td>\n",
       "      <td>9.800000e+04</td>\n",
       "      <td>9.800000e+04</td>\n",
       "      <td>9.800000e+04</td>\n",
       "      <td>9.800000e+04</td>\n",
       "      <td>9.800000e+04</td>\n",
       "      <td>9.800000e+04</td>\n",
       "      <td>9.800000e+04</td>\n",
       "      <td>9.800000e+04</td>\n",
       "      <td>9.800000e+04</td>\n",
       "      <td>9.800000e+04</td>\n",
       "      <td>9.800000e+04</td>\n",
       "      <td>9.800000e+04</td>\n",
       "      <td>9.800000e+04</td>\n",
       "      <td>9.800000e+04</td>\n",
       "      <td>9.800000e+04</td>\n",
       "      <td>9.800000e+04</td>\n",
       "      <td>9.800000e+04</td>\n",
       "    </tr>\n",
       "    <tr>\n",
       "      <th>mean</th>\n",
       "      <td>-2.885674e-17</td>\n",
       "      <td>-3.103187e-17</td>\n",
       "      <td>-2.247635e-17</td>\n",
       "      <td>-3.842731e-18</td>\n",
       "      <td>1.638599e-17</td>\n",
       "      <td>1.812609e-17</td>\n",
       "      <td>1.885113e-18</td>\n",
       "      <td>-7.047424e-17</td>\n",
       "      <td>-3.364202e-17</td>\n",
       "      <td>4.741785e-17</td>\n",
       "      <td>1.393534e-16</td>\n",
       "      <td>-1.263388e-16</td>\n",
       "      <td>-4.132749e-17</td>\n",
       "      <td>-8.816530e-17</td>\n",
       "      <td>-1.319579e-17</td>\n",
       "      <td>5.365323e-18</td>\n",
       "      <td>-4.350262e-19</td>\n",
       "      <td>1.624098e-17</td>\n",
       "      <td>-1.711103e-17</td>\n",
       "      <td>1.711103e-17</td>\n",
       "      <td>-4.060244e-18</td>\n",
       "      <td>-1.363082e-17</td>\n",
       "      <td>6.235375e-18</td>\n",
       "      <td>-1.464588e-17</td>\n",
       "      <td>1.957618e-17</td>\n",
       "      <td>-6.815410e-18</td>\n",
       "      <td>-4.060244e-18</td>\n",
       "      <td>5.655340e-18</td>\n",
       "      <td>-1.348581e-17</td>\n",
       "    </tr>\n",
       "    <tr>\n",
       "      <th>std</th>\n",
       "      <td>1.000005e+00</td>\n",
       "      <td>1.000005e+00</td>\n",
       "      <td>1.000005e+00</td>\n",
       "      <td>1.000005e+00</td>\n",
       "      <td>1.000005e+00</td>\n",
       "      <td>1.000005e+00</td>\n",
       "      <td>1.000005e+00</td>\n",
       "      <td>1.000005e+00</td>\n",
       "      <td>1.000005e+00</td>\n",
       "      <td>1.000005e+00</td>\n",
       "      <td>1.000005e+00</td>\n",
       "      <td>1.000005e+00</td>\n",
       "      <td>1.000005e+00</td>\n",
       "      <td>1.000005e+00</td>\n",
       "      <td>1.000005e+00</td>\n",
       "      <td>1.000005e+00</td>\n",
       "      <td>1.000005e+00</td>\n",
       "      <td>1.000005e+00</td>\n",
       "      <td>1.000005e+00</td>\n",
       "      <td>1.000005e+00</td>\n",
       "      <td>1.000005e+00</td>\n",
       "      <td>1.000005e+00</td>\n",
       "      <td>1.000005e+00</td>\n",
       "      <td>1.000005e+00</td>\n",
       "      <td>1.000005e+00</td>\n",
       "      <td>1.000005e+00</td>\n",
       "      <td>1.000005e+00</td>\n",
       "      <td>1.000005e+00</td>\n",
       "      <td>1.000005e+00</td>\n",
       "    </tr>\n",
       "    <tr>\n",
       "      <th>min</th>\n",
       "      <td>-4.720258e+00</td>\n",
       "      <td>-4.205277e+00</td>\n",
       "      <td>-4.370001e+00</td>\n",
       "      <td>-4.008454e+00</td>\n",
       "      <td>-4.518572e+00</td>\n",
       "      <td>-4.296893e+00</td>\n",
       "      <td>-4.904094e+00</td>\n",
       "      <td>-1.502217e+00</td>\n",
       "      <td>-1.628740e+00</td>\n",
       "      <td>-1.387522e+00</td>\n",
       "      <td>-1.714368e+00</td>\n",
       "      <td>-1.926335e+00</td>\n",
       "      <td>-1.596195e+00</td>\n",
       "      <td>-1.525732e+00</td>\n",
       "      <td>-4.385106e+00</td>\n",
       "      <td>-4.528325e+00</td>\n",
       "      <td>-4.173980e+00</td>\n",
       "      <td>-4.464994e+00</td>\n",
       "      <td>-4.161099e+00</td>\n",
       "      <td>-4.868752e+00</td>\n",
       "      <td>-4.717770e+00</td>\n",
       "      <td>-4.437802e+00</td>\n",
       "      <td>-4.625127e+00</td>\n",
       "      <td>-5.361355e+00</td>\n",
       "      <td>-5.157982e+00</td>\n",
       "      <td>-4.142901e+00</td>\n",
       "      <td>-5.121103e+00</td>\n",
       "      <td>-5.694826e+00</td>\n",
       "      <td>-4.398679e+00</td>\n",
       "    </tr>\n",
       "    <tr>\n",
       "      <th>25%</th>\n",
       "      <td>-6.745596e-01</td>\n",
       "      <td>-6.760669e-01</td>\n",
       "      <td>-6.708199e-01</td>\n",
       "      <td>-6.715598e-01</td>\n",
       "      <td>-6.769189e-01</td>\n",
       "      <td>-6.730997e-01</td>\n",
       "      <td>-6.791260e-01</td>\n",
       "      <td>-6.896104e-01</td>\n",
       "      <td>-6.654248e-01</td>\n",
       "      <td>-7.101173e-01</td>\n",
       "      <td>-6.505843e-01</td>\n",
       "      <td>-7.350315e-01</td>\n",
       "      <td>-6.939295e-01</td>\n",
       "      <td>-7.975868e-01</td>\n",
       "      <td>-6.759433e-01</td>\n",
       "      <td>-6.743824e-01</td>\n",
       "      <td>-6.742529e-01</td>\n",
       "      <td>-6.734479e-01</td>\n",
       "      <td>-6.775810e-01</td>\n",
       "      <td>-6.713289e-01</td>\n",
       "      <td>-6.772592e-01</td>\n",
       "      <td>-6.736804e-01</td>\n",
       "      <td>-6.659755e-01</td>\n",
       "      <td>-6.577357e-01</td>\n",
       "      <td>-6.933338e-01</td>\n",
       "      <td>-6.755105e-01</td>\n",
       "      <td>-6.394323e-01</td>\n",
       "      <td>-6.472814e-01</td>\n",
       "      <td>-6.749869e-01</td>\n",
       "    </tr>\n",
       "    <tr>\n",
       "      <th>50%</th>\n",
       "      <td>8.003379e-04</td>\n",
       "      <td>1.070098e-03</td>\n",
       "      <td>7.166182e-04</td>\n",
       "      <td>-2.483485e-03</td>\n",
       "      <td>2.138090e-04</td>\n",
       "      <td>2.634614e-03</td>\n",
       "      <td>9.909725e-04</td>\n",
       "      <td>-1.478724e-01</td>\n",
       "      <td>-1.837671e-01</td>\n",
       "      <td>-2.020636e-01</td>\n",
       "      <td>-2.250707e-01</td>\n",
       "      <td>-2.024972e-02</td>\n",
       "      <td>-2.427968e-01</td>\n",
       "      <td>-6.944130e-02</td>\n",
       "      <td>1.225181e-04</td>\n",
       "      <td>-1.658266e-03</td>\n",
       "      <td>1.127149e-03</td>\n",
       "      <td>7.096954e-06</td>\n",
       "      <td>3.840797e-03</td>\n",
       "      <td>3.908499e-03</td>\n",
       "      <td>-2.894677e-04</td>\n",
       "      <td>2.489463e-03</td>\n",
       "      <td>-1.213596e-02</td>\n",
       "      <td>6.397907e-04</td>\n",
       "      <td>4.149117e-04</td>\n",
       "      <td>-2.215139e-02</td>\n",
       "      <td>-5.820545e-03</td>\n",
       "      <td>-1.244215e-02</td>\n",
       "      <td>-2.643729e-02</td>\n",
       "    </tr>\n",
       "    <tr>\n",
       "      <th>75%</th>\n",
       "      <td>6.741666e-01</td>\n",
       "      <td>6.716714e-01</td>\n",
       "      <td>6.772011e-01</td>\n",
       "      <td>6.725163e-01</td>\n",
       "      <td>6.790356e-01</td>\n",
       "      <td>6.746008e-01</td>\n",
       "      <td>6.728842e-01</td>\n",
       "      <td>6.647347e-01</td>\n",
       "      <td>5.387193e-01</td>\n",
       "      <td>4.753412e-01</td>\n",
       "      <td>6.259567e-01</td>\n",
       "      <td>6.945321e-01</td>\n",
       "      <td>6.594685e-01</td>\n",
       "      <td>6.587042e-01</td>\n",
       "      <td>6.759860e-01</td>\n",
       "      <td>6.757611e-01</td>\n",
       "      <td>6.732958e-01</td>\n",
       "      <td>6.706778e-01</td>\n",
       "      <td>6.751225e-01</td>\n",
       "      <td>6.737198e-01</td>\n",
       "      <td>6.739597e-01</td>\n",
       "      <td>6.787566e-01</td>\n",
       "      <td>6.556212e-01</td>\n",
       "      <td>6.587329e-01</td>\n",
       "      <td>6.811371e-01</td>\n",
       "      <td>6.674753e-01</td>\n",
       "      <td>6.342589e-01</td>\n",
       "      <td>6.333945e-01</td>\n",
       "      <td>6.551825e-01</td>\n",
       "    </tr>\n",
       "    <tr>\n",
       "      <th>max</th>\n",
       "      <td>4.476786e+00</td>\n",
       "      <td>4.316215e+00</td>\n",
       "      <td>4.555058e+00</td>\n",
       "      <td>4.398238e+00</td>\n",
       "      <td>4.041718e+00</td>\n",
       "      <td>4.709448e+00</td>\n",
       "      <td>4.011953e+00</td>\n",
       "      <td>7.165591e+00</td>\n",
       "      <td>5.596125e+00</td>\n",
       "      <td>6.063931e+00</td>\n",
       "      <td>5.944877e+00</td>\n",
       "      <td>4.744962e+00</td>\n",
       "      <td>6.975326e+00</td>\n",
       "      <td>5.755723e+00</td>\n",
       "      <td>4.491894e+00</td>\n",
       "      <td>4.268691e+00</td>\n",
       "      <td>4.138594e+00</td>\n",
       "      <td>4.223903e+00</td>\n",
       "      <td>4.734843e+00</td>\n",
       "      <td>4.544914e+00</td>\n",
       "      <td>4.386917e+00</td>\n",
       "      <td>4.138340e+00</td>\n",
       "      <td>4.436492e+00</td>\n",
       "      <td>4.197696e+00</td>\n",
       "      <td>4.770452e+00</td>\n",
       "      <td>4.827834e+00</td>\n",
       "      <td>4.949518e+00</td>\n",
       "      <td>5.444689e+00</td>\n",
       "      <td>4.715872e+00</td>\n",
       "    </tr>\n",
       "  </tbody>\n",
       "</table>\n",
       "</div>"
      ],
      "text/plain": [
       "               f_00          f_01          f_02          f_03          f_04  \\\n",
       "count  9.800000e+04  9.800000e+04  9.800000e+04  9.800000e+04  9.800000e+04   \n",
       "mean  -2.885674e-17 -3.103187e-17 -2.247635e-17 -3.842731e-18  1.638599e-17   \n",
       "std    1.000005e+00  1.000005e+00  1.000005e+00  1.000005e+00  1.000005e+00   \n",
       "min   -4.720258e+00 -4.205277e+00 -4.370001e+00 -4.008454e+00 -4.518572e+00   \n",
       "25%   -6.745596e-01 -6.760669e-01 -6.708199e-01 -6.715598e-01 -6.769189e-01   \n",
       "50%    8.003379e-04  1.070098e-03  7.166182e-04 -2.483485e-03  2.138090e-04   \n",
       "75%    6.741666e-01  6.716714e-01  6.772011e-01  6.725163e-01  6.790356e-01   \n",
       "max    4.476786e+00  4.316215e+00  4.555058e+00  4.398238e+00  4.041718e+00   \n",
       "\n",
       "               f_05          f_06          f_07          f_08          f_09  \\\n",
       "count  9.800000e+04  9.800000e+04  9.800000e+04  9.800000e+04  9.800000e+04   \n",
       "mean   1.812609e-17  1.885113e-18 -7.047424e-17 -3.364202e-17  4.741785e-17   \n",
       "std    1.000005e+00  1.000005e+00  1.000005e+00  1.000005e+00  1.000005e+00   \n",
       "min   -4.296893e+00 -4.904094e+00 -1.502217e+00 -1.628740e+00 -1.387522e+00   \n",
       "25%   -6.730997e-01 -6.791260e-01 -6.896104e-01 -6.654248e-01 -7.101173e-01   \n",
       "50%    2.634614e-03  9.909725e-04 -1.478724e-01 -1.837671e-01 -2.020636e-01   \n",
       "75%    6.746008e-01  6.728842e-01  6.647347e-01  5.387193e-01  4.753412e-01   \n",
       "max    4.709448e+00  4.011953e+00  7.165591e+00  5.596125e+00  6.063931e+00   \n",
       "\n",
       "               f_10          f_11          f_12          f_13          f_14  \\\n",
       "count  9.800000e+04  9.800000e+04  9.800000e+04  9.800000e+04  9.800000e+04   \n",
       "mean   1.393534e-16 -1.263388e-16 -4.132749e-17 -8.816530e-17 -1.319579e-17   \n",
       "std    1.000005e+00  1.000005e+00  1.000005e+00  1.000005e+00  1.000005e+00   \n",
       "min   -1.714368e+00 -1.926335e+00 -1.596195e+00 -1.525732e+00 -4.385106e+00   \n",
       "25%   -6.505843e-01 -7.350315e-01 -6.939295e-01 -7.975868e-01 -6.759433e-01   \n",
       "50%   -2.250707e-01 -2.024972e-02 -2.427968e-01 -6.944130e-02  1.225181e-04   \n",
       "75%    6.259567e-01  6.945321e-01  6.594685e-01  6.587042e-01  6.759860e-01   \n",
       "max    5.944877e+00  4.744962e+00  6.975326e+00  5.755723e+00  4.491894e+00   \n",
       "\n",
       "               f_15          f_16          f_17          f_18          f_19  \\\n",
       "count  9.800000e+04  9.800000e+04  9.800000e+04  9.800000e+04  9.800000e+04   \n",
       "mean   5.365323e-18 -4.350262e-19  1.624098e-17 -1.711103e-17  1.711103e-17   \n",
       "std    1.000005e+00  1.000005e+00  1.000005e+00  1.000005e+00  1.000005e+00   \n",
       "min   -4.528325e+00 -4.173980e+00 -4.464994e+00 -4.161099e+00 -4.868752e+00   \n",
       "25%   -6.743824e-01 -6.742529e-01 -6.734479e-01 -6.775810e-01 -6.713289e-01   \n",
       "50%   -1.658266e-03  1.127149e-03  7.096954e-06  3.840797e-03  3.908499e-03   \n",
       "75%    6.757611e-01  6.732958e-01  6.706778e-01  6.751225e-01  6.737198e-01   \n",
       "max    4.268691e+00  4.138594e+00  4.223903e+00  4.734843e+00  4.544914e+00   \n",
       "\n",
       "               f_20          f_21          f_22          f_23          f_24  \\\n",
       "count  9.800000e+04  9.800000e+04  9.800000e+04  9.800000e+04  9.800000e+04   \n",
       "mean  -4.060244e-18 -1.363082e-17  6.235375e-18 -1.464588e-17  1.957618e-17   \n",
       "std    1.000005e+00  1.000005e+00  1.000005e+00  1.000005e+00  1.000005e+00   \n",
       "min   -4.717770e+00 -4.437802e+00 -4.625127e+00 -5.361355e+00 -5.157982e+00   \n",
       "25%   -6.772592e-01 -6.736804e-01 -6.659755e-01 -6.577357e-01 -6.933338e-01   \n",
       "50%   -2.894677e-04  2.489463e-03 -1.213596e-02  6.397907e-04  4.149117e-04   \n",
       "75%    6.739597e-01  6.787566e-01  6.556212e-01  6.587329e-01  6.811371e-01   \n",
       "max    4.386917e+00  4.138340e+00  4.436492e+00  4.197696e+00  4.770452e+00   \n",
       "\n",
       "               f_25          f_26          f_27          f_28  \n",
       "count  9.800000e+04  9.800000e+04  9.800000e+04  9.800000e+04  \n",
       "mean  -6.815410e-18 -4.060244e-18  5.655340e-18 -1.348581e-17  \n",
       "std    1.000005e+00  1.000005e+00  1.000005e+00  1.000005e+00  \n",
       "min   -4.142901e+00 -5.121103e+00 -5.694826e+00 -4.398679e+00  \n",
       "25%   -6.755105e-01 -6.394323e-01 -6.472814e-01 -6.749869e-01  \n",
       "50%   -2.215139e-02 -5.820545e-03 -1.244215e-02 -2.643729e-02  \n",
       "75%    6.674753e-01  6.342589e-01  6.333945e-01  6.551825e-01  \n",
       "max    4.827834e+00  4.949518e+00  5.444689e+00  4.715872e+00  "
      ]
     },
     "execution_count": 12,
     "metadata": {},
     "output_type": "execute_result"
    }
   ],
   "source": [
    "df_train_scaled.describe()"
   ]
  },
  {
   "cell_type": "code",
   "execution_count": 13,
   "id": "b56ba6f7",
   "metadata": {
    "execution": {
     "iopub.execute_input": "2022-08-03T09:31:47.046593Z",
     "iopub.status.busy": "2022-08-03T09:31:47.046173Z",
     "iopub.status.idle": "2022-08-03T09:31:50.078661Z",
     "shell.execute_reply": "2022-08-03T09:31:50.077690Z"
    },
    "papermill": {
     "duration": 3.060533,
     "end_time": "2022-08-03T09:31:50.080948",
     "exception": false,
     "start_time": "2022-08-03T09:31:47.020415",
     "status": "completed"
    },
    "tags": []
   },
   "outputs": [
    {
     "data": {
      "image/png": "[encoded data removed]",
      "text/plain": [
       "<Figure size 1008x864 with 30 Axes>"
      ]
     },
     "metadata": {
      "needs_background": "light"
     },
     "output_type": "display_data"
    }
   ],
   "source": [
    "df_train_scaled.sample(5000).hist(figsize=(14,12));\n",
    "#scaling has brought mean to zero for all columns\n",
    "#float columns are distributed between -2.5 to 2.5"
   ]
  },
  {
   "cell_type": "code",
   "execution_count": 14,
   "id": "5256cb93",
   "metadata": {
    "execution": {
     "iopub.execute_input": "2022-08-03T09:31:50.131968Z",
     "iopub.status.busy": "2022-08-03T09:31:50.131519Z",
     "iopub.status.idle": "2022-08-03T09:31:50.136445Z",
     "shell.execute_reply": "2022-08-03T09:31:50.135137Z"
    },
    "papermill": {
     "duration": 0.033615,
     "end_time": "2022-08-03T09:31:50.139141",
     "exception": false,
     "start_time": "2022-08-03T09:31:50.105526",
     "status": "completed"
    },
    "tags": []
   },
   "outputs": [],
   "source": [
    "categorical_cols = ['f_07','f_08','f_09','f_10','f_11','f_12','f_13']"
   ]
  },
  {
   "cell_type": "code",
   "execution_count": 15,
   "id": "3fb923f4",
   "metadata": {
    "execution": {
     "iopub.execute_input": "2022-08-03T09:31:50.190758Z",
     "iopub.status.busy": "2022-08-03T09:31:50.190322Z",
     "iopub.status.idle": "2022-08-03T09:31:51.814049Z",
     "shell.execute_reply": "2022-08-03T09:31:51.812819Z"
    },
    "papermill": {
     "duration": 1.653357,
     "end_time": "2022-08-03T09:31:51.816943",
     "exception": false,
     "start_time": "2022-08-03T09:31:50.163586",
     "status": "completed"
    },
    "tags": []
   },
   "outputs": [
    {
     "data": {
      "text/plain": [
       "<AxesSubplot:>"
      ]
     },
     "execution_count": 15,
     "metadata": {},
     "output_type": "execute_result"
    },
    {
     "data": {
      "image/png": "[encoded data removed]",
      "text/plain": [
       "<Figure size 1440x576 with 1 Axes>"
      ]
     },
     "metadata": {
      "needs_background": "light"
     },
     "output_type": "display_data"
    }
   ],
   "source": [
    "#understanding outliers\n",
    "#df_train.sample(5000).boxplot(column = categorical_cols)\n",
    "df_train.sample(50000).boxplot(figsize=(20,8))"
   ]
  },
  {
   "cell_type": "code",
   "execution_count": 16,
   "id": "0730252f",
   "metadata": {
    "execution": {
     "iopub.execute_input": "2022-08-03T09:31:51.871923Z",
     "iopub.status.busy": "2022-08-03T09:31:51.870995Z",
     "iopub.status.idle": "2022-08-03T09:31:51.876455Z",
     "shell.execute_reply": "2022-08-03T09:31:51.875653Z"
    },
    "papermill": {
     "duration": 0.036844,
     "end_time": "2022-08-03T09:31:51.878822",
     "exception": false,
     "start_time": "2022-08-03T09:31:51.841978",
     "status": "completed"
    },
    "tags": []
   },
   "outputs": [],
   "source": [
    "#\n",
    "from sklearn.preprocessing import PowerTransformer\n",
    "pt = PowerTransformer(method='yeo-johnson', standardize=True)"
   ]
  },
  {
   "cell_type": "code",
   "execution_count": 17,
   "id": "46b09f71",
   "metadata": {
    "execution": {
     "iopub.execute_input": "2022-08-03T09:31:51.932358Z",
     "iopub.status.busy": "2022-08-03T09:31:51.931503Z",
     "iopub.status.idle": "2022-08-03T09:31:52.793262Z",
     "shell.execute_reply": "2022-08-03T09:31:52.791910Z"
    },
    "papermill": {
     "duration": 0.893319,
     "end_time": "2022-08-03T09:31:52.796643",
     "exception": false,
     "start_time": "2022-08-03T09:31:51.903324",
     "status": "completed"
    },
    "tags": []
   },
   "outputs": [],
   "source": [
    "df_train_scaled[categorical_cols] = pd.DataFrame(pt.fit_transform(df_train[categorical_cols]), columns = categorical_cols)"
   ]
  },
  {
   "cell_type": "code",
   "execution_count": 18,
   "id": "9bfc79d6",
   "metadata": {
    "execution": {
     "iopub.execute_input": "2022-08-03T09:31:52.855795Z",
     "iopub.status.busy": "2022-08-03T09:31:52.855245Z",
     "iopub.status.idle": "2022-08-03T09:31:55.853904Z",
     "shell.execute_reply": "2022-08-03T09:31:55.852977Z"
    },
    "papermill": {
     "duration": 3.028085,
     "end_time": "2022-08-03T09:31:55.856278",
     "exception": false,
     "start_time": "2022-08-03T09:31:52.828193",
     "status": "completed"
    },
    "tags": []
   },
   "outputs": [
    {
     "data": {
      "text/plain": [
       "<AxesSubplot:>"
      ]
     },
     "execution_count": 18,
     "metadata": {},
     "output_type": "execute_result"
    },
    {
     "data": {
      "image/png": "[encoded data removed]",
      "text/plain": [
       "<Figure size 720x360 with 1 Axes>"
      ]
     },
     "metadata": {
      "needs_background": "light"
     },
     "output_type": "display_data"
    }
   ],
   "source": [
    "df_train_scaled.boxplot(figsize=(10,5))"
   ]
  },
  {
   "cell_type": "code",
   "execution_count": null,
   "id": "9c75b3d8",
   "metadata": {
    "papermill": {
     "duration": 0.026604,
     "end_time": "2022-08-03T09:31:55.909054",
     "exception": false,
     "start_time": "2022-08-03T09:31:55.882450",
     "status": "completed"
    },
    "tags": []
   },
   "outputs": [],
   "source": []
  },
  {
   "cell_type": "markdown",
   "id": "6ac7ff1c",
   "metadata": {
    "papermill": {
     "duration": 0.025494,
     "end_time": "2022-08-03T09:31:55.961592",
     "exception": false,
     "start_time": "2022-08-03T09:31:55.936098",
     "status": "completed"
    },
    "tags": []
   },
   "source": [
    "# PCA\n",
    "Get the sense of how many reduced dimensions can explain  whole data"
   ]
  },
  {
   "cell_type": "code",
   "execution_count": 19,
   "id": "cf8d613c",
   "metadata": {
    "execution": {
     "iopub.execute_input": "2022-08-03T09:31:56.016403Z",
     "iopub.status.busy": "2022-08-03T09:31:56.015525Z",
     "iopub.status.idle": "2022-08-03T09:31:56.179702Z",
     "shell.execute_reply": "2022-08-03T09:31:56.177836Z"
    },
    "papermill": {
     "duration": 0.196954,
     "end_time": "2022-08-03T09:31:56.185285",
     "exception": false,
     "start_time": "2022-08-03T09:31:55.988331",
     "status": "completed"
    },
    "tags": []
   },
   "outputs": [
    {
     "name": "stdout",
     "output_type": "stream",
     "text": [
      "CPU times: user 287 ms, sys: 110 ms, total: 398 ms\n",
      "Wall time: 154 ms\n"
     ]
    }
   ],
   "source": [
    "%%time\n",
    "#PCA with three principal components\n",
    "pca_model = PCA(n_components=29)\n",
    "df_pca = pca_model.fit_transform(df_train_scaled)"
   ]
  },
  {
   "cell_type": "code",
   "execution_count": 20,
   "id": "252df45b",
   "metadata": {
    "execution": {
     "iopub.execute_input": "2022-08-03T09:31:56.295270Z",
     "iopub.status.busy": "2022-08-03T09:31:56.294873Z",
     "iopub.status.idle": "2022-08-03T09:31:56.302018Z",
     "shell.execute_reply": "2022-08-03T09:31:56.301166Z"
    },
    "papermill": {
     "duration": 0.050389,
     "end_time": "2022-08-03T09:31:56.304138",
     "exception": false,
     "start_time": "2022-08-03T09:31:56.253749",
     "status": "completed"
    },
    "tags": []
   },
   "outputs": [
    {
     "data": {
      "text/plain": [
       "(array([0.06207611, 0.04947658, 0.04612902, 0.04009478, 0.03969473,\n",
       "        0.03615165, 0.03519807, 0.03508012, 0.03503988, 0.0348631 ,\n",
       "        0.03479614, 0.0346157 , 0.03454689, 0.0344966 , 0.03441105,\n",
       "        0.03434412, 0.03426725, 0.03408588, 0.03397451, 0.03380036,\n",
       "        0.03372842, 0.03288364, 0.03175667, 0.02895012, 0.02875708,\n",
       "        0.02761806, 0.02478449, 0.02193003, 0.01244894]),\n",
       " array([0.06207611, 0.1115527 , 0.15768171, 0.1977765 , 0.23747123,\n",
       "        0.27362287, 0.30882094, 0.34390106, 0.37894094, 0.41380405,\n",
       "        0.44860019, 0.48321589, 0.51776278, 0.55225938, 0.58667043,\n",
       "        0.62101455, 0.6552818 , 0.68936768, 0.72334219, 0.75714254,\n",
       "        0.79087096, 0.8237546 , 0.85551127, 0.88446139, 0.91321847,\n",
       "        0.94083654, 0.96562102, 0.98755106, 1.        ]))"
      ]
     },
     "execution_count": 20,
     "metadata": {},
     "output_type": "execute_result"
    }
   ],
   "source": [
    "pca_model.explained_variance_ratio_, pca_model.explained_variance_ratio_.cumsum()\n",
    "#none of the component is playing any major role"
   ]
  },
  {
   "cell_type": "markdown",
   "id": "bac8c63e",
   "metadata": {
    "papermill": {
     "duration": 0.02563,
     "end_time": "2022-08-03T09:31:56.355757",
     "exception": false,
     "start_time": "2022-08-03T09:31:56.330127",
     "status": "completed"
    },
    "tags": []
   },
   "source": [
    "##  k-mean clustering "
   ]
  },
  {
   "cell_type": "code",
   "execution_count": 21,
   "id": "3c61a630",
   "metadata": {
    "execution": {
     "iopub.execute_input": "2022-08-03T09:31:56.411395Z",
     "iopub.status.busy": "2022-08-03T09:31:56.410642Z",
     "iopub.status.idle": "2022-08-03T09:31:56.414985Z",
     "shell.execute_reply": "2022-08-03T09:31:56.414076Z"
    },
    "papermill": {
     "duration": 0.034665,
     "end_time": "2022-08-03T09:31:56.417123",
     "exception": false,
     "start_time": "2022-08-03T09:31:56.382458",
     "status": "completed"
    },
    "tags": []
   },
   "outputs": [],
   "source": [
    "# model = KMeans(n_clusters=4, init=\"k-means++\")\n",
    "# # fit the model\n",
    "# model.fit(df_train_scaled)\n",
    "# #Add the cluster vector to our DataFrame, X\n",
    "# # df_train_scaled[\"Cluster\"] = model.labels_\n",
    "# clusters = pd.unique(model.labels_)\n",
    "# clusters"
   ]
  },
  {
   "cell_type": "markdown",
   "id": "73e92876",
   "metadata": {
    "papermill": {
     "duration": 0.025972,
     "end_time": "2022-08-03T09:31:56.469380",
     "exception": false,
     "start_time": "2022-08-03T09:31:56.443408",
     "status": "completed"
    },
    "tags": []
   },
   "source": [
    "#### Will try with a range of clusters and will do some plotting to arrive at cluster size\n",
    "start with small dataset and subsequently try with whole\n"
   ]
  },
  {
   "cell_type": "code",
   "execution_count": 22,
   "id": "3d255760",
   "metadata": {
    "execution": {
     "iopub.execute_input": "2022-08-03T09:31:56.523414Z",
     "iopub.status.busy": "2022-08-03T09:31:56.522683Z",
     "iopub.status.idle": "2022-08-03T09:35:12.411417Z",
     "shell.execute_reply": "2022-08-03T09:35:12.409973Z"
    },
    "papermill": {
     "duration": 195.919092,
     "end_time": "2022-08-03T09:35:12.414553",
     "exception": false,
     "start_time": "2022-08-03T09:31:56.495461",
     "status": "completed"
    },
    "tags": []
   },
   "outputs": [
    {
     "name": "stdout",
     "output_type": "stream",
     "text": [
      "k:  2\n",
      "k:  3\n",
      "k:  4\n",
      "k:  5\n",
      "k:  6\n",
      "k:  7\n",
      "k:  8\n",
      "k:  9\n",
      "k:  10\n",
      "k:  11\n",
      "CPU times: user 7min 25s, sys: 1min 28s, total: 8min 54s\n",
      "Wall time: 3min 15s\n"
     ]
    }
   ],
   "source": [
    "%%time\n",
    "\n",
    "K=range(2,12)\n",
    "wss = []\n",
    "silhoute_score = []\n",
    "for k in K:\n",
    "    print(\"k: \", k)\n",
    "    kmeans= KMeans(n_clusters=k,init=\"k-means++\", random_state=211)\n",
    "    kmeans= kmeans.fit(df_train_scaled)\n",
    "    labels = kmeans.labels_\n",
    "    wss_iter = kmeans.inertia_\n",
    "    wss.append(wss_iter)\n",
    "    sil_score = metrics.silhouette_score(df_train_scaled, labels, metric=\"euclidean\", sample_size=30000)\n",
    "    silhoute_score.append(sil_score)\n",
    "    "
   ]
  },
  {
   "cell_type": "code",
   "execution_count": 23,
   "id": "f11ab7cd",
   "metadata": {
    "execution": {
     "iopub.execute_input": "2022-08-03T09:35:12.470760Z",
     "iopub.status.busy": "2022-08-03T09:35:12.470290Z",
     "iopub.status.idle": "2022-08-03T09:35:12.484292Z",
     "shell.execute_reply": "2022-08-03T09:35:12.483268Z"
    },
    "papermill": {
     "duration": 0.045607,
     "end_time": "2022-08-03T09:35:12.487143",
     "exception": false,
     "start_time": "2022-08-03T09:35:12.441536",
     "status": "completed"
    },
    "tags": []
   },
   "outputs": [
    {
     "data": {
      "text/html": [
       "<div>\n",
       "<style scoped>\n",
       "    .dataframe tbody tr th:only-of-type {\n",
       "        vertical-align: middle;\n",
       "    }\n",
       "\n",
       "    .dataframe tbody tr th {\n",
       "        vertical-align: top;\n",
       "    }\n",
       "\n",
       "    .dataframe thead th {\n",
       "        text-align: right;\n",
       "    }\n",
       "</style>\n",
       "<table border=\"1\" class=\"dataframe\">\n",
       "  <thead>\n",
       "    <tr style=\"text-align: right;\">\n",
       "      <th></th>\n",
       "      <th>Clusters</th>\n",
       "      <th>WSS</th>\n",
       "      <th>silhoute_score</th>\n",
       "    </tr>\n",
       "  </thead>\n",
       "  <tbody>\n",
       "    <tr>\n",
       "      <th>0</th>\n",
       "      <td>2</td>\n",
       "      <td>2.726455e+06</td>\n",
       "      <td>0.040409</td>\n",
       "    </tr>\n",
       "    <tr>\n",
       "      <th>1</th>\n",
       "      <td>3</td>\n",
       "      <td>2.654987e+06</td>\n",
       "      <td>0.035705</td>\n",
       "    </tr>\n",
       "    <tr>\n",
       "      <th>2</th>\n",
       "      <td>4</td>\n",
       "      <td>2.598807e+06</td>\n",
       "      <td>0.035471</td>\n",
       "    </tr>\n",
       "    <tr>\n",
       "      <th>3</th>\n",
       "      <td>5</td>\n",
       "      <td>2.556889e+06</td>\n",
       "      <td>0.034425</td>\n",
       "    </tr>\n",
       "    <tr>\n",
       "      <th>4</th>\n",
       "      <td>6</td>\n",
       "      <td>2.523618e+06</td>\n",
       "      <td>0.033462</td>\n",
       "    </tr>\n",
       "    <tr>\n",
       "      <th>5</th>\n",
       "      <td>7</td>\n",
       "      <td>2.499115e+06</td>\n",
       "      <td>0.032124</td>\n",
       "    </tr>\n",
       "    <tr>\n",
       "      <th>6</th>\n",
       "      <td>8</td>\n",
       "      <td>2.476905e+06</td>\n",
       "      <td>0.031446</td>\n",
       "    </tr>\n",
       "    <tr>\n",
       "      <th>7</th>\n",
       "      <td>9</td>\n",
       "      <td>2.457065e+06</td>\n",
       "      <td>0.031013</td>\n",
       "    </tr>\n",
       "    <tr>\n",
       "      <th>8</th>\n",
       "      <td>10</td>\n",
       "      <td>2.439132e+06</td>\n",
       "      <td>0.030378</td>\n",
       "    </tr>\n",
       "    <tr>\n",
       "      <th>9</th>\n",
       "      <td>11</td>\n",
       "      <td>2.423689e+06</td>\n",
       "      <td>0.030053</td>\n",
       "    </tr>\n",
       "  </tbody>\n",
       "</table>\n",
       "</div>"
      ],
      "text/plain": [
       "   Clusters           WSS  silhoute_score\n",
       "0         2  2.726455e+06        0.040409\n",
       "1         3  2.654987e+06        0.035705\n",
       "2         4  2.598807e+06        0.035471\n",
       "3         5  2.556889e+06        0.034425\n",
       "4         6  2.523618e+06        0.033462\n",
       "5         7  2.499115e+06        0.032124\n",
       "6         8  2.476905e+06        0.031446\n",
       "7         9  2.457065e+06        0.031013\n",
       "8        10  2.439132e+06        0.030378\n",
       "9        11  2.423689e+06        0.030053"
      ]
     },
     "execution_count": 23,
     "metadata": {},
     "output_type": "execute_result"
    }
   ],
   "source": [
    "#get the metrics into df\n",
    "cluster_metrics = pd.DataFrame({'Clusters' : K, 'WSS' : wss, 'silhoute_score':silhoute_score})\n",
    "cluster_metrics"
   ]
  },
  {
   "cell_type": "code",
   "execution_count": 24,
   "id": "14c45ef7",
   "metadata": {
    "execution": {
     "iopub.execute_input": "2022-08-03T09:35:12.541774Z",
     "iopub.status.busy": "2022-08-03T09:35:12.541377Z",
     "iopub.status.idle": "2022-08-03T09:35:12.760960Z",
     "shell.execute_reply": "2022-08-03T09:35:12.759740Z"
    },
    "papermill": {
     "duration": 0.250044,
     "end_time": "2022-08-03T09:35:12.763536",
     "exception": false,
     "start_time": "2022-08-03T09:35:12.513492",
     "status": "completed"
    },
    "tags": []
   },
   "outputs": [
    {
     "data": {
      "text/plain": [
       "<AxesSubplot:xlabel='Clusters', ylabel='WSS'>"
      ]
     },
     "execution_count": 24,
     "metadata": {},
     "output_type": "execute_result"
    },
    {
     "data": {
      "image/png": "[encoded data removed]",
      "text/plain": [
       "<Figure size 432x288 with 1 Axes>"
      ]
     },
     "metadata": {
      "needs_background": "light"
     },
     "output_type": "display_data"
    }
   ],
   "source": [
    "sns.lineplot(x = 'Clusters', y = 'WSS', data = cluster_metrics, marker=\"o\")\n",
    "#knee jerk point"
   ]
  },
  {
   "cell_type": "code",
   "execution_count": 25,
   "id": "c82d7703",
   "metadata": {
    "execution": {
     "iopub.execute_input": "2022-08-03T09:35:12.819645Z",
     "iopub.status.busy": "2022-08-03T09:35:12.818851Z",
     "iopub.status.idle": "2022-08-03T09:35:13.032934Z",
     "shell.execute_reply": "2022-08-03T09:35:13.031628Z"
    },
    "papermill": {
     "duration": 0.245445,
     "end_time": "2022-08-03T09:35:13.035594",
     "exception": false,
     "start_time": "2022-08-03T09:35:12.790149",
     "status": "completed"
    },
    "tags": []
   },
   "outputs": [
    {
     "data": {
      "text/plain": [
       "<AxesSubplot:xlabel='Clusters', ylabel='silhoute_score'>"
      ]
     },
     "execution_count": 25,
     "metadata": {},
     "output_type": "execute_result"
    },
    {
     "data": {
      "image/png": "[encoded data removed]",
      "text/plain": [
       "<Figure size 432x288 with 1 Axes>"
      ]
     },
     "metadata": {
      "needs_background": "light"
     },
     "output_type": "display_data"
    }
   ],
   "source": [
    "sns.lineplot(x = 'Clusters', y = 'silhoute_score', data = cluster_metrics, marker=\"o\")\n",
    "#higher better"
   ]
  },
  {
   "cell_type": "markdown",
   "id": "8fa9a96b",
   "metadata": {
    "papermill": {
     "duration": 0.026824,
     "end_time": "2022-08-03T09:35:13.089257",
     "exception": false,
     "start_time": "2022-08-03T09:35:13.062433",
     "status": "completed"
    },
    "tags": []
   },
   "source": [
    "#### ---> k-mean clustering do suggests 4 clusters"
   ]
  },
  {
   "cell_type": "code",
   "execution_count": 26,
   "id": "1773002b",
   "metadata": {
    "execution": {
     "iopub.execute_input": "2022-08-03T09:35:13.146414Z",
     "iopub.status.busy": "2022-08-03T09:35:13.145991Z",
     "iopub.status.idle": "2022-08-03T09:35:17.809344Z",
     "shell.execute_reply": "2022-08-03T09:35:17.808437Z"
    },
    "papermill": {
     "duration": 4.695947,
     "end_time": "2022-08-03T09:35:17.813088",
     "exception": false,
     "start_time": "2022-08-03T09:35:13.117141",
     "status": "completed"
    },
    "tags": []
   },
   "outputs": [
    {
     "data": {
      "text/plain": [
       "array([0, 2, 1, 3], dtype=int32)"
      ]
     },
     "execution_count": 26,
     "metadata": {},
     "output_type": "execute_result"
    }
   ],
   "source": [
    "model = KMeans(n_clusters=4, init=\"k-means++\")\n",
    "# fit the model\n",
    "model.fit(df_train_scaled)\n",
    "#Add the cluster vector to our DataFrame, X\n",
    "# df_train_scaled[\"Cluster\"] = model.labels_\n",
    "clusters = pd.unique(model.labels_)\n",
    "clusters"
   ]
  },
  {
   "cell_type": "code",
   "execution_count": 27,
   "id": "1c219aef",
   "metadata": {
    "execution": {
     "iopub.execute_input": "2022-08-03T09:35:17.872129Z",
     "iopub.status.busy": "2022-08-03T09:35:17.871455Z",
     "iopub.status.idle": "2022-08-03T09:35:17.881845Z",
     "shell.execute_reply": "2022-08-03T09:35:17.880405Z"
    },
    "papermill": {
     "duration": 0.043161,
     "end_time": "2022-08-03T09:35:17.884275",
     "exception": false,
     "start_time": "2022-08-03T09:35:17.841114",
     "status": "completed"
    },
    "tags": []
   },
   "outputs": [
    {
     "data": {
      "text/plain": [
       "(array([0, 1, 2, 3], dtype=int32), array([29039, 16934, 27789, 24238]))"
      ]
     },
     "execution_count": 27,
     "metadata": {},
     "output_type": "execute_result"
    }
   ],
   "source": [
    "np.unique(model.labels_, return_counts=True)"
   ]
  },
  {
   "cell_type": "markdown",
   "id": "23b57c7b",
   "metadata": {
    "papermill": {
     "duration": 0.026953,
     "end_time": "2022-08-03T09:35:17.938765",
     "exception": false,
     "start_time": "2022-08-03T09:35:17.911812",
     "status": "completed"
    },
    "tags": []
   },
   "source": [
    "### submission"
   ]
  },
  {
   "cell_type": "code",
   "execution_count": 28,
   "id": "91c39c9b",
   "metadata": {
    "execution": {
     "iopub.execute_input": "2022-08-03T09:35:17.995933Z",
     "iopub.status.busy": "2022-08-03T09:35:17.995493Z",
     "iopub.status.idle": "2022-08-03T09:35:18.000387Z",
     "shell.execute_reply": "2022-08-03T09:35:17.999181Z"
    },
    "papermill": {
     "duration": 0.036305,
     "end_time": "2022-08-03T09:35:18.002961",
     "exception": false,
     "start_time": "2022-08-03T09:35:17.966656",
     "status": "completed"
    },
    "tags": []
   },
   "outputs": [],
   "source": [
    "# submission = pd.DataFrame({'Id':df_org['id'].values,\n",
    "#                            'Predicted':model.labels_})\n",
    "# submission.to_csv(\"submission.csv\", index = False)\n",
    "# submission.info()"
   ]
  },
  {
   "cell_type": "markdown",
   "id": "859b3f22",
   "metadata": {
    "papermill": {
     "duration": 0.027464,
     "end_time": "2022-08-03T09:35:18.058412",
     "exception": false,
     "start_time": "2022-08-03T09:35:18.030948",
     "status": "completed"
    },
    "tags": []
   },
   "source": [
    "#### kmean score on public score is quite low, so trying other models\n",
    "##### kmean score with 4 cluster. - 0.22381\n",
    "##### Kmean score with 7 cluster - 0.26360"
   ]
  },
  {
   "cell_type": "code",
   "execution_count": null,
   "id": "26f4cf03",
   "metadata": {
    "papermill": {
     "duration": 0.027414,
     "end_time": "2022-08-03T09:35:18.114209",
     "exception": false,
     "start_time": "2022-08-03T09:35:18.086795",
     "status": "completed"
    },
    "tags": []
   },
   "outputs": [],
   "source": []
  },
  {
   "cell_type": "markdown",
   "id": "3036f61c",
   "metadata": {
    "papermill": {
     "duration": 0.027705,
     "end_time": "2022-08-03T09:35:18.169591",
     "exception": false,
     "start_time": "2022-08-03T09:35:18.141886",
     "status": "completed"
    },
    "tags": []
   },
   "source": [
    "## GaussianMixture"
   ]
  },
  {
   "cell_type": "markdown",
   "id": "012ae7a3",
   "metadata": {
    "papermill": {
     "duration": 0.027289,
     "end_time": "2022-08-03T09:35:18.224452",
     "exception": false,
     "start_time": "2022-08-03T09:35:18.197163",
     "status": "completed"
    },
    "tags": []
   },
   "source": [
    "#### trying both GaussianMixture , BayesianGaussianMixture"
   ]
  },
  {
   "cell_type": "code",
   "execution_count": 29,
   "id": "0a4c19e1",
   "metadata": {
    "execution": {
     "iopub.execute_input": "2022-08-03T09:35:18.281384Z",
     "iopub.status.busy": "2022-08-03T09:35:18.280927Z",
     "iopub.status.idle": "2022-08-03T09:36:16.819388Z",
     "shell.execute_reply": "2022-08-03T09:36:16.817468Z"
    },
    "papermill": {
     "duration": 58.573432,
     "end_time": "2022-08-03T09:36:16.825780",
     "exception": false,
     "start_time": "2022-08-03T09:35:18.252348",
     "status": "completed"
    },
    "tags": []
   },
   "outputs": [
    {
     "name": "stdout",
     "output_type": "stream",
     "text": [
      "n_components:  3\n",
      "n_components:  4\n",
      "n_components:  5\n",
      "n_components:  6\n",
      "n_components:  7\n",
      "CPU times: user 2min 26s, sys: 1min 21s, total: 3min 48s\n",
      "Wall time: 58.5 s\n"
     ]
    },
    {
     "data": {
      "text/plain": [
       "([7915635.133068041,\n",
       "  7911984.087839107,\n",
       "  7889310.824609202,\n",
       "  7872535.708344006,\n",
       "  7868228.928749583],\n",
       " [7915635.133068041,\n",
       "  7911984.087839107,\n",
       "  7889310.824609202,\n",
       "  7872535.708344006,\n",
       "  7868228.928749583])"
      ]
     },
     "execution_count": 29,
     "metadata": {},
     "output_type": "execute_result"
    }
   ],
   "source": [
    "%%time\n",
    "\n",
    "n_components_range=range(3,8)\n",
    "bic_values = []\n",
    "aic_values = []\n",
    "\n",
    "for n_components in n_components_range:\n",
    "    print(\"n_components: \", n_components)\n",
    "    # define the model\n",
    "    gm_model = GaussianMixture(n_components=n_components,\n",
    "                                n_init=1,\n",
    "                                init_params='kmeans',\n",
    "                              random_state=None)\n",
    "    # fit the model\n",
    "    gm_model.fit(df_train_scaled)\n",
    "    bic_values.append(gm_model.bic(df_train_scaled))\n",
    "    aic_values.append(gm_model.bic(df_train_scaled))\n",
    "\n",
    "bic_values, aic_values"
   ]
  },
  {
   "cell_type": "code",
   "execution_count": 30,
   "id": "76f2338d",
   "metadata": {
    "execution": {
     "iopub.execute_input": "2022-08-03T09:36:16.898690Z",
     "iopub.status.busy": "2022-08-03T09:36:16.898269Z",
     "iopub.status.idle": "2022-08-03T09:36:17.114921Z",
     "shell.execute_reply": "2022-08-03T09:36:17.114012Z"
    },
    "papermill": {
     "duration": 0.249285,
     "end_time": "2022-08-03T09:36:17.117498",
     "exception": false,
     "start_time": "2022-08-03T09:36:16.868213",
     "status": "completed"
    },
    "tags": []
   },
   "outputs": [
    {
     "data": {
      "text/plain": [
       "<AxesSubplot:>"
      ]
     },
     "execution_count": 30,
     "metadata": {},
     "output_type": "execute_result"
    },
    {
     "data": {
      "image/png": "[encoded data removed]",
      "text/plain": [
       "<Figure size 432x288 with 1 Axes>"
      ]
     },
     "metadata": {
      "needs_background": "light"
     },
     "output_type": "display_data"
    }
   ],
   "source": [
    "sns.lineplot(x = n_components_range, y = bic_values, marker=\"o\")"
   ]
  },
  {
   "cell_type": "code",
   "execution_count": 31,
   "id": "f404fab7",
   "metadata": {
    "execution": {
     "iopub.execute_input": "2022-08-03T09:36:17.176390Z",
     "iopub.status.busy": "2022-08-03T09:36:17.175588Z",
     "iopub.status.idle": "2022-08-03T09:36:17.353990Z",
     "shell.execute_reply": "2022-08-03T09:36:17.352912Z"
    },
    "papermill": {
     "duration": 0.211141,
     "end_time": "2022-08-03T09:36:17.356685",
     "exception": false,
     "start_time": "2022-08-03T09:36:17.145544",
     "status": "completed"
    },
    "tags": []
   },
   "outputs": [
    {
     "data": {
      "text/plain": [
       "<AxesSubplot:>"
      ]
     },
     "execution_count": 31,
     "metadata": {},
     "output_type": "execute_result"
    },
    {
     "data": {
      "image/png": "[encoded data removed]",
      "text/plain": [
       "<Figure size 432x288 with 1 Axes>"
      ]
     },
     "metadata": {
      "needs_background": "light"
     },
     "output_type": "display_data"
    }
   ],
   "source": [
    "sns.lineplot(x = n_components_range, y = aic_values, marker=\"o\")"
   ]
  },
  {
   "cell_type": "code",
   "execution_count": 32,
   "id": "9b986297",
   "metadata": {
    "execution": {
     "iopub.execute_input": "2022-08-03T09:36:17.416087Z",
     "iopub.status.busy": "2022-08-03T09:36:17.415682Z",
     "iopub.status.idle": "2022-08-03T09:36:37.648786Z",
     "shell.execute_reply": "2022-08-03T09:36:37.647212Z"
    },
    "papermill": {
     "duration": 20.268716,
     "end_time": "2022-08-03T09:36:37.653875",
     "exception": false,
     "start_time": "2022-08-03T09:36:17.385159",
     "status": "completed"
    },
    "tags": []
   },
   "outputs": [
    {
     "name": "stdout",
     "output_type": "stream",
     "text": [
      "CPU times: user 51 s, sys: 28.4 s, total: 1min 19s\n",
      "Wall time: 20.2 s\n"
     ]
    }
   ],
   "source": [
    "%%time\n",
    "\n",
    "n_components = 7\n",
    "# define the model\n",
    "gm_model = GaussianMixture(n_components=n_components)\n",
    "# fit the model\n",
    "gm_model.fit(df_train_scaled)\n",
    "# assign a cluster to each example\n",
    "yhat_gm = gm_model.predict(df_train_scaled)\n",
    "# retrieve unique clusters\n",
    "clusters = pd.unique(yhat_gm)\n",
    "\n",
    "\n",
    "\n",
    "#gm_model.bic(df_train_scaled), gm_model.aic(df_train_scaled)"
   ]
  },
  {
   "cell_type": "code",
   "execution_count": 33,
   "id": "6a243d02",
   "metadata": {
    "execution": {
     "iopub.execute_input": "2022-08-03T09:36:37.759967Z",
     "iopub.status.busy": "2022-08-03T09:36:37.759585Z",
     "iopub.status.idle": "2022-08-03T09:36:38.468393Z",
     "shell.execute_reply": "2022-08-03T09:36:38.466920Z"
    },
    "papermill": {
     "duration": 0.744608,
     "end_time": "2022-08-03T09:36:38.472463",
     "exception": false,
     "start_time": "2022-08-03T09:36:37.727855",
     "status": "completed"
    },
    "tags": []
   },
   "outputs": [
    {
     "data": {
      "text/plain": [
       "(7871211.812353102, 7840322.4924997)"
      ]
     },
     "execution_count": 33,
     "metadata": {},
     "output_type": "execute_result"
    }
   ],
   "source": [
    "gm_model.bic(df_train_scaled), gm_model.aic(df_train_scaled)"
   ]
  },
  {
   "cell_type": "code",
   "execution_count": 34,
   "id": "8a6dddc2",
   "metadata": {
    "execution": {
     "iopub.execute_input": "2022-08-03T09:36:38.555662Z",
     "iopub.status.busy": "2022-08-03T09:36:38.555222Z",
     "iopub.status.idle": "2022-08-03T09:36:38.562216Z",
     "shell.execute_reply": "2022-08-03T09:36:38.561329Z"
    },
    "papermill": {
     "duration": 0.039167,
     "end_time": "2022-08-03T09:36:38.564340",
     "exception": false,
     "start_time": "2022-08-03T09:36:38.525173",
     "status": "completed"
    },
    "tags": []
   },
   "outputs": [
    {
     "data": {
      "text/plain": [
       "array([2, 0, 3, ..., 3, 5, 0])"
      ]
     },
     "execution_count": 34,
     "metadata": {},
     "output_type": "execute_result"
    }
   ],
   "source": [
    "yhat_gm"
   ]
  },
  {
   "cell_type": "code",
   "execution_count": 35,
   "id": "1d0d2bad",
   "metadata": {
    "execution": {
     "iopub.execute_input": "2022-08-03T09:36:38.624225Z",
     "iopub.status.busy": "2022-08-03T09:36:38.623514Z",
     "iopub.status.idle": "2022-08-03T09:36:38.651036Z",
     "shell.execute_reply": "2022-08-03T09:36:38.650150Z"
    },
    "papermill": {
     "duration": 0.059832,
     "end_time": "2022-08-03T09:36:38.653425",
     "exception": false,
     "start_time": "2022-08-03T09:36:38.593593",
     "status": "completed"
    },
    "tags": []
   },
   "outputs": [
    {
     "data": {
      "text/html": [
       "<div>\n",
       "<style scoped>\n",
       "    .dataframe tbody tr th:only-of-type {\n",
       "        vertical-align: middle;\n",
       "    }\n",
       "\n",
       "    .dataframe tbody tr th {\n",
       "        vertical-align: top;\n",
       "    }\n",
       "\n",
       "    .dataframe thead th {\n",
       "        text-align: right;\n",
       "    }\n",
       "</style>\n",
       "<table border=\"1\" class=\"dataframe\">\n",
       "  <thead>\n",
       "    <tr style=\"text-align: right;\">\n",
       "      <th></th>\n",
       "      <th>f_00</th>\n",
       "      <th>f_01</th>\n",
       "      <th>f_02</th>\n",
       "      <th>f_03</th>\n",
       "      <th>f_04</th>\n",
       "      <th>f_05</th>\n",
       "      <th>f_06</th>\n",
       "      <th>f_07</th>\n",
       "      <th>f_08</th>\n",
       "      <th>f_09</th>\n",
       "      <th>f_10</th>\n",
       "      <th>f_11</th>\n",
       "      <th>f_12</th>\n",
       "      <th>f_13</th>\n",
       "      <th>f_14</th>\n",
       "      <th>f_15</th>\n",
       "      <th>f_16</th>\n",
       "      <th>f_17</th>\n",
       "      <th>f_18</th>\n",
       "      <th>f_19</th>\n",
       "      <th>f_20</th>\n",
       "      <th>f_21</th>\n",
       "      <th>f_22</th>\n",
       "      <th>f_23</th>\n",
       "      <th>f_24</th>\n",
       "      <th>f_25</th>\n",
       "      <th>f_26</th>\n",
       "      <th>f_27</th>\n",
       "      <th>f_28</th>\n",
       "    </tr>\n",
       "  </thead>\n",
       "  <tbody>\n",
       "    <tr>\n",
       "      <th>0</th>\n",
       "      <td>-0.389551</td>\n",
       "      <td>-0.917695</td>\n",
       "      <td>0.649105</td>\n",
       "      <td>0.589499</td>\n",
       "      <td>-0.824775</td>\n",
       "      <td>0.734849</td>\n",
       "      <td>2.267432</td>\n",
       "      <td>-0.977987</td>\n",
       "      <td>1.383372</td>\n",
       "      <td>1.039938</td>\n",
       "      <td>-0.567775</td>\n",
       "      <td>1.142180</td>\n",
       "      <td>-0.083596</td>\n",
       "      <td>0.086073</td>\n",
       "      <td>-0.473738</td>\n",
       "      <td>0.360372</td>\n",
       "      <td>1.059236</td>\n",
       "      <td>-0.560604</td>\n",
       "      <td>-0.362972</td>\n",
       "      <td>-0.471839</td>\n",
       "      <td>-0.754257</td>\n",
       "      <td>-0.762195</td>\n",
       "      <td>-0.711585</td>\n",
       "      <td>0.911572</td>\n",
       "      <td>-0.680948</td>\n",
       "      <td>0.762783</td>\n",
       "      <td>0.960482</td>\n",
       "      <td>1.045296</td>\n",
       "      <td>0.683323</td>\n",
       "    </tr>\n",
       "    <tr>\n",
       "      <th>1</th>\n",
       "      <td>-0.688544</td>\n",
       "      <td>-0.459195</td>\n",
       "      <td>0.654321</td>\n",
       "      <td>0.995533</td>\n",
       "      <td>-1.644472</td>\n",
       "      <td>0.864967</td>\n",
       "      <td>-0.087835</td>\n",
       "      <td>-0.977987</td>\n",
       "      <td>-0.875405</td>\n",
       "      <td>-0.179925</td>\n",
       "      <td>-0.837020</td>\n",
       "      <td>-0.420725</td>\n",
       "      <td>1.725834</td>\n",
       "      <td>0.738456</td>\n",
       "      <td>0.588248</td>\n",
       "      <td>-0.393846</td>\n",
       "      <td>0.139972</td>\n",
       "      <td>-0.032414</td>\n",
       "      <td>0.478499</td>\n",
       "      <td>-0.422434</td>\n",
       "      <td>-0.089129</td>\n",
       "      <td>-1.783073</td>\n",
       "      <td>-0.541815</td>\n",
       "      <td>0.454693</td>\n",
       "      <td>1.032386</td>\n",
       "      <td>-0.133948</td>\n",
       "      <td>-0.552942</td>\n",
       "      <td>0.355435</td>\n",
       "      <td>-1.602671</td>\n",
       "    </tr>\n",
       "    <tr>\n",
       "      <th>2</th>\n",
       "      <td>0.805607</td>\n",
       "      <td>0.318753</td>\n",
       "      <td>-1.167963</td>\n",
       "      <td>-0.623531</td>\n",
       "      <td>0.108638</td>\n",
       "      <td>0.785146</td>\n",
       "      <td>1.996476</td>\n",
       "      <td>0.021718</td>\n",
       "      <td>1.017648</td>\n",
       "      <td>-0.394246</td>\n",
       "      <td>0.124844</td>\n",
       "      <td>0.296135</td>\n",
       "      <td>-0.928325</td>\n",
       "      <td>1.118063</td>\n",
       "      <td>-0.684017</td>\n",
       "      <td>0.471450</td>\n",
       "      <td>0.343316</td>\n",
       "      <td>-0.289336</td>\n",
       "      <td>0.298074</td>\n",
       "      <td>-0.407243</td>\n",
       "      <td>-1.597140</td>\n",
       "      <td>1.193015</td>\n",
       "      <td>2.236943</td>\n",
       "      <td>0.088090</td>\n",
       "      <td>-1.513324</td>\n",
       "      <td>-0.577814</td>\n",
       "      <td>0.979171</td>\n",
       "      <td>-0.926250</td>\n",
       "      <td>-2.224327</td>\n",
       "    </tr>\n",
       "    <tr>\n",
       "      <th>3</th>\n",
       "      <td>-0.500743</td>\n",
       "      <td>0.223305</td>\n",
       "      <td>0.264788</td>\n",
       "      <td>0.232124</td>\n",
       "      <td>0.417259</td>\n",
       "      <td>-1.219016</td>\n",
       "      <td>0.142257</td>\n",
       "      <td>0.286548</td>\n",
       "      <td>-1.213526</td>\n",
       "      <td>0.917564</td>\n",
       "      <td>0.124844</td>\n",
       "      <td>0.296135</td>\n",
       "      <td>-0.083596</td>\n",
       "      <td>-0.434221</td>\n",
       "      <td>-0.393288</td>\n",
       "      <td>0.628715</td>\n",
       "      <td>-1.076425</td>\n",
       "      <td>-1.521504</td>\n",
       "      <td>-1.150052</td>\n",
       "      <td>0.621083</td>\n",
       "      <td>1.284518</td>\n",
       "      <td>0.534669</td>\n",
       "      <td>0.727667</td>\n",
       "      <td>-1.218753</td>\n",
       "      <td>0.825698</td>\n",
       "      <td>-1.164842</td>\n",
       "      <td>-0.397908</td>\n",
       "      <td>-0.114228</td>\n",
       "      <td>0.307002</td>\n",
       "    </tr>\n",
       "  </tbody>\n",
       "</table>\n",
       "</div>"
      ],
      "text/plain": [
       "       f_00      f_01      f_02      f_03      f_04      f_05      f_06  \\\n",
       "0 -0.389551 -0.917695  0.649105  0.589499 -0.824775  0.734849  2.267432   \n",
       "1 -0.688544 -0.459195  0.654321  0.995533 -1.644472  0.864967 -0.087835   \n",
       "2  0.805607  0.318753 -1.167963 -0.623531  0.108638  0.785146  1.996476   \n",
       "3 -0.500743  0.223305  0.264788  0.232124  0.417259 -1.219016  0.142257   \n",
       "\n",
       "       f_07      f_08      f_09      f_10      f_11      f_12      f_13  \\\n",
       "0 -0.977987  1.383372  1.039938 -0.567775  1.142180 -0.083596  0.086073   \n",
       "1 -0.977987 -0.875405 -0.179925 -0.837020 -0.420725  1.725834  0.738456   \n",
       "2  0.021718  1.017648 -0.394246  0.124844  0.296135 -0.928325  1.118063   \n",
       "3  0.286548 -1.213526  0.917564  0.124844  0.296135 -0.083596 -0.434221   \n",
       "\n",
       "       f_14      f_15      f_16      f_17      f_18      f_19      f_20  \\\n",
       "0 -0.473738  0.360372  1.059236 -0.560604 -0.362972 -0.471839 -0.754257   \n",
       "1  0.588248 -0.393846  0.139972 -0.032414  0.478499 -0.422434 -0.089129   \n",
       "2 -0.684017  0.471450  0.343316 -0.289336  0.298074 -0.407243 -1.597140   \n",
       "3 -0.393288  0.628715 -1.076425 -1.521504 -1.150052  0.621083  1.284518   \n",
       "\n",
       "       f_21      f_22      f_23      f_24      f_25      f_26      f_27  \\\n",
       "0 -0.762195 -0.711585  0.911572 -0.680948  0.762783  0.960482  1.045296   \n",
       "1 -1.783073 -0.541815  0.454693  1.032386 -0.133948 -0.552942  0.355435   \n",
       "2  1.193015  2.236943  0.088090 -1.513324 -0.577814  0.979171 -0.926250   \n",
       "3  0.534669  0.727667 -1.218753  0.825698 -1.164842 -0.397908 -0.114228   \n",
       "\n",
       "       f_28  \n",
       "0  0.683323  \n",
       "1 -1.602671  \n",
       "2 -2.224327  \n",
       "3  0.307002  "
      ]
     },
     "execution_count": 35,
     "metadata": {},
     "output_type": "execute_result"
    }
   ],
   "source": [
    "df_train_scaled.head(4)"
   ]
  },
  {
   "cell_type": "markdown",
   "id": "e0e91384",
   "metadata": {
    "papermill": {
     "duration": 0.029242,
     "end_time": "2022-08-03T09:36:38.712230",
     "exception": false,
     "start_time": "2022-08-03T09:36:38.682988",
     "status": "completed"
    },
    "tags": []
   },
   "source": [
    "### Submission"
   ]
  },
  {
   "cell_type": "code",
   "execution_count": 36,
   "id": "869ae63e",
   "metadata": {
    "execution": {
     "iopub.execute_input": "2022-08-03T09:36:38.772207Z",
     "iopub.status.busy": "2022-08-03T09:36:38.771807Z",
     "iopub.status.idle": "2022-08-03T09:36:38.776464Z",
     "shell.execute_reply": "2022-08-03T09:36:38.775357Z"
    },
    "papermill": {
     "duration": 0.037124,
     "end_time": "2022-08-03T09:36:38.778823",
     "exception": false,
     "start_time": "2022-08-03T09:36:38.741699",
     "status": "completed"
    },
    "tags": []
   },
   "outputs": [],
   "source": [
    "# submission = pd.DataFrame({'Id':df_org['id'].values,\n",
    "#                            'Predicted':yhat_gm})\n",
    "# submission.to_csv(\"submission.csv\", index = False)\n",
    "# submission.info()"
   ]
  },
  {
   "cell_type": "code",
   "execution_count": 37,
   "id": "bde70910",
   "metadata": {
    "execution": {
     "iopub.execute_input": "2022-08-03T09:36:38.838619Z",
     "iopub.status.busy": "2022-08-03T09:36:38.838223Z",
     "iopub.status.idle": "2022-08-03T09:36:38.842125Z",
     "shell.execute_reply": "2022-08-03T09:36:38.841150Z"
    },
    "papermill": {
     "duration": 0.036424,
     "end_time": "2022-08-03T09:36:38.844202",
     "exception": false,
     "start_time": "2022-08-03T09:36:38.807778",
     "status": "completed"
    },
    "tags": []
   },
   "outputs": [],
   "source": [
    "# submission.head()"
   ]
  },
  {
   "cell_type": "markdown",
   "id": "7b6acaec",
   "metadata": {
    "papermill": {
     "duration": 0.028689,
     "end_time": "2022-08-03T09:36:38.901833",
     "exception": false,
     "start_time": "2022-08-03T09:36:38.873144",
     "status": "completed"
    },
    "tags": []
   },
   "source": [
    "### public score - 0.52266\n",
    "##### good improvement over kmeans clearly"
   ]
  },
  {
   "cell_type": "markdown",
   "id": "7dce98af",
   "metadata": {
    "papermill": {
     "duration": 0.028526,
     "end_time": "2022-08-03T09:36:38.959405",
     "exception": false,
     "start_time": "2022-08-03T09:36:38.930879",
     "status": "completed"
    },
    "tags": []
   },
   "source": [
    "### BayesianGaussianMixture"
   ]
  },
  {
   "cell_type": "code",
   "execution_count": 38,
   "id": "3729a721",
   "metadata": {
    "execution": {
     "iopub.execute_input": "2022-08-03T09:36:39.019560Z",
     "iopub.status.busy": "2022-08-03T09:36:39.018476Z",
     "iopub.status.idle": "2022-08-03T09:37:37.906534Z",
     "shell.execute_reply": "2022-08-03T09:37:37.905368Z"
    },
    "papermill": {
     "duration": 58.995968,
     "end_time": "2022-08-03T09:37:37.984363",
     "exception": false,
     "start_time": "2022-08-03T09:36:38.988395",
     "status": "completed"
    },
    "tags": []
   },
   "outputs": [
    {
     "name": "stdout",
     "output_type": "stream",
     "text": [
      "CPU times: user 2min 25s, sys: 1min 24s, total: 3min 49s\n",
      "Wall time: 58.9 s\n"
     ]
    }
   ],
   "source": [
    "%%time\n",
    "\n",
    "n_components = 7\n",
    "# define the model\n",
    "bgm_model = BayesianGaussianMixture(n_components=n_components)\n",
    "# fit the model\n",
    "bgm_model.fit(df_train_scaled)\n",
    "# assign a cluster to each example\n",
    "yhat_bgm = bgm_model.predict(df_train_scaled)\n",
    "# retrieve unique clusters\n",
    "clusters = pd.unique(yhat_bgm)"
   ]
  },
  {
   "cell_type": "code",
   "execution_count": 39,
   "id": "91cb0469",
   "metadata": {
    "execution": {
     "iopub.execute_input": "2022-08-03T09:37:38.045444Z",
     "iopub.status.busy": "2022-08-03T09:37:38.045068Z",
     "iopub.status.idle": "2022-08-03T09:37:38.433060Z",
     "shell.execute_reply": "2022-08-03T09:37:38.431434Z"
    },
    "papermill": {
     "duration": 0.423776,
     "end_time": "2022-08-03T09:37:38.438038",
     "exception": false,
     "start_time": "2022-08-03T09:37:38.014262",
     "status": "completed"
    },
    "tags": []
   },
   "outputs": [
    {
     "data": {
      "text/plain": [
       "array([[3.43299506e-03, 5.59663713e-07, 1.14301348e-02, ...,\n",
       "        5.06117341e-03, 3.35242706e-04, 2.21853511e-03],\n",
       "       [1.31912011e-05, 1.94978823e-02, 8.87930630e-01, ...,\n",
       "        1.96604328e-02, 6.77864054e-03, 6.56419610e-02],\n",
       "       [1.10601582e-01, 4.00734032e-09, 1.20437904e-04, ...,\n",
       "        5.48362347e-05, 7.98927038e-04, 2.22344002e-05],\n",
       "       ...,\n",
       "       [9.60593133e-01, 1.04450020e-04, 5.93770481e-03, ...,\n",
       "        1.00653704e-03, 2.88694626e-02, 2.14276394e-04],\n",
       "       [1.36944065e-01, 4.65197955e-02, 7.26701728e-02, ...,\n",
       "        7.05109960e-01, 4.59816564e-04, 3.77214189e-02],\n",
       "       [1.97834137e-09, 6.08958093e-08, 2.84076260e-04, ...,\n",
       "        3.82412559e-02, 6.32688669e-06, 8.70848478e-01]])"
      ]
     },
     "execution_count": 39,
     "metadata": {},
     "output_type": "execute_result"
    }
   ],
   "source": [
    "bgm_predict_proba = bgm_model.predict_proba(df_train_scaled)\n",
    "bgm_predict_proba"
   ]
  },
  {
   "cell_type": "code",
   "execution_count": 40,
   "id": "33631eb2",
   "metadata": {
    "execution": {
     "iopub.execute_input": "2022-08-03T09:37:38.503959Z",
     "iopub.status.busy": "2022-08-03T09:37:38.503551Z",
     "iopub.status.idle": "2022-08-03T09:37:38.516596Z",
     "shell.execute_reply": "2022-08-03T09:37:38.515375Z"
    },
    "papermill": {
     "duration": 0.047694,
     "end_time": "2022-08-03T09:37:38.519469",
     "exception": false,
     "start_time": "2022-08-03T09:37:38.471775",
     "status": "completed"
    },
    "tags": []
   },
   "outputs": [],
   "source": [
    "#max probability is corresponding to max probability amount 7 clusters\n",
    "bgm_predict_proba_max = bgm_predict_proba.max(axis=1)"
   ]
  },
  {
   "cell_type": "code",
   "execution_count": 41,
   "id": "97cfa3a7",
   "metadata": {
    "execution": {
     "iopub.execute_input": "2022-08-03T09:37:38.582199Z",
     "iopub.status.busy": "2022-08-03T09:37:38.581301Z",
     "iopub.status.idle": "2022-08-03T09:37:38.762193Z",
     "shell.execute_reply": "2022-08-03T09:37:38.761060Z"
    },
    "papermill": {
     "duration": 0.21595,
     "end_time": "2022-08-03T09:37:38.764864",
     "exception": false,
     "start_time": "2022-08-03T09:37:38.548914",
     "status": "completed"
    },
    "tags": []
   },
   "outputs": [
    {
     "data": {
      "text/plain": [
       "<AxesSubplot:>"
      ]
     },
     "execution_count": 41,
     "metadata": {},
     "output_type": "execute_result"
    },
    {
     "data": {
      "image/png": "[encoded data removed]",
      "text/plain": [
       "<Figure size 432x288 with 1 Axes>"
      ]
     },
     "metadata": {
      "needs_background": "light"
     },
     "output_type": "display_data"
    }
   ],
   "source": [
    "sns.boxplot(y=bgm_predict_proba_max)"
   ]
  },
  {
   "cell_type": "code",
   "execution_count": 42,
   "id": "1c863e75",
   "metadata": {
    "execution": {
     "iopub.execute_input": "2022-08-03T09:37:38.827903Z",
     "iopub.status.busy": "2022-08-03T09:37:38.827454Z",
     "iopub.status.idle": "2022-08-03T09:37:39.037870Z",
     "shell.execute_reply": "2022-08-03T09:37:39.036663Z"
    },
    "papermill": {
     "duration": 0.244626,
     "end_time": "2022-08-03T09:37:39.040531",
     "exception": false,
     "start_time": "2022-08-03T09:37:38.795905",
     "status": "completed"
    },
    "tags": []
   },
   "outputs": [
    {
     "data": {
      "text/plain": [
       "0.07169387755102041"
      ]
     },
     "execution_count": 42,
     "metadata": {},
     "output_type": "execute_result"
    }
   ],
   "source": [
    "sum(bgm_predict_proba_max < .5)/len(bgm_predict_proba_max)"
   ]
  },
  {
   "cell_type": "markdown",
   "id": "389c8742",
   "metadata": {
    "papermill": {
     "duration": 0.030455,
     "end_time": "2022-08-03T09:37:39.101128",
     "exception": false,
     "start_time": "2022-08-03T09:37:39.070673",
     "status": "completed"
    },
    "tags": []
   },
   "source": [
    "### Submission"
   ]
  },
  {
   "cell_type": "code",
   "execution_count": 43,
   "id": "ba867319",
   "metadata": {
    "execution": {
     "iopub.execute_input": "2022-08-03T09:37:39.162930Z",
     "iopub.status.busy": "2022-08-03T09:37:39.162142Z",
     "iopub.status.idle": "2022-08-03T09:37:39.276859Z",
     "shell.execute_reply": "2022-08-03T09:37:39.275630Z"
    },
    "papermill": {
     "duration": 0.149512,
     "end_time": "2022-08-03T09:37:39.280232",
     "exception": false,
     "start_time": "2022-08-03T09:37:39.130720",
     "status": "completed"
    },
    "tags": []
   },
   "outputs": [
    {
     "name": "stdout",
     "output_type": "stream",
     "text": [
      "<class 'pandas.core.frame.DataFrame'>\n",
      "RangeIndex: 98000 entries, 0 to 97999\n",
      "Data columns (total 2 columns):\n",
      " #   Column     Non-Null Count  Dtype\n",
      "---  ------     --------------  -----\n",
      " 0   Id         98000 non-null  int64\n",
      " 1   Predicted  98000 non-null  int64\n",
      "dtypes: int64(2)\n",
      "memory usage: 1.5 MB\n"
     ]
    }
   ],
   "source": [
    "submission = pd.DataFrame({'Id':df_org['id'].values,\n",
    "                           'Predicted':yhat_bgm})\n",
    "submission.to_csv(\"submission.csv\", index = False)\n",
    "submission.info()"
   ]
  },
  {
   "cell_type": "markdown",
   "id": "373fdda7",
   "metadata": {
    "papermill": {
     "duration": 0.030445,
     "end_time": "2022-08-03T09:37:39.342450",
     "exception": false,
     "start_time": "2022-08-03T09:37:39.312005",
     "status": "completed"
    },
    "tags": []
   },
   "source": [
    "### public score - 0.59899\n",
    "##### good improvement over GMM clearly"
   ]
  },
  {
   "cell_type": "code",
   "execution_count": null,
   "id": "e42e908c",
   "metadata": {
    "papermill": {
     "duration": 0.030347,
     "end_time": "2022-08-03T09:37:39.403163",
     "exception": false,
     "start_time": "2022-08-03T09:37:39.372816",
     "status": "completed"
    },
    "tags": []
   },
   "outputs": [],
   "source": []
  },
  {
   "cell_type": "markdown",
   "id": "372d190b",
   "metadata": {
    "papermill": {
     "duration": 0.029326,
     "end_time": "2022-08-03T09:37:39.463491",
     "exception": false,
     "start_time": "2022-08-03T09:37:39.434165",
     "status": "completed"
    },
    "tags": []
   },
   "source": [
    "## Choose GMM cluster if BGMM predict_proba is low ?"
   ]
  },
  {
   "cell_type": "code",
   "execution_count": 44,
   "id": "3061062c",
   "metadata": {
    "execution": {
     "iopub.execute_input": "2022-08-03T09:37:39.525986Z",
     "iopub.status.busy": "2022-08-03T09:37:39.525623Z",
     "iopub.status.idle": "2022-08-03T09:37:39.532844Z",
     "shell.execute_reply": "2022-08-03T09:37:39.531659Z"
    },
    "papermill": {
     "duration": 0.04116,
     "end_time": "2022-08-03T09:37:39.535242",
     "exception": false,
     "start_time": "2022-08-03T09:37:39.494082",
     "status": "completed"
    },
    "tags": []
   },
   "outputs": [
    {
     "data": {
      "text/plain": [
       "array([2, 0, 3, ..., 3, 5, 0])"
      ]
     },
     "execution_count": 44,
     "metadata": {},
     "output_type": "execute_result"
    }
   ],
   "source": [
    "yhat_gm"
   ]
  },
  {
   "cell_type": "code",
   "execution_count": 45,
   "id": "1690430f",
   "metadata": {
    "execution": {
     "iopub.execute_input": "2022-08-03T09:37:39.598226Z",
     "iopub.status.busy": "2022-08-03T09:37:39.596716Z",
     "iopub.status.idle": "2022-08-03T09:37:39.610351Z",
     "shell.execute_reply": "2022-08-03T09:37:39.609210Z"
    },
    "papermill": {
     "duration": 0.047503,
     "end_time": "2022-08-03T09:37:39.612883",
     "exception": false,
     "start_time": "2022-08-03T09:37:39.565380",
     "status": "completed"
    },
    "tags": []
   },
   "outputs": [
    {
     "data": {
      "text/html": [
       "<div>\n",
       "<style scoped>\n",
       "    .dataframe tbody tr th:only-of-type {\n",
       "        vertical-align: middle;\n",
       "    }\n",
       "\n",
       "    .dataframe tbody tr th {\n",
       "        vertical-align: top;\n",
       "    }\n",
       "\n",
       "    .dataframe thead th {\n",
       "        text-align: right;\n",
       "    }\n",
       "</style>\n",
       "<table border=\"1\" class=\"dataframe\">\n",
       "  <thead>\n",
       "    <tr style=\"text-align: right;\">\n",
       "      <th></th>\n",
       "      <th>yhat_gm</th>\n",
       "      <th>yhat_bgm</th>\n",
       "      <th>bgm_predict_proba_max</th>\n",
       "    </tr>\n",
       "  </thead>\n",
       "  <tbody>\n",
       "    <tr>\n",
       "      <th>0</th>\n",
       "      <td>2</td>\n",
       "      <td>3</td>\n",
       "      <td>0.977521</td>\n",
       "    </tr>\n",
       "    <tr>\n",
       "      <th>1</th>\n",
       "      <td>0</td>\n",
       "      <td>2</td>\n",
       "      <td>0.887931</td>\n",
       "    </tr>\n",
       "    <tr>\n",
       "      <th>2</th>\n",
       "      <td>3</td>\n",
       "      <td>3</td>\n",
       "      <td>0.888402</td>\n",
       "    </tr>\n",
       "    <tr>\n",
       "      <th>3</th>\n",
       "      <td>4</td>\n",
       "      <td>1</td>\n",
       "      <td>0.866635</td>\n",
       "    </tr>\n",
       "  </tbody>\n",
       "</table>\n",
       "</div>"
      ],
      "text/plain": [
       "   yhat_gm  yhat_bgm  bgm_predict_proba_max\n",
       "0        2         3               0.977521\n",
       "1        0         2               0.887931\n",
       "2        3         3               0.888402\n",
       "3        4         1               0.866635"
      ]
     },
     "execution_count": 45,
     "metadata": {},
     "output_type": "execute_result"
    }
   ],
   "source": [
    "y_concat = pd.DataFrame({'yhat_gm':yhat_gm, 'yhat_bgm':yhat_bgm, 'bgm_predict_proba_max':bgm_predict_proba_max})\n",
    "y_concat.head(4)"
   ]
  },
  {
   "cell_type": "code",
   "execution_count": 46,
   "id": "061c5902",
   "metadata": {
    "execution": {
     "iopub.execute_input": "2022-08-03T09:37:39.676261Z",
     "iopub.status.busy": "2022-08-03T09:37:39.675366Z",
     "iopub.status.idle": "2022-08-03T09:37:39.685886Z",
     "shell.execute_reply": "2022-08-03T09:37:39.685048Z"
    },
    "papermill": {
     "duration": 0.043705,
     "end_time": "2022-08-03T09:37:39.688069",
     "exception": false,
     "start_time": "2022-08-03T09:37:39.644364",
     "status": "completed"
    },
    "tags": []
   },
   "outputs": [
    {
     "data": {
      "text/plain": [
       "0        False\n",
       "1        False\n",
       "2        False\n",
       "3        False\n",
       "4        False\n",
       "         ...  \n",
       "97995    False\n",
       "97996     True\n",
       "97997    False\n",
       "97998    False\n",
       "97999    False\n",
       "Name: bgm_predict_proba_max, Length: 98000, dtype: bool"
      ]
     },
     "execution_count": 46,
     "metadata": {},
     "output_type": "execute_result"
    }
   ],
   "source": [
    "y_concat['bgm_predict_proba_max']<.5"
   ]
  },
  {
   "cell_type": "markdown",
   "id": "86eba896",
   "metadata": {
    "papermill": {
     "duration": 0.029475,
     "end_time": "2022-08-03T09:37:39.747901",
     "exception": false,
     "start_time": "2022-08-03T09:37:39.718426",
     "status": "completed"
    },
    "tags": []
   },
   "source": [
    "#### just selecting for all proba less than 60 percent, we will choose GMM"
   ]
  },
  {
   "cell_type": "code",
   "execution_count": 47,
   "id": "9a4b1f81",
   "metadata": {
    "execution": {
     "iopub.execute_input": "2022-08-03T09:37:39.809980Z",
     "iopub.status.busy": "2022-08-03T09:37:39.809257Z",
     "iopub.status.idle": "2022-08-03T09:37:39.864021Z",
     "shell.execute_reply": "2022-08-03T09:37:39.862746Z"
    },
    "papermill": {
     "duration": 0.089271,
     "end_time": "2022-08-03T09:37:39.867096",
     "exception": false,
     "start_time": "2022-08-03T09:37:39.777825",
     "status": "completed"
    },
    "tags": []
   },
   "outputs": [],
   "source": [
    "yhat_selected = []\n",
    "threshold_proba = .5\n",
    "for y_gm, y_bgm, bgm_proba in zip(yhat_gm, yhat_bgm, bgm_predict_proba_max):\n",
    "    if bgm_proba < threshold_proba:\n",
    "        yhat_selected.append(y_gm)\n",
    "    else:\n",
    "        yhat_selected.append(y_bgm)"
   ]
  },
  {
   "cell_type": "code",
   "execution_count": 48,
   "id": "9a1069a0",
   "metadata": {
    "execution": {
     "iopub.execute_input": "2022-08-03T09:37:39.929732Z",
     "iopub.status.busy": "2022-08-03T09:37:39.929283Z",
     "iopub.status.idle": "2022-08-03T09:37:39.937068Z",
     "shell.execute_reply": "2022-08-03T09:37:39.935940Z"
    },
    "papermill": {
     "duration": 0.041751,
     "end_time": "2022-08-03T09:37:39.939537",
     "exception": false,
     "start_time": "2022-08-03T09:37:39.897786",
     "status": "completed"
    },
    "tags": []
   },
   "outputs": [
    {
     "data": {
      "text/plain": [
       "(98000, [3, 2, 3, 1, 5, 2])"
      ]
     },
     "execution_count": 48,
     "metadata": {},
     "output_type": "execute_result"
    }
   ],
   "source": [
    "len(yhat_selected), yhat_selected[:6]"
   ]
  },
  {
   "cell_type": "code",
   "execution_count": 49,
   "id": "fbe8a598",
   "metadata": {
    "execution": {
     "iopub.execute_input": "2022-08-03T09:37:40.009375Z",
     "iopub.status.busy": "2022-08-03T09:37:40.008443Z",
     "iopub.status.idle": "2022-08-03T09:37:40.021519Z",
     "shell.execute_reply": "2022-08-03T09:37:40.020642Z"
    },
    "papermill": {
     "duration": 0.052936,
     "end_time": "2022-08-03T09:37:40.023840",
     "exception": false,
     "start_time": "2022-08-03T09:37:39.970904",
     "status": "completed"
    },
    "tags": []
   },
   "outputs": [
    {
     "data": {
      "text/plain": [
       "([2, 0],\n",
       "        yhat_gm  yhat_bgm  bgm_predict_proba_max\n",
       " 97995        0         2               0.552135\n",
       " 97996        0         6               0.489502)"
      ]
     },
     "execution_count": 49,
     "metadata": {},
     "output_type": "execute_result"
    }
   ],
   "source": [
    "yhat_selected[97995:97997], y_concat[97995:97997]"
   ]
  },
  {
   "cell_type": "markdown",
   "id": "ff200e13",
   "metadata": {
    "papermill": {
     "duration": 0.037769,
     "end_time": "2022-08-03T09:37:40.102676",
     "exception": false,
     "start_time": "2022-08-03T09:37:40.064907",
     "status": "completed"
    },
    "tags": []
   },
   "source": [
    "### submission"
   ]
  },
  {
   "cell_type": "code",
   "execution_count": 50,
   "id": "c3eb0e5f",
   "metadata": {
    "execution": {
     "iopub.execute_input": "2022-08-03T09:37:40.165854Z",
     "iopub.status.busy": "2022-08-03T09:37:40.165126Z",
     "iopub.status.idle": "2022-08-03T09:37:40.169429Z",
     "shell.execute_reply": "2022-08-03T09:37:40.168548Z"
    },
    "papermill": {
     "duration": 0.038733,
     "end_time": "2022-08-03T09:37:40.171977",
     "exception": false,
     "start_time": "2022-08-03T09:37:40.133244",
     "status": "completed"
    },
    "tags": []
   },
   "outputs": [],
   "source": [
    "# submission = pd.DataFrame({'Id':df_org['id'].values,\n",
    "#                            'Predicted':yhat_selected})\n",
    "# submission.to_csv(\"submission.csv\", index = False)\n",
    "# submission.info()"
   ]
  },
  {
   "cell_type": "code",
   "execution_count": 51,
   "id": "ed36697b",
   "metadata": {
    "execution": {
     "iopub.execute_input": "2022-08-03T09:37:40.236005Z",
     "iopub.status.busy": "2022-08-03T09:37:40.235600Z",
     "iopub.status.idle": "2022-08-03T09:37:40.246423Z",
     "shell.execute_reply": "2022-08-03T09:37:40.245149Z"
    },
    "papermill": {
     "duration": 0.046325,
     "end_time": "2022-08-03T09:37:40.248851",
     "exception": false,
     "start_time": "2022-08-03T09:37:40.202526",
     "status": "completed"
    },
    "tags": []
   },
   "outputs": [
    {
     "data": {
      "text/html": [
       "<div>\n",
       "<style scoped>\n",
       "    .dataframe tbody tr th:only-of-type {\n",
       "        vertical-align: middle;\n",
       "    }\n",
       "\n",
       "    .dataframe tbody tr th {\n",
       "        vertical-align: top;\n",
       "    }\n",
       "\n",
       "    .dataframe thead th {\n",
       "        text-align: right;\n",
       "    }\n",
       "</style>\n",
       "<table border=\"1\" class=\"dataframe\">\n",
       "  <thead>\n",
       "    <tr style=\"text-align: right;\">\n",
       "      <th></th>\n",
       "      <th>Id</th>\n",
       "      <th>Predicted</th>\n",
       "    </tr>\n",
       "  </thead>\n",
       "  <tbody>\n",
       "    <tr>\n",
       "      <th>97990</th>\n",
       "      <td>97990</td>\n",
       "      <td>1</td>\n",
       "    </tr>\n",
       "    <tr>\n",
       "      <th>97991</th>\n",
       "      <td>97991</td>\n",
       "      <td>3</td>\n",
       "    </tr>\n",
       "    <tr>\n",
       "      <th>97992</th>\n",
       "      <td>97992</td>\n",
       "      <td>4</td>\n",
       "    </tr>\n",
       "    <tr>\n",
       "      <th>97993</th>\n",
       "      <td>97993</td>\n",
       "      <td>0</td>\n",
       "    </tr>\n",
       "    <tr>\n",
       "      <th>97994</th>\n",
       "      <td>97994</td>\n",
       "      <td>2</td>\n",
       "    </tr>\n",
       "    <tr>\n",
       "      <th>97995</th>\n",
       "      <td>97995</td>\n",
       "      <td>2</td>\n",
       "    </tr>\n",
       "    <tr>\n",
       "      <th>97996</th>\n",
       "      <td>97996</td>\n",
       "      <td>6</td>\n",
       "    </tr>\n",
       "    <tr>\n",
       "      <th>97997</th>\n",
       "      <td>97997</td>\n",
       "      <td>0</td>\n",
       "    </tr>\n",
       "    <tr>\n",
       "      <th>97998</th>\n",
       "      <td>97998</td>\n",
       "      <td>4</td>\n",
       "    </tr>\n",
       "    <tr>\n",
       "      <th>97999</th>\n",
       "      <td>97999</td>\n",
       "      <td>6</td>\n",
       "    </tr>\n",
       "  </tbody>\n",
       "</table>\n",
       "</div>"
      ],
      "text/plain": [
       "          Id  Predicted\n",
       "97990  97990          1\n",
       "97991  97991          3\n",
       "97992  97992          4\n",
       "97993  97993          0\n",
       "97994  97994          2\n",
       "97995  97995          2\n",
       "97996  97996          6\n",
       "97997  97997          0\n",
       "97998  97998          4\n",
       "97999  97999          6"
      ]
     },
     "execution_count": 51,
     "metadata": {},
     "output_type": "execute_result"
    }
   ],
   "source": [
    "submission.tail(10)"
   ]
  },
  {
   "cell_type": "markdown",
   "id": "543e36ad",
   "metadata": {
    "papermill": {
     "duration": 0.031342,
     "end_time": "2022-08-03T09:37:40.310786",
     "exception": false,
     "start_time": "2022-08-03T09:37:40.279444",
     "status": "completed"
    },
    "tags": []
   },
   "source": [
    "### public score - 0.55041\n",
    "#### score has reduced, have to try different technique"
   ]
  },
  {
   "cell_type": "markdown",
   "id": "e071f203",
   "metadata": {
    "papermill": {
     "duration": 0.030927,
     "end_time": "2022-08-03T09:37:40.372223",
     "exception": false,
     "start_time": "2022-08-03T09:37:40.341296",
     "status": "completed"
    },
    "tags": []
   },
   "source": [
    "# Visualizing cluster"
   ]
  },
  {
   "cell_type": "markdown",
   "id": "0c6f4c17",
   "metadata": {
    "papermill": {
     "duration": 0.030464,
     "end_time": "2022-08-03T09:37:40.434709",
     "exception": false,
     "start_time": "2022-08-03T09:37:40.404245",
     "status": "completed"
    },
    "tags": []
   },
   "source": [
    "PCA could be used to reduce the dimenstion to 1,2 & 3. And same could be plotted to visiualize. Provided PCA components are able to explain variance.\n",
    "Which is not the case here. PCA explained_variance_ratio_ is low for first 3 PCs"
   ]
  },
  {
   "cell_type": "markdown",
   "id": "89174dd0",
   "metadata": {
    "papermill": {
     "duration": 0.030436,
     "end_time": "2022-08-03T09:37:40.495556",
     "exception": false,
     "start_time": "2022-08-03T09:37:40.465120",
     "status": "completed"
    },
    "tags": []
   },
   "source": [
    "Links refered:\n",
    "\n",
    "https://www.kaggle.com/code/minc33/visualizing-high-dimensional-clusters/notebook <br>\n",
    "https://stats.stackexchange.com/questions/324843/visualization-problem-of-15-attributes-which-is-clustered-into-2-cluster"
   ]
  },
  {
   "cell_type": "code",
   "execution_count": 52,
   "id": "7144cff9",
   "metadata": {
    "execution": {
     "iopub.execute_input": "2022-08-03T09:37:40.560524Z",
     "iopub.status.busy": "2022-08-03T09:37:40.560141Z",
     "iopub.status.idle": "2022-08-03T09:37:40.570063Z",
     "shell.execute_reply": "2022-08-03T09:37:40.569116Z"
    },
    "papermill": {
     "duration": 0.045034,
     "end_time": "2022-08-03T09:37:40.572501",
     "exception": false,
     "start_time": "2022-08-03T09:37:40.527467",
     "status": "completed"
    },
    "tags": []
   },
   "outputs": [],
   "source": [
    "cluster_size = 7 \n",
    "plot_x_df = df_train_scaled.copy()\n",
    "plot_x_df['Cluster'] = yhat_bgm"
   ]
  },
  {
   "cell_type": "code",
   "execution_count": 53,
   "id": "e4b21b5e",
   "metadata": {
    "execution": {
     "iopub.execute_input": "2022-08-03T09:37:40.635989Z",
     "iopub.status.busy": "2022-08-03T09:37:40.635354Z",
     "iopub.status.idle": "2022-08-03T09:37:40.664310Z",
     "shell.execute_reply": "2022-08-03T09:37:40.663337Z"
    },
    "papermill": {
     "duration": 0.063632,
     "end_time": "2022-08-03T09:37:40.666718",
     "exception": false,
     "start_time": "2022-08-03T09:37:40.603086",
     "status": "completed"
    },
    "tags": []
   },
   "outputs": [
    {
     "data": {
      "text/html": [
       "<div>\n",
       "<style scoped>\n",
       "    .dataframe tbody tr th:only-of-type {\n",
       "        vertical-align: middle;\n",
       "    }\n",
       "\n",
       "    .dataframe tbody tr th {\n",
       "        vertical-align: top;\n",
       "    }\n",
       "\n",
       "    .dataframe thead th {\n",
       "        text-align: right;\n",
       "    }\n",
       "</style>\n",
       "<table border=\"1\" class=\"dataframe\">\n",
       "  <thead>\n",
       "    <tr style=\"text-align: right;\">\n",
       "      <th></th>\n",
       "      <th>f_00</th>\n",
       "      <th>f_01</th>\n",
       "      <th>f_02</th>\n",
       "      <th>f_03</th>\n",
       "      <th>f_04</th>\n",
       "      <th>f_05</th>\n",
       "      <th>f_06</th>\n",
       "      <th>f_07</th>\n",
       "      <th>f_08</th>\n",
       "      <th>f_09</th>\n",
       "      <th>f_10</th>\n",
       "      <th>f_11</th>\n",
       "      <th>f_12</th>\n",
       "      <th>f_13</th>\n",
       "      <th>f_14</th>\n",
       "      <th>f_15</th>\n",
       "      <th>f_16</th>\n",
       "      <th>f_17</th>\n",
       "      <th>f_18</th>\n",
       "      <th>f_19</th>\n",
       "      <th>f_20</th>\n",
       "      <th>f_21</th>\n",
       "      <th>f_22</th>\n",
       "      <th>f_23</th>\n",
       "      <th>f_24</th>\n",
       "      <th>f_25</th>\n",
       "      <th>f_26</th>\n",
       "      <th>f_27</th>\n",
       "      <th>f_28</th>\n",
       "      <th>Cluster</th>\n",
       "    </tr>\n",
       "  </thead>\n",
       "  <tbody>\n",
       "    <tr>\n",
       "      <th>0</th>\n",
       "      <td>-0.389551</td>\n",
       "      <td>-0.917695</td>\n",
       "      <td>0.649105</td>\n",
       "      <td>0.589499</td>\n",
       "      <td>-0.824775</td>\n",
       "      <td>0.734849</td>\n",
       "      <td>2.267432</td>\n",
       "      <td>-0.977987</td>\n",
       "      <td>1.383372</td>\n",
       "      <td>1.039938</td>\n",
       "      <td>-0.567775</td>\n",
       "      <td>1.142180</td>\n",
       "      <td>-0.083596</td>\n",
       "      <td>0.086073</td>\n",
       "      <td>-0.473738</td>\n",
       "      <td>0.360372</td>\n",
       "      <td>1.059236</td>\n",
       "      <td>-0.560604</td>\n",
       "      <td>-0.362972</td>\n",
       "      <td>-0.471839</td>\n",
       "      <td>-0.754257</td>\n",
       "      <td>-0.762195</td>\n",
       "      <td>-0.711585</td>\n",
       "      <td>0.911572</td>\n",
       "      <td>-0.680948</td>\n",
       "      <td>0.762783</td>\n",
       "      <td>0.960482</td>\n",
       "      <td>1.045296</td>\n",
       "      <td>0.683323</td>\n",
       "      <td>3</td>\n",
       "    </tr>\n",
       "    <tr>\n",
       "      <th>1</th>\n",
       "      <td>-0.688544</td>\n",
       "      <td>-0.459195</td>\n",
       "      <td>0.654321</td>\n",
       "      <td>0.995533</td>\n",
       "      <td>-1.644472</td>\n",
       "      <td>0.864967</td>\n",
       "      <td>-0.087835</td>\n",
       "      <td>-0.977987</td>\n",
       "      <td>-0.875405</td>\n",
       "      <td>-0.179925</td>\n",
       "      <td>-0.837020</td>\n",
       "      <td>-0.420725</td>\n",
       "      <td>1.725834</td>\n",
       "      <td>0.738456</td>\n",
       "      <td>0.588248</td>\n",
       "      <td>-0.393846</td>\n",
       "      <td>0.139972</td>\n",
       "      <td>-0.032414</td>\n",
       "      <td>0.478499</td>\n",
       "      <td>-0.422434</td>\n",
       "      <td>-0.089129</td>\n",
       "      <td>-1.783073</td>\n",
       "      <td>-0.541815</td>\n",
       "      <td>0.454693</td>\n",
       "      <td>1.032386</td>\n",
       "      <td>-0.133948</td>\n",
       "      <td>-0.552942</td>\n",
       "      <td>0.355435</td>\n",
       "      <td>-1.602671</td>\n",
       "      <td>2</td>\n",
       "    </tr>\n",
       "    <tr>\n",
       "      <th>2</th>\n",
       "      <td>0.805607</td>\n",
       "      <td>0.318753</td>\n",
       "      <td>-1.167963</td>\n",
       "      <td>-0.623531</td>\n",
       "      <td>0.108638</td>\n",
       "      <td>0.785146</td>\n",
       "      <td>1.996476</td>\n",
       "      <td>0.021718</td>\n",
       "      <td>1.017648</td>\n",
       "      <td>-0.394246</td>\n",
       "      <td>0.124844</td>\n",
       "      <td>0.296135</td>\n",
       "      <td>-0.928325</td>\n",
       "      <td>1.118063</td>\n",
       "      <td>-0.684017</td>\n",
       "      <td>0.471450</td>\n",
       "      <td>0.343316</td>\n",
       "      <td>-0.289336</td>\n",
       "      <td>0.298074</td>\n",
       "      <td>-0.407243</td>\n",
       "      <td>-1.597140</td>\n",
       "      <td>1.193015</td>\n",
       "      <td>2.236943</td>\n",
       "      <td>0.088090</td>\n",
       "      <td>-1.513324</td>\n",
       "      <td>-0.577814</td>\n",
       "      <td>0.979171</td>\n",
       "      <td>-0.926250</td>\n",
       "      <td>-2.224327</td>\n",
       "      <td>3</td>\n",
       "    </tr>\n",
       "    <tr>\n",
       "      <th>3</th>\n",
       "      <td>-0.500743</td>\n",
       "      <td>0.223305</td>\n",
       "      <td>0.264788</td>\n",
       "      <td>0.232124</td>\n",
       "      <td>0.417259</td>\n",
       "      <td>-1.219016</td>\n",
       "      <td>0.142257</td>\n",
       "      <td>0.286548</td>\n",
       "      <td>-1.213526</td>\n",
       "      <td>0.917564</td>\n",
       "      <td>0.124844</td>\n",
       "      <td>0.296135</td>\n",
       "      <td>-0.083596</td>\n",
       "      <td>-0.434221</td>\n",
       "      <td>-0.393288</td>\n",
       "      <td>0.628715</td>\n",
       "      <td>-1.076425</td>\n",
       "      <td>-1.521504</td>\n",
       "      <td>-1.150052</td>\n",
       "      <td>0.621083</td>\n",
       "      <td>1.284518</td>\n",
       "      <td>0.534669</td>\n",
       "      <td>0.727667</td>\n",
       "      <td>-1.218753</td>\n",
       "      <td>0.825698</td>\n",
       "      <td>-1.164842</td>\n",
       "      <td>-0.397908</td>\n",
       "      <td>-0.114228</td>\n",
       "      <td>0.307002</td>\n",
       "      <td>1</td>\n",
       "    </tr>\n",
       "    <tr>\n",
       "      <th>4</th>\n",
       "      <td>-0.670613</td>\n",
       "      <td>-1.044343</td>\n",
       "      <td>-0.268745</td>\n",
       "      <td>-1.828801</td>\n",
       "      <td>-0.285713</td>\n",
       "      <td>-1.850223</td>\n",
       "      <td>0.786963</td>\n",
       "      <td>0.756900</td>\n",
       "      <td>0.187543</td>\n",
       "      <td>-0.394246</td>\n",
       "      <td>-1.135381</td>\n",
       "      <td>-1.954502</td>\n",
       "      <td>1.271662</td>\n",
       "      <td>1.118063</td>\n",
       "      <td>-0.124288</td>\n",
       "      <td>-0.612271</td>\n",
       "      <td>-1.066274</td>\n",
       "      <td>0.441932</td>\n",
       "      <td>0.435485</td>\n",
       "      <td>-1.617255</td>\n",
       "      <td>-0.433152</td>\n",
       "      <td>0.324273</td>\n",
       "      <td>0.218614</td>\n",
       "      <td>-1.484025</td>\n",
       "      <td>0.847369</td>\n",
       "      <td>-0.622034</td>\n",
       "      <td>1.166086</td>\n",
       "      <td>-0.385886</td>\n",
       "      <td>-1.149094</td>\n",
       "      <td>5</td>\n",
       "    </tr>\n",
       "  </tbody>\n",
       "</table>\n",
       "</div>"
      ],
      "text/plain": [
       "       f_00      f_01      f_02      f_03      f_04      f_05      f_06  \\\n",
       "0 -0.389551 -0.917695  0.649105  0.589499 -0.824775  0.734849  2.267432   \n",
       "1 -0.688544 -0.459195  0.654321  0.995533 -1.644472  0.864967 -0.087835   \n",
       "2  0.805607  0.318753 -1.167963 -0.623531  0.108638  0.785146  1.996476   \n",
       "3 -0.500743  0.223305  0.264788  0.232124  0.417259 -1.219016  0.142257   \n",
       "4 -0.670613 -1.044343 -0.268745 -1.828801 -0.285713 -1.850223  0.786963   \n",
       "\n",
       "       f_07      f_08      f_09      f_10      f_11      f_12      f_13  \\\n",
       "0 -0.977987  1.383372  1.039938 -0.567775  1.142180 -0.083596  0.086073   \n",
       "1 -0.977987 -0.875405 -0.179925 -0.837020 -0.420725  1.725834  0.738456   \n",
       "2  0.021718  1.017648 -0.394246  0.124844  0.296135 -0.928325  1.118063   \n",
       "3  0.286548 -1.213526  0.917564  0.124844  0.296135 -0.083596 -0.434221   \n",
       "4  0.756900  0.187543 -0.394246 -1.135381 -1.954502  1.271662  1.118063   \n",
       "\n",
       "       f_14      f_15      f_16      f_17      f_18      f_19      f_20  \\\n",
       "0 -0.473738  0.360372  1.059236 -0.560604 -0.362972 -0.471839 -0.754257   \n",
       "1  0.588248 -0.393846  0.139972 -0.032414  0.478499 -0.422434 -0.089129   \n",
       "2 -0.684017  0.471450  0.343316 -0.289336  0.298074 -0.407243 -1.597140   \n",
       "3 -0.393288  0.628715 -1.076425 -1.521504 -1.150052  0.621083  1.284518   \n",
       "4 -0.124288 -0.612271 -1.066274  0.441932  0.435485 -1.617255 -0.433152   \n",
       "\n",
       "       f_21      f_22      f_23      f_24      f_25      f_26      f_27  \\\n",
       "0 -0.762195 -0.711585  0.911572 -0.680948  0.762783  0.960482  1.045296   \n",
       "1 -1.783073 -0.541815  0.454693  1.032386 -0.133948 -0.552942  0.355435   \n",
       "2  1.193015  2.236943  0.088090 -1.513324 -0.577814  0.979171 -0.926250   \n",
       "3  0.534669  0.727667 -1.218753  0.825698 -1.164842 -0.397908 -0.114228   \n",
       "4  0.324273  0.218614 -1.484025  0.847369 -0.622034  1.166086 -0.385886   \n",
       "\n",
       "       f_28  Cluster  \n",
       "0  0.683323        3  \n",
       "1 -1.602671        2  \n",
       "2 -2.224327        3  \n",
       "3  0.307002        1  \n",
       "4 -1.149094        5  "
      ]
     },
     "execution_count": 53,
     "metadata": {},
     "output_type": "execute_result"
    }
   ],
   "source": [
    "plot_x_df.head()"
   ]
  },
  {
   "cell_type": "code",
   "execution_count": 54,
   "id": "a9643bc8",
   "metadata": {
    "execution": {
     "iopub.execute_input": "2022-08-03T09:37:40.731158Z",
     "iopub.status.busy": "2022-08-03T09:37:40.730497Z",
     "iopub.status.idle": "2022-08-03T09:37:40.747122Z",
     "shell.execute_reply": "2022-08-03T09:37:40.746078Z"
    },
    "papermill": {
     "duration": 0.051457,
     "end_time": "2022-08-03T09:37:40.749682",
     "exception": false,
     "start_time": "2022-08-03T09:37:40.698225",
     "status": "completed"
    },
    "tags": []
   },
   "outputs": [],
   "source": [
    "#plotX is a DataFrame containing 5000 values sampled randomly from X\n",
    "plotX = pd.DataFrame(np.array(plot_x_df.sample(20000)))\n",
    "\n",
    "#Rename plotX's columns since it was briefly converted to an np.array above\n",
    "plotX.columns = plot_x_df.columns"
   ]
  },
  {
   "cell_type": "code",
   "execution_count": 55,
   "id": "fa97c034",
   "metadata": {
    "execution": {
     "iopub.execute_input": "2022-08-03T09:37:40.815095Z",
     "iopub.status.busy": "2022-08-03T09:37:40.814211Z",
     "iopub.status.idle": "2022-08-03T09:37:40.819071Z",
     "shell.execute_reply": "2022-08-03T09:37:40.818227Z"
    },
    "papermill": {
     "duration": 0.040355,
     "end_time": "2022-08-03T09:37:40.821306",
     "exception": false,
     "start_time": "2022-08-03T09:37:40.780951",
     "status": "completed"
    },
    "tags": []
   },
   "outputs": [],
   "source": [
    "#PCA with one principal component\n",
    "pca_1d = PCA(n_components=1)\n",
    "\n",
    "#PCA with two principal components\n",
    "pca_2d = PCA(n_components=2)\n",
    "\n",
    "#PCA with three principal components\n",
    "pca_3d = PCA(n_components=3)"
   ]
  },
  {
   "cell_type": "code",
   "execution_count": 56,
   "id": "a000299b",
   "metadata": {
    "execution": {
     "iopub.execute_input": "2022-08-03T09:37:40.885666Z",
     "iopub.status.busy": "2022-08-03T09:37:40.885055Z",
     "iopub.status.idle": "2022-08-03T09:37:41.237089Z",
     "shell.execute_reply": "2022-08-03T09:37:41.235462Z"
    },
    "papermill": {
     "duration": 0.389686,
     "end_time": "2022-08-03T09:37:41.241984",
     "exception": false,
     "start_time": "2022-08-03T09:37:40.852298",
     "status": "completed"
    },
    "tags": []
   },
   "outputs": [],
   "source": [
    "#This DataFrame holds that single principal component mentioned above\n",
    "PCs_1d = pd.DataFrame(pca_1d.fit_transform(plotX.drop([\"Cluster\"], axis=1)))\n",
    "\n",
    "#This DataFrame contains the two principal components that will be used\n",
    "#for the 2-D visualization mentioned above\n",
    "PCs_2d = pd.DataFrame(pca_2d.fit_transform(plotX.drop([\"Cluster\"], axis=1)))\n",
    "\n",
    "#And this DataFrame contains three principal components that will aid us\n",
    "#in visualizing our clusters in 3-D\n",
    "PCs_3d = pd.DataFrame(pca_3d.fit_transform(plotX.drop([\"Cluster\"], axis=1)))"
   ]
  },
  {
   "cell_type": "code",
   "execution_count": 57,
   "id": "37a3c909",
   "metadata": {
    "execution": {
     "iopub.execute_input": "2022-08-03T09:37:41.386853Z",
     "iopub.status.busy": "2022-08-03T09:37:41.386463Z",
     "iopub.status.idle": "2022-08-03T09:37:41.394303Z",
     "shell.execute_reply": "2022-08-03T09:37:41.393126Z"
    },
    "papermill": {
     "duration": 0.042393,
     "end_time": "2022-08-03T09:37:41.396750",
     "exception": false,
     "start_time": "2022-08-03T09:37:41.354357",
     "status": "completed"
    },
    "tags": []
   },
   "outputs": [
    {
     "data": {
      "text/plain": [
       "(array([0.06262096]),\n",
       " array([0.0626215 , 0.04985455]),\n",
       " array([0.06254191, 0.0480651 , 0.04396578]))"
      ]
     },
     "execution_count": 57,
     "metadata": {},
     "output_type": "execute_result"
    }
   ],
   "source": [
    "pca_1d.explained_variance_ratio_, pca_2d.explained_variance_ratio_, pca_3d.explained_variance_ratio_"
   ]
  },
  {
   "cell_type": "code",
   "execution_count": 58,
   "id": "ed30bbb4",
   "metadata": {
    "execution": {
     "iopub.execute_input": "2022-08-03T09:37:41.461372Z",
     "iopub.status.busy": "2022-08-03T09:37:41.460609Z",
     "iopub.status.idle": "2022-08-03T09:37:41.466561Z",
     "shell.execute_reply": "2022-08-03T09:37:41.465759Z"
    },
    "papermill": {
     "duration": 0.041092,
     "end_time": "2022-08-03T09:37:41.468915",
     "exception": false,
     "start_time": "2022-08-03T09:37:41.427823",
     "status": "completed"
    },
    "tags": []
   },
   "outputs": [],
   "source": [
    "PCs_1d.columns = [\"PC1_1d\"]\n",
    "\n",
    "#\"PC1_2d\" means: 'The first principal component of the components created for 2-D visualization, by PCA.'\n",
    "#And \"PC2_2d\" means: 'The second principal component of the components created for 2-D visualization, by PCA.'\n",
    "PCs_2d.columns = [\"PC1_2d\", \"PC2_2d\"]\n",
    "\n",
    "PCs_3d.columns = [\"PC1_3d\", \"PC2_3d\", \"PC3_3d\"]"
   ]
  },
  {
   "cell_type": "code",
   "execution_count": 59,
   "id": "e191e279",
   "metadata": {
    "execution": {
     "iopub.execute_input": "2022-08-03T09:37:41.532815Z",
     "iopub.status.busy": "2022-08-03T09:37:41.532056Z",
     "iopub.status.idle": "2022-08-03T09:37:41.540826Z",
     "shell.execute_reply": "2022-08-03T09:37:41.539859Z"
    },
    "papermill": {
     "duration": 0.043672,
     "end_time": "2022-08-03T09:37:41.543355",
     "exception": false,
     "start_time": "2022-08-03T09:37:41.499683",
     "status": "completed"
    },
    "tags": []
   },
   "outputs": [],
   "source": [
    "plotX = pd.concat([plotX,PCs_1d,PCs_2d,PCs_3d], axis=1, join='inner')\n",
    "plotX[\"dummy\"] = 0"
   ]
  },
  {
   "cell_type": "code",
   "execution_count": null,
   "id": "3ef1ec7f",
   "metadata": {
    "papermill": {
     "duration": 0.030919,
     "end_time": "2022-08-03T09:37:41.606020",
     "exception": false,
     "start_time": "2022-08-03T09:37:41.575101",
     "status": "completed"
    },
    "tags": []
   },
   "outputs": [],
   "source": []
  },
  {
   "cell_type": "code",
   "execution_count": 60,
   "id": "fe7fe7c2",
   "metadata": {
    "execution": {
     "iopub.execute_input": "2022-08-03T09:37:41.671338Z",
     "iopub.status.busy": "2022-08-03T09:37:41.670496Z",
     "iopub.status.idle": "2022-08-03T09:37:41.721099Z",
     "shell.execute_reply": "2022-08-03T09:37:41.720119Z"
    },
    "papermill": {
     "duration": 0.086319,
     "end_time": "2022-08-03T09:37:41.723432",
     "exception": false,
     "start_time": "2022-08-03T09:37:41.637113",
     "status": "completed"
    },
    "tags": []
   },
   "outputs": [
    {
     "data": {
      "text/html": [
       "        <script type=\"text/javascript\">\n",
       "        window.PlotlyConfig = {MathJaxConfig: 'local'};\n",
       "        if (window.MathJax && window.MathJax.Hub && window.MathJax.Hub.Config) {window.MathJax.Hub.Config({SVG: {font: \"STIX-Web\"}});}\n",
       "        if (typeof require !== 'undefined') {\n",
       "        require.undef(\"plotly\");\n",
       "        requirejs.config({\n",
       "            paths: {\n",
       "                'plotly': ['https://cdn.plot.ly/plotly-2.12.1.min']\n",
       "            }\n",
       "        });\n",
       "        require(['plotly'], function(Plotly) {\n",
       "            window._Plotly = Plotly;\n",
       "        });\n",
       "        }\n",
       "        </script>\n",
       "        "
      ]
     },
     "metadata": {},
     "output_type": "display_data"
    }
   ],
   "source": [
    "#This is needed so we can display plotly plots properly\n",
    "init_notebook_mode(connected=True)"
   ]
  },
  {
   "cell_type": "code",
   "execution_count": 61,
   "id": "3a8547a2",
   "metadata": {
    "execution": {
     "iopub.execute_input": "2022-08-03T09:37:41.789381Z",
     "iopub.status.busy": "2022-08-03T09:37:41.788593Z",
     "iopub.status.idle": "2022-08-03T09:37:41.842688Z",
     "shell.execute_reply": "2022-08-03T09:37:41.841501Z"
    },
    "papermill": {
     "duration": 0.090913,
     "end_time": "2022-08-03T09:37:41.846060",
     "exception": false,
     "start_time": "2022-08-03T09:37:41.755147",
     "status": "completed"
    },
    "tags": []
   },
   "outputs": [],
   "source": [
    "#Instructions for building the 1-D plot\n",
    "data = []\n",
    "for cluster in range(cluster_size):\n",
    "    #trace is for 'Cluster x'\n",
    "    trace = go.Scatter(\n",
    "                        x = plotX[plotX[\"Cluster\"] == cluster][\"PC1_1d\"],\n",
    "                        y = plotX[plotX[\"Cluster\"] == cluster][\"dummy\"],\n",
    "                        mode = \"markers\",\n",
    "                        name = f\"Cluster {cluster}\",\n",
    "                        text = None)\n",
    "    data.append(trace)\n",
    "\n",
    "title = \"Visualizing Clusters in One Dimension Using PCA\"\n",
    "\n",
    "layout = dict(title = title,\n",
    "              xaxis= dict(title= 'PC1',ticklen= 5,zeroline= False),\n",
    "              yaxis= dict(title= '',ticklen= 5,zeroline= False)\n",
    "             )\n",
    "\n",
    "fig = dict(data = data, layout = layout)\n",
    "\n",
    "# iplot(fig)"
   ]
  },
  {
   "cell_type": "code",
   "execution_count": 62,
   "id": "5c392654",
   "metadata": {
    "execution": {
     "iopub.execute_input": "2022-08-03T09:37:41.915187Z",
     "iopub.status.busy": "2022-08-03T09:37:41.914621Z",
     "iopub.status.idle": "2022-08-03T09:37:41.945801Z",
     "shell.execute_reply": "2022-08-03T09:37:41.944865Z"
    },
    "papermill": {
     "duration": 0.071195,
     "end_time": "2022-08-03T09:37:41.948739",
     "exception": false,
     "start_time": "2022-08-03T09:37:41.877544",
     "status": "completed"
    },
    "tags": []
   },
   "outputs": [],
   "source": [
    "#Instructions for building the 2-D plot\n",
    "data = []\n",
    "for cluster in range(cluster_size):\n",
    "    trace = go.Scatter(\n",
    "                        x = plotX[plotX[\"Cluster\"] == cluster][\"PC1_2d\"],     #PC1_2d\n",
    "                        y = plotX[plotX[\"Cluster\"] == cluster][\"PC2_2d\"],     #PC2_2d\n",
    "                        mode = \"markers\",\n",
    "                        name = f\"Cluster {cluster}\",\n",
    "                        text = None)\n",
    "    data.append(trace)\n",
    "\n",
    "\n",
    "\n",
    "title = \"Visualizing Clusters in Two Dimensions Using PCA\"\n",
    "\n",
    "layout = dict(title = title,\n",
    "              xaxis= dict(title= 'PC1',ticklen= 5,zeroline= False),\n",
    "              yaxis= dict(title= 'PC2',ticklen= 5,zeroline= False)\n",
    "             )\n",
    "\n",
    "fig = dict(data = data, layout = layout)\n",
    "\n",
    "# iplot(fig)"
   ]
  },
  {
   "cell_type": "code",
   "execution_count": 63,
   "id": "2bae6da5",
   "metadata": {
    "execution": {
     "iopub.execute_input": "2022-08-03T09:37:42.015496Z",
     "iopub.status.busy": "2022-08-03T09:37:42.014713Z",
     "iopub.status.idle": "2022-08-03T09:37:42.063775Z",
     "shell.execute_reply": "2022-08-03T09:37:42.062918Z"
    },
    "papermill": {
     "duration": 0.084771,
     "end_time": "2022-08-03T09:37:42.066411",
     "exception": false,
     "start_time": "2022-08-03T09:37:41.981640",
     "status": "completed"
    },
    "tags": []
   },
   "outputs": [],
   "source": [
    "#Instructions for building the 3-D plot\n",
    "data = []\n",
    "for cluster in range(cluster_size): \n",
    "    #trace is for 'Cluster 0'\n",
    "    trace = go.Scatter3d(\n",
    "                        x = plotX[plotX[\"Cluster\"] == cluster][\"PC1_3d\"],\n",
    "                        y = plotX[plotX[\"Cluster\"] == cluster][\"PC2_3d\"],\n",
    "                        z = plotX[plotX[\"Cluster\"] == cluster][\"PC3_3d\"],\n",
    "                        mode = \"markers\",\n",
    "                        name = f\"Cluster {cluster}\",\n",
    "                        text = None)\n",
    "    data.append(trace)\n",
    "\n",
    "\n",
    "title = \"Visualizing Clusters in Three Dimensions Using PCA\"\n",
    "\n",
    "layout = dict(title = title,\n",
    "              xaxis= dict(title= 'PC1',ticklen= 5,zeroline= False),\n",
    "              yaxis= dict(title= 'PC2',ticklen= 5,zeroline= False)\n",
    "             )\n",
    "\n",
    "fig = dict(data = data, layout = layout)\n",
    "\n",
    "# iplot(fig)"
   ]
  },
  {
   "cell_type": "code",
   "execution_count": null,
   "id": "e011b847",
   "metadata": {
    "papermill": {
     "duration": 0.030613,
     "end_time": "2022-08-03T09:37:42.128275",
     "exception": false,
     "start_time": "2022-08-03T09:37:42.097662",
     "status": "completed"
    },
    "tags": []
   },
   "outputs": [],
   "source": []
  },
  {
   "cell_type": "code",
   "execution_count": null,
   "id": "ce64f50d",
   "metadata": {
    "papermill": {
     "duration": 0.030673,
     "end_time": "2022-08-03T09:37:42.189770",
     "exception": false,
     "start_time": "2022-08-03T09:37:42.159097",
     "status": "completed"
    },
    "tags": []
   },
   "outputs": [],
   "source": []
  },
  {
   "cell_type": "code",
   "execution_count": null,
   "id": "c0c34be0",
   "metadata": {
    "papermill": {
     "duration": 0.030335,
     "end_time": "2022-08-03T09:37:42.251165",
     "exception": false,
     "start_time": "2022-08-03T09:37:42.220830",
     "status": "completed"
    },
    "tags": []
   },
   "outputs": [],
   "source": []
  },
  {
   "cell_type": "code",
   "execution_count": null,
   "id": "1fe372bc",
   "metadata": {
    "papermill": {
     "duration": 0.030757,
     "end_time": "2022-08-03T09:37:42.313278",
     "exception": false,
     "start_time": "2022-08-03T09:37:42.282521",
     "status": "completed"
    },
    "tags": []
   },
   "outputs": [],
   "source": []
  },
  {
   "cell_type": "code",
   "execution_count": null,
   "id": "dd234795",
   "metadata": {
    "papermill": {
     "duration": 0.030867,
     "end_time": "2022-08-03T09:37:42.374891",
     "exception": false,
     "start_time": "2022-08-03T09:37:42.344024",
     "status": "completed"
    },
    "tags": []
   },
   "outputs": [],
   "source": []
  }
 ],
 "metadata": {
  "kernelspec": {
   "display_name": "Python 3",
   "language": "python",
   "name": "python3"
  },
  "language_info": {
   "codemirror_mode": {
    "name": "ipython",
    "version": 3
   },
   "file_extension": ".py",
   "mimetype": "text/x-python",
   "name": "python",
   "nbconvert_exporter": "python",
   "pygments_lexer": "ipython3",
   "version": "3.7.12"
  },
  "papermill": {
   "default_parameters": {},
   "duration": 374.57955,
   "end_time": "2022-08-03T09:37:43.229144",
   "environment_variables": {},
   "exception": null,
   "input_path": "__notebook__.ipynb",
   "output_path": "__notebook__.ipynb",
   "parameters": {},
   "start_time": "2022-08-03T09:31:28.649594",
   "version": "2.3.4"
  }
 },
 "nbformat": 4,
 "nbformat_minor": 5
}
